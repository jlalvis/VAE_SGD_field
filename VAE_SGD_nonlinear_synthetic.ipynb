{
 "cells": [
  {
   "cell_type": "markdown",
   "metadata": {},
   "source": [
    "# VAE-SGD inversion for crosshole GPR synthetic data"
   ]
  },
  {
   "cell_type": "code",
   "execution_count": 1,
   "metadata": {},
   "outputs": [],
   "source": [
    "import os\n",
    "from pathlib import Path\n",
    "import numpy as np\n",
    "import torch\n",
    "from torch import nn\n",
    "import torch.optim as optim\n",
    "import random\n",
    "import time\n",
    "import matplotlib\n",
    "import matplotlib.pyplot as plt\n",
    "from julia.api import Julia\n",
    "jl = Julia(compiled_modules=False)"
   ]
  },
  {
   "cell_type": "code",
   "execution_count": 2,
   "metadata": {},
   "outputs": [],
   "source": [
    "# matplotlib configuration:\n",
    "params = {\n",
    "    #'text.latex.preamble': '\\\\usepackage{gensymb}',\n",
    "    'image.origin': 'lower',\n",
    "    #'image.interpolation': 'nearest',\n",
    "    #'image.cmap': 'gray',\n",
    "    #'axes.grid': False,\n",
    "    #'savefig.dpi': 150,  # to adjust notebook inline plot size\n",
    "    'axes.labelsize': 8, # fontsize for x and y labels (was 10)\n",
    "    'axes.titlesize': 8,\n",
    "    'font.size': 8, # was 10\n",
    "    'legend.fontsize': 6, # was 10\n",
    "    'xtick.labelsize': 8,\n",
    "    'ytick.labelsize': 8,\n",
    "    #'text.usetex': True,\n",
    "    #'figure.figsize': [3.39, 2.10],\n",
    "    #'font.family': 'serif',\n",
    "}\n",
    "matplotlib.rcParams.update(params)"
   ]
  },
  {
   "cell_type": "code",
   "execution_count": 3,
   "metadata": {},
   "outputs": [
    {
     "name": "stdout",
     "output_type": "stream",
     "text": [
      "Initializing Julia interpreter. This may take some time...\n"
     ]
    }
   ],
   "source": [
    "%load_ext julia.magic"
   ]
  },
  {
   "cell_type": "code",
   "execution_count": 4,
   "metadata": {},
   "outputs": [],
   "source": [
    "%matplotlib inline"
   ]
  },
  {
   "cell_type": "markdown",
   "metadata": {},
   "source": [
    "## Load data and define survey:"
   ]
  },
  {
   "cell_type": "code",
   "execution_count": 5,
   "metadata": {},
   "outputs": [],
   "source": [
    "workdir = '/home/jorge/Git_projs/VAE_SGD_field'\n",
    "os.chdir(workdir)"
   ]
  },
  {
   "cell_type": "code",
   "execution_count": 6,
   "metadata": {},
   "outputs": [
    {
     "name": "stdout",
     "output_type": "stream",
     "text": [
      "/home/jorge/.julia/dev/ParSpMatVec/deps/builds/ParSpMatVec\n"
     ]
    }
   ],
   "source": [
    "# Set domain and survey:\n",
    "cwid = 65\n",
    "chei = 129\n",
    "\n",
    "# Acquisition parameters\n",
    "bh_spacing = 3.25\n",
    "bh_length = 7.0\n",
    "sensor_spacing = 0.25\n",
    "starting_sensor = 1.0\n",
    "initial_depth = 0.55 # since the height resulting from the CNN is a bit larger, \n",
    "                     # later we could just ignore or crop the upper part.\n",
    "\n",
    "nrows = chei\n",
    "ncols = cwid\n",
    "n = np.array([nrows,ncols])\n",
    "Omega = np.array([initial_depth,bh_length,0.0,bh_spacing])\n",
    "\n",
    "h = (Omega[1::2]-Omega[0::2])/n\n",
    "\n",
    "# Since forward model is node-based, we rely on a shifted grid (nodes ar put in cell centers):\n",
    "OmegaNodal = Omega.copy(); OmegaNodal[0::2] += h/2; OmegaNodal[1::2] -= h/2;\n",
    "%julia using jInv.Mesh;\n",
    "%julia Mfwd = getRegularMesh($OmegaNodal,$n.-1);\n",
    "%julia Minv = getRegularMesh($Omega,$n);"
   ]
  },
  {
   "cell_type": "code",
   "execution_count": 7,
   "metadata": {},
   "outputs": [
    {
     "name": "stdout",
     "output_type": "stream",
     "text": [
      "[0.55, 7.0, 0.0, 3.25][0.05, 0.05]"
     ]
    }
   ],
   "source": [
    "# print domain limits and spatial discretization:\n",
    "%julia print(Minv.domain), print(Minv.h); "
   ]
  },
  {
   "cell_type": "code",
   "execution_count": 8,
   "metadata": {},
   "outputs": [
    {
     "name": "stdout",
     "output_type": "stream",
     "text": [
      "[0.575, 6.975, 0.025, 3.225][0.05, 0.05]"
     ]
    }
   ],
   "source": [
    "# print domain limits and spatial discretization:\n",
    "%julia print(Mfwd.domain), print(Mfwd.h); "
   ]
  },
  {
   "cell_type": "code",
   "execution_count": 9,
   "metadata": {},
   "outputs": [],
   "source": [
    "# Set sources and receivers:\n",
    "row_step = 5\n",
    "init_row = 9 # since the first sensor is at 1.0 m depth and we start from 0.55 m\n",
    "nsrc = 25 #nrows//row_step\n",
    "nrec = 25 #nrows//row_step\n",
    "%julia using SparseArrays; using FactoredEikonalFastMarching;\n",
    "%julia Q = spzeros($nrows*$ncols,$nsrc);\n",
    "%julia P = spzeros($nrows*$ncols,$nrec);\n",
    "%julia for j=1:$nsrc; Q[loc2cs($init_row+$row_step*(j-1),1,$n),j] = 1.0; P[loc2cs($init_row+$row_step*(j-1),$ncols,$n),j] = 1.0; end;"
   ]
  },
  {
   "cell_type": "code",
   "execution_count": 10,
   "metadata": {},
   "outputs": [
    {
     "name": "stdout",
     "output_type": "stream",
     "text": [
      "/home/jorge/.julia/dev/ParSpMatVec/deps/builds/ParSpMatVec\n",
      "hasParSpMatVec==false. ParSpMatVec has failed to build!!!!!!!\n",
      "/home/jorge/.julia/dev/Multigrid/src/ParallelJuliaSolver\n"
     ]
    }
   ],
   "source": [
    "%julia D = zeros($nrec,$nsrc);\n",
    "%julia using jInvSeismic.EikonalInv;\n",
    "%julia pEik = Array{EikonalParam}(undef,$nsrc);\n",
    "%julia pEik = EikonalInv.getEikonalInvParam(Mfwd,Q,P,true,false);"
   ]
  },
  {
   "cell_type": "code",
   "execution_count": 11,
   "metadata": {},
   "outputs": [],
   "source": [
    "# for plotting:\n",
    "x = np.linspace(0.0, bh_spacing, cwid+1)\n",
    "y = np.linspace(initial_depth, bh_length, chei+1)\n",
    "dx = (x[1]-x[0])/2.\n",
    "dy = (y[1]-y[0])/2.\n",
    "extent = [x[0]-dx, x[-1]+dx, y[-1]+dy, y[0]-dy]"
   ]
  },
  {
   "cell_type": "code",
   "execution_count": 12,
   "metadata": {},
   "outputs": [],
   "source": [
    "# Crop model for synthetic simulation:\n",
    "mvel = np.load('./training/synthmodel7.npy')\n",
    "mvel = 0.01 + 0.18*mvel\n",
    "#mvel = 0.07*np.ones((chei,cwid))\n",
    "m = 1.0/(mvel**2) # squared slowness"
   ]
  },
  {
   "cell_type": "code",
   "execution_count": 13,
   "metadata": {},
   "outputs": [
    {
     "data": {
      "text/plain": [
       "<matplotlib.colorbar.Colorbar at 0x7fea7c035a60>"
      ]
     },
     "execution_count": 13,
     "metadata": {},
     "output_type": "execute_result"
    },
    {
     "data": {
      "image/png": "[encoded data removed]",
      "text/plain": [
       "<Figure size 129.6x144 with 2 Axes>"
      ]
     },
     "metadata": {
      "needs_background": "light"
     },
     "output_type": "display_data"
    }
   ],
   "source": [
    "fig,ax = plt.subplots(figsize=(1.8,2))\n",
    "cb = ax.imshow(mvel,extent=extent,origin='upper',cmap='Greys')\n",
    "fig.colorbar(cb)"
   ]
  },
  {
   "cell_type": "code",
   "execution_count": 14,
   "metadata": {},
   "outputs": [
    {
     "name": "stdout",
     "output_type": "stream",
     "text": [
      "\n",
      "computation time: 00:00:01\n"
     ]
    }
   ],
   "source": [
    "# Compute traveltimes for constant model:\n",
    "t0 = time.time()\n",
    "%julia D, pEik = getData($m,pEik,false);\n",
    "tf = time.time()-t0\n",
    "stf = time.strftime(\"%H:%M:%S\", time.gmtime(tf))\n",
    "print('\\ncomputation time: {0}'.format(stf))"
   ]
  },
  {
   "cell_type": "code",
   "execution_count": 15,
   "metadata": {},
   "outputs": [],
   "source": [
    "# Copy simulated data to python variable:\n",
    "Dp = %julia D"
   ]
  },
  {
   "cell_type": "code",
   "execution_count": 16,
   "metadata": {},
   "outputs": [
    {
     "data": {
      "text/plain": [
       "<matplotlib.colorbar.Colorbar at 0x7fea74b16910>"
      ]
     },
     "execution_count": 16,
     "metadata": {},
     "output_type": "execute_result"
    },
    {
     "data": {
      "image/png": "[encoded data removed]",
      "text/plain": [
       "<Figure size 432x288 with 2 Axes>"
      ]
     },
     "metadata": {
      "needs_background": "light"
     },
     "output_type": "display_data"
    }
   ],
   "source": [
    "# One should be careful, since julia and python use different ordering (C-style or Fortran-style):\n",
    "Df = Dp.flatten(order='F')\n",
    "cb = plt.imshow(Df.reshape(25,25))\n",
    "plt.colorbar(cb)"
   ]
  },
  {
   "cell_type": "code",
   "execution_count": 17,
   "metadata": {},
   "outputs": [
    {
     "name": "stdout",
     "output_type": "stream",
     "text": [
      "[30.99378465 33.10935611 33.93330616 34.04736416 36.35135209 35.6671503\n",
      " 36.83231681 36.66616716 37.0114925  37.97112667]\n",
      "[0.47 0.47 0.47 0.47 0.47 0.47 0.47 0.47 0.47 0.47]\n",
      "80.54757310190865\n",
      "22.921093239687355\n"
     ]
    },
    {
     "data": {
      "text/plain": [
       "<matplotlib.image.AxesImage at 0x7fea74ae7c10>"
      ]
     },
     "execution_count": 17,
     "metadata": {},
     "output_type": "execute_result"
    },
    {
     "data": {
      "image/png": "[encoded data removed]",
      "text/plain": [
       "<Figure size 432x288 with 1 Axes>"
      ]
     },
     "metadata": {
      "needs_background": "light"
     },
     "output_type": "display_data"
    }
   ],
   "source": [
    "# set synthetic data as observed and add noise:\n",
    "ttdata = Df.copy()\n",
    "np.random.seed(0)\n",
    "ttdata = ttdata + 0.47*np.random.randn(len(ttdata))\n",
    "noise = 0.47*np.ones(len(ttdata))\n",
    "\n",
    "# Check correct loading:\n",
    "print(ttdata[:10])\n",
    "print(noise[:10])\n",
    "print(np.max(ttdata))\n",
    "print(np.min(ttdata))\n",
    "\n",
    "ndata = len(ttdata)\n",
    "\n",
    "fig,ax = plt.subplots()\n",
    "ax.imshow(ttdata.reshape(25,25))"
   ]
  },
  {
   "cell_type": "code",
   "execution_count": 18,
   "metadata": {},
   "outputs": [],
   "source": [
    "# create source and receiver index array (for getSensTMatVecbatch)\n",
    "srcind = np.arange(1,26)\n",
    "recind = np.arange(1,26)\n",
    "SRC,REC = np.meshgrid(srcind,recind)\n",
    "SRC = SRC.flatten(order='F')\n",
    "REC = REC.flatten(order='F')"
   ]
  },
  {
   "cell_type": "code",
   "execution_count": 19,
   "metadata": {},
   "outputs": [],
   "source": [
    "# Add constrain for valid data\n",
    "v = np.zeros(nsrc*nrec)\n",
    "for i in np.arange(len(v)):\n",
    "    cd = np.abs(SRC[i]-(REC[i]))\n",
    "    if cd < 8: #14:\n",
    "        v[i] = 1\n",
    "    if SRC[i] in [1,2]: # take out measurements for depth < 1.75 m\n",
    "        v[i] = 0\n",
    "    if REC[i] in [1,2]: # take out measurements for depth < 1.75 m \n",
    "        v[i] = 0"
   ]
  },
  {
   "cell_type": "code",
   "execution_count": 20,
   "metadata": {},
   "outputs": [
    {
     "data": {
      "image/png": "[encoded data removed]",
      "text/plain": [
       "<Figure size 432x288 with 1 Axes>"
      ]
     },
     "metadata": {
      "needs_background": "light"
     },
     "output_type": "display_data"
    }
   ],
   "source": [
    "# Create mask for invalid data (high offset):\n",
    "mskdum = np.reshape(v,(25,25),order='F')\n",
    "mskdum = np.array(mskdum,dtype=bool)\n",
    "mskdum = np.invert(mskdum)\n",
    "ttvmasked = np.ma.array(Dp,mask=mskdum)\n",
    "\n",
    "# Plot masked data:\n",
    "fig,ax = plt.subplots()\n",
    "ax.imshow(ttvmasked)\n",
    "\n",
    "# Save masked indices for later data batching:\n",
    "mskdumflat = mskdum.flatten()\n",
    "indtomsk = np.arange(0,625)\n",
    "indsmasked = indtomsk[~mskdumflat]"
   ]
  },
  {
   "cell_type": "code",
   "execution_count": 21,
   "metadata": {},
   "outputs": [
    {
     "data": {
      "text/plain": [
       "(289,)"
      ]
     },
     "execution_count": 21,
     "metadata": {},
     "output_type": "execute_result"
    }
   ],
   "source": [
    "indsmasked.shape # check number of valid data"
   ]
  },
  {
   "cell_type": "code",
   "execution_count": 22,
   "metadata": {},
   "outputs": [
    {
     "data": {
      "text/plain": [
       "(625,)"
      ]
     },
     "execution_count": 22,
     "metadata": {},
     "output_type": "execute_result"
    }
   ],
   "source": [
    "# Get a vector of ones only in masked values (to compute \"coverage\" or total sensitivity)\n",
    "onesmasked = ~mskdumflat\n",
    "onesmasked.shape"
   ]
  },
  {
   "cell_type": "markdown",
   "metadata": {},
   "source": [
    "## Check sensitivity of forward model:"
   ]
  },
  {
   "cell_type": "code",
   "execution_count": 23,
   "metadata": {},
   "outputs": [],
   "source": [
    "# Compute J'v, where J' is the transposed Jacobian and v is the previously mentioned vector of ones.\n",
    "%julia onedum = $onesmasked; mdum = reshape($m,length($m)); Jv = getSensTMatVec(onedum,mdum,pEik);"
   ]
  },
  {
   "cell_type": "code",
   "execution_count": 24,
   "metadata": {},
   "outputs": [],
   "source": [
    "# Copy J'v to python variable:\n",
    "Jvp = %julia Jv"
   ]
  },
  {
   "cell_type": "code",
   "execution_count": 25,
   "metadata": {},
   "outputs": [
    {
     "data": {
      "text/plain": [
       "<matplotlib.colorbar.Colorbar at 0x7fea749ea490>"
      ]
     },
     "execution_count": 25,
     "metadata": {},
     "output_type": "execute_result"
    },
    {
     "data": {
      "image/png": "[encoded data removed]",
      "text/plain": [
       "<Figure size 129.6x144 with 2 Axes>"
      ]
     },
     "metadata": {
      "needs_background": "light"
     },
     "output_type": "display_data"
    }
   ],
   "source": [
    "# Plot total sensitivity (only for valid data):\n",
    "fig,ax = plt.subplots(figsize=(1.8,2))\n",
    "Jack2 = Jvp.reshape(129,65,order='F')\n",
    "Jack = 2*(1/mvel)*Jack2\n",
    "#Jacv = Jack2*(2/mvel**3)\n",
    "vmax,vmin = 2.5,-0.2\n",
    "cpj = ax.imshow(Jack,extent=extent,origin='upper',vmax=vmax,vmin=vmin)\n",
    "fig.colorbar(cpj)"
   ]
  },
  {
   "cell_type": "code",
   "execution_count": 26,
   "metadata": {},
   "outputs": [],
   "source": [
    "# Get J'v for only one source:\n",
    "%julia onedum = zeros($nrec*$nsrc); onedum[2]=1.0; mdum = reshape($m,length($m)); Jrow = getSensTMatVec(onedum,mdum,pEik);"
   ]
  },
  {
   "cell_type": "code",
   "execution_count": 27,
   "metadata": {},
   "outputs": [],
   "source": [
    "Jrowp = %julia Jrow"
   ]
  },
  {
   "cell_type": "code",
   "execution_count": 28,
   "metadata": {},
   "outputs": [
    {
     "data": {
      "text/plain": [
       "<matplotlib.colorbar.Colorbar at 0x7fea748eb3d0>"
      ]
     },
     "execution_count": 28,
     "metadata": {},
     "output_type": "execute_result"
    },
    {
     "data": {
      "image/png": "[encoded data removed]",
      "text/plain": [
       "<Figure size 432x288 with 2 Axes>"
      ]
     },
     "metadata": {
      "needs_background": "light"
     },
     "output_type": "display_data"
    }
   ],
   "source": [
    "fig, ax = plt.subplots()\n",
    "cpj = ax.imshow(Jrowp.reshape(chei,cwid,order='F'),extent=extent,origin='upper')\n",
    "fig.colorbar(cpj)"
   ]
  },
  {
   "cell_type": "code",
   "execution_count": 29,
   "metadata": {},
   "outputs": [],
   "source": [
    "# Import a module where the function was partially rewritten to allow for data batching:\n",
    "%julia include(\"getSensTMatVecbatch.jl\");"
   ]
  },
  {
   "cell_type": "code",
   "execution_count": 30,
   "metadata": {},
   "outputs": [],
   "source": [
    "# Select a few data (by specifying source and receiver number):\n",
    "#SRCtest = SRC[[1,26,54]]\n",
    "#RECtest = REC[[1,3,5]]\n",
    "SRCtest = SRC[[54]]\n",
    "RECtest = REC[[8]]\n",
    "%julia onedum = ones($nrec*$nsrc); mdum = reshape($m,length($m)); Jtest = getSensTMatVecbatch(onedum,$SRCtest,$RECtest,pEik);"
   ]
  },
  {
   "cell_type": "code",
   "execution_count": 31,
   "metadata": {},
   "outputs": [],
   "source": [
    "Jtestp = %julia Jtest"
   ]
  },
  {
   "cell_type": "code",
   "execution_count": 32,
   "metadata": {},
   "outputs": [
    {
     "data": {
      "text/plain": [
       "<matplotlib.colorbar.Colorbar at 0x7fea749498b0>"
      ]
     },
     "execution_count": 32,
     "metadata": {},
     "output_type": "execute_result"
    },
    {
     "data": {
      "image/png": "[encoded data removed]",
      "text/plain": [
       "<Figure size 129.6x144 with 2 Axes>"
      ]
     },
     "metadata": {
      "needs_background": "light"
     },
     "output_type": "display_data"
    }
   ],
   "source": [
    "fig, ax = plt.subplots(figsize=(1.8,2))\n",
    "Jack2testp = Jtestp.reshape(chei,cwid,order='F')\n",
    "Jacktestp = 2*(1/mvel)*Jack2testp\n",
    "vmin,vmax = -0.02,0.07\n",
    "cpj = ax.imshow(Jacktestp.reshape(chei,cwid,order='F'),extent=extent,origin='upper',vmin=vmin,vmax=vmax)\n",
    "fig.colorbar(cpj)"
   ]
  },
  {
   "cell_type": "markdown",
   "metadata": {},
   "source": [
    "## Load trained VAE and perform VAE-SGD inversion:"
   ]
  },
  {
   "cell_type": "code",
   "execution_count": 33,
   "metadata": {},
   "outputs": [],
   "source": [
    "# check if GPU is available\n",
    "#device = torch.device('cuda:0' if torch.cuda.is_available() else 'cpu')\n",
    "\n",
    "# !! Here we do not use GPU for generation since it does not provide noticeable computational gain,\n",
    "#    however for larger models it should be useful.\n",
    "device = 'cpu'\n",
    "cuda = False\n",
    "# Define the latent space dimension:\n",
    "z_dim = 40\n",
    "\n",
    "# Settings for multi-CPU or GPU:\n",
    "kwargs = {'num_workers': 1, 'pin_memory': True} if torch.cuda.is_available() else {}\n",
    "if str(device) == 'cuda':\n",
    "    cuda=True\n",
    "else:\n",
    "    cuda=False\n",
    "\n",
    "# String to load the different cases of trained VAE:\n",
    "casestr = 'tl2ts2'\n",
    "\n",
    "# Load the VAE already trained:\n",
    "os.chdir('training')\n",
    "from autoencoder_ReLU import VAE\n",
    "gpath = 'VAE100eps40_{0}.pth'.format(casestr)\n",
    "dnnmodel = VAE(cuda=cuda, gpath=gpath,z_dim=z_dim)\n",
    "for param in dnnmodel.parameters():\n",
    "    param.requires_grad = False\n",
    "dnnmodel.to(device)\n",
    "dnnmodel.eval() # set evaluation mode (as opposed to training mode).\n",
    "netG = dnnmodel.decode\n",
    "os.chdir(workdir)"
   ]
  },
  {
   "cell_type": "code",
   "execution_count": 34,
   "metadata": {},
   "outputs": [],
   "source": [
    "# Main function for SGD-VAE inversion\n",
    "# Note: since it relies in both python and julia, it was easier to define it here than to load as a module,\n",
    "# however there might 'cleaner' ways to do it than the one used here. Sorry for the long cell...\n",
    "from dataclasses import dataclass\n",
    "from scipy.stats import chi\n",
    "\n",
    "@dataclass\n",
    "class SGDsetup:\n",
    "    epochs: int = 1\n",
    "    batch_size: int = 1\n",
    "    lr: float = 1e-4\n",
    "    clr: float = 1.0\n",
    "    ninits: int = 1\n",
    "    zinit: np.ndarray = np.zeros(1)\n",
    "    velinit: np.array = np.array([0.05,0.15])\n",
    "    gen: nn.Module = None\n",
    "    fwd: str = ''\n",
    "    A: np.ndarray = np.zeros(1)\n",
    "    #tt: str = None\n",
    "    d: np.ndarray = np.zeros(1)\n",
    "    #clip: str = ''\n",
    "    reg: str = ''\n",
    "    #alpha: float = 0.0\n",
    "    lam: float = 0.0\n",
    "    clam: float = 1.0\n",
    "    device: str = ''\n",
    "    step_eps: int = 1\n",
    "    DGM: str = 'VAE'\n",
    "    optimizer: str = 'SGD'\n",
    "    truemodel: np.ndarray = np.zeros(1)\n",
    "\n",
    "def SGD_ninits(setup):\n",
    "    \"\"\"Perform stochastic gradiend descent for a number of initial models.\n",
    "    Arguments:\n",
    "    setup -- SGDsetup object which contains SGD parameters.\n",
    "    \"\"\"\n",
    "    print_SGDsetup(setup)\n",
    "    dRMSEs = []\n",
    "    models_costmin = []\n",
    "    zs_hist = []\n",
    "    mRMSEs = []\n",
    "    vel_hist = []\n",
    "    for j in range(setup.ninits):\n",
    "        # call SGD_DGM_linear with one initial model:\n",
    "        zi = setup.zinit[j]\n",
    "        dloss, mloss, modelmin, vels, zs = SGD_DGM(setup,zi)\n",
    "        dRMSEs.append(np.sqrt(np.array(dloss)/len(indsmasked)))\n",
    "        models_costmin.append(modelmin)\n",
    "        vel_hist.append(vels)\n",
    "        zs_hist.append(zs)\n",
    "        mRMSEs.append(mloss)\n",
    "        minit = np.argmin(dRMSEs[-1])\n",
    "        print('init: {0}, dRMSE: {1:.4f}, mRMSE: {2:.4f}, ||z||: {3:.4f}'.format(j, \n",
    "              dRMSEs[-1][minit], mRMSEs[-1][minit], np.linalg.norm(zs_hist[-1][minit])))\n",
    "\n",
    "    return dRMSEs,mRMSEs,models_costmin,vel_hist,zs_hist\n",
    "\n",
    "def SGD_DGM(setup,zi):\n",
    "    \"\"\"Perform stochastic gradiend descent for one model and a linear forward operator.\n",
    "    Arguments:\n",
    "    setup -- SGDsetup object which contains SGD parameters.\n",
    "    zi -- initial model as np.ndarray.\n",
    "    \"\"\"\n",
    "    #optimizer = optim.Adam([z], lr=lr)\n",
    "    nz = setup.zinit.shape[1]\n",
    "    if setup.DGM == 'VAE':\n",
    "        z = 1.0*torch.zeros([1, nz]).to(setup.device)\n",
    "        z.data = torch.Tensor(zi.reshape(1,-1)).to(setup.device) # set initial latent vector\n",
    "        \n",
    "    z.requires_grad = True\n",
    "    #rvel = np.array([0.01,0.18])\n",
    "    rvel = setup.velinit # set initial values for linear velocity model\n",
    "    #rvel.requires_grad = True    \n",
    "    ndata = len(setup.d)\n",
    "    nvpix = 129*65\n",
    "    nz = z.numel()\n",
    "    lam = setup.lam\n",
    "    lr = setup.lr\n",
    "    #sg_its = ndata//setup.batch_size\n",
    "    sg_its = len(indsmasked)//setup.batch_size # use only valid data\n",
    "    truemodel = setup.truemodel\n",
    "    dloss = []\n",
    "    zs = []\n",
    "    vels = []\n",
    "    mloss = []\n",
    "    # set torch optimizer:\n",
    "    if setup.optimizer == \"SGD\":\n",
    "        optimizer = optim.SGD([z], lr=setup.lr)#, momentum=0.5)\n",
    "    elif setup.optimizer == 'Adam':\n",
    "        optimizer = optim.Adam([z], lr=setup.lr)\n",
    "    # send computation vectors to device:\n",
    "    d = torch.Tensor(setup.d).to(setup.device)\n",
    "    A = torch.Tensor(setup.A).to(setup.device)\n",
    "    #tt = setup.tt\n",
    "    chidist = chi(nz) # Chi-distribution with nz degrees of freedom\n",
    "    mchi = chidist.mean()\n",
    "    #print('mchi: {}'.format(mchi))\n",
    "    zs.append(np.copy(z.data.cpu().numpy())) # save initial z\n",
    "    vels.append(rvel) # save initial velocity vector\n",
    "    for it in range(setup.epochs): \n",
    "        mask = np.zeros(ndata, dtype=bool) # initiliaze mask for data batching\n",
    "        mask[indsmasked] = True # set only valid data\n",
    "        inds_init = np.arange(0,ndata)\n",
    "        inds_left = np.copy(indsmasked)\n",
    "        for sg in range(sg_its):\n",
    "            #fig,ax = plt.subplots(1,2)\n",
    "            # get data batch indices:\n",
    "            rand_outs = np.random.choice(len(inds_left),setup.batch_size,replace=False)\n",
    "            inds_batch = inds_left[rand_outs]\n",
    "            mask[inds_batch] = False # take out indices of current batch from mask\n",
    "            #plt.imshow(mask.reshape(25,25))\n",
    "            inds_left = inds_init[mask] # take out indices of current batch\n",
    "            #print(inds_left)\n",
    "            #print('indsleft len: {}'.format(len(inds_left)))\n",
    "\n",
    "            # Produce model from z\n",
    "            x0 = setup.gen(z)\n",
    "            \n",
    "            x=np.copy(x0.data.cpu().numpy()) # copy x into numpy array.\n",
    "            #plt.imshow(x.reshape(129,65))\n",
    "            v_model = rvel[0] + rvel[1]*(x0)\n",
    "            vmc = np.copy(v_model.data.cpu().numpy())\n",
    "            s_model=1/v_model\n",
    "\n",
    "            if setup.fwd == 'nonlinear':\n",
    "                s_m = s_model.detach().cpu().numpy()\n",
    "                mslowsq = np.array(s_m**2,dtype=np.float64)\n",
    "                # get traveltimes:\n",
    "                %julia simj, pEik = getData($mslowsq,pEik,false);\n",
    "                sim = %julia simj\n",
    "                sim = sim.flatten(order='F')\n",
    "                sim = torch.Tensor(sim).to(setup.device)\n",
    "                lv = -2*(s_m.flatten(order='F')**3)*np.ones([nvpix]) # derivative of squared slowness w.r.t. lower limit of velocity\n",
    "                ul = -2*(s_m.flatten(order='F')**3)*(x.flatten(order='F'))\n",
    "                lv = np.array(lv,dtype=np.float64)\n",
    "                ul = np.array(ul,dtype=np.float64)\n",
    "                # get Jacobian for linear velocity parameters:\n",
    "                %julia mdum = reshape($mslowsq,length($mslowsq)); Kvj1 = getSensMatVec($lv,mdum,pEik);\n",
    "                %julia mdum = reshape($mslowsq,length($mslowsq)); Kvj2 = getSensMatVec($ul,mdum,pEik);\n",
    "                Kv1 = %julia Kvj1\n",
    "                Kv2 = %julia Kvj2\n",
    "                Kv = np.concatenate([Kv1.reshape((-1,1)),Kv2.reshape((-1,1))],axis=1)\n",
    "                Ksgd = Kv[inds_batch]\n",
    "                    \n",
    "            elif setup.fwd == 'linear':\n",
    "                sim=torch.mv(A,s_model.flatten())\n",
    "            \n",
    "            e=d[inds_batch]-sim[inds_batch] # get residuals for batch\n",
    "            ec=d-sim # get residuals for complete data (including invalid)\n",
    "            databatch_loss = torch.sum(e**2)\n",
    "            optimizer.zero_grad()\n",
    "            \n",
    "            if setup.fwd == 'linear':\n",
    "                databatch_loss.backward()\n",
    "            elif setup.fwd == 'nonlinear':\n",
    "                ec = ec.detach().cpu().numpy()\n",
    "                SRCb = SRC[inds_batch]\n",
    "                RECb = REC[inds_batch]\n",
    "                # get Jacobian only for data batch:\n",
    "                %julia gradj = getSensTMatVecbatch($ec,$SRCb,$RECb,pEik);\n",
    "                grad = %julia gradj\n",
    "                grad = grad.reshape((129,65),order='F')\n",
    "                grad = grad.flatten()\n",
    "                grad = -2*(s_m.flatten()**3)*grad # gradient computed w.r.t. velocity instead of squared slowness\n",
    "                grad = -torch.Tensor(grad)\n",
    "                gradvel = np.matmul(-Ksgd.T,e.T.detach().cpu().numpy()) # gradient for velocity parameters\n",
    "                x0.backward(grad.reshape(x0.shape).to(setup.device)) # compute gradients w.r.t. latent vector\n",
    "\n",
    "            reg_loss = 0.0\n",
    "            if setup.reg=='origin':\n",
    "                reg_loss = lam*torch.norm(z)**2 # regularization (Bora et al., 2017)\n",
    "                reg_loss.backward()\n",
    "            if setup.reg=='ring':\n",
    "                reg_loss = lam*(torch.norm(z)-mchi)**2 # regularization to most common patterns\n",
    "                reg_loss.backward()\n",
    "\n",
    "            optimizer.step() # gradient step in latent space\n",
    "            print(rvel)\n",
    "            print('vmax = {}, vmin = {}'.format(np.max(1/s_m),np.min(1/s_m)))\n",
    "            curlr = optimizer.param_groups[0]['lr']\n",
    "            print('lr = {}, lam = {}'.format(curlr,lam))\n",
    "            #if it>5:\n",
    "            rvel = rvel - 1e-4*curlr*gradvel # gradient step for linear velocity parameters\n",
    "            \n",
    "            if not ((sg_its*it+sg+1)%setup.step_eps): # update lr and lam every \"step_eps\" iterations.\n",
    "                lam = setup.clam*lam\n",
    "                #lr = setup.clr*lr\n",
    "                for param_group in optimizer.param_groups:\n",
    "                    param_group['lr'] = setup.clr*curlr\n",
    "\n",
    "            data_loss = torch.sum((d[indsmasked]-sim[indsmasked])**2) # SSE for valid data\n",
    "            total_cost = data_loss + reg_loss\n",
    "            \n",
    "            model_loss = np.sqrt(np.mean((truemodel.flatten() - vmc.flatten())**2)) # w.r.t to zero (constant) model\n",
    "            \n",
    "            if sg_its*it+sg==0: cost_min = total_cost.item()\n",
    "\n",
    "            if total_cost.item()<=cost_min: # check if it is minimum cost\n",
    "                cost_min = total_cost.item()\n",
    "                modelmin = np.copy(x[0,0,:,:]) # 'decoded' model is saved only for minimum.\n",
    "\n",
    "            # to save results:\n",
    "            dloss.append(data_loss.detach().cpu().numpy())\n",
    "            zs.append(np.copy(z.data.cpu().numpy()))\n",
    "            vels.append(rvel)\n",
    "            mloss.append(model_loss)\n",
    "\n",
    "            if setup.fwd == 'nonlinear':\n",
    "                print('it: {0}, RMSE: {1}, znorm: {2}'.format(sg_its*it+sg, \n",
    "                      np.sqrt(data_loss.detach().cpu()/len(indsmasked)), np.linalg.norm(zs[-2])))\n",
    "    \n",
    "    # Compute RMSE for last iteration:\n",
    "    x0 = setup.gen(z)\n",
    "    x=np.copy(x0.data.cpu().numpy()) # copy x into numpy array.\n",
    "    v_model = rvel[0] + rvel[1]*(x0)\n",
    "    vmc = np.copy(v_model.data.cpu().numpy())\n",
    "    s_model=1/v_model\n",
    "    \n",
    "    if setup.fwd == 'nonlinear':\n",
    "        s_m = s_model.detach().cpu().numpy()\n",
    "        mslowsq = np.array(s_m**2,dtype=np.float64)\n",
    "        %julia simj, pEik = getData($mslowsq,pEik,false);\n",
    "        sim = %julia simj\n",
    "        sim = sim.flatten(order='F')\n",
    "        sim = torch.Tensor(sim).to(setup.device)\n",
    "        \n",
    "        \n",
    "    elif setup.fwd == 'linear':\n",
    "        sim=torch.mv(A,s_model.flatten())\n",
    "        \n",
    "    data_loss = torch.sum((d[indsmasked]-sim[indsmasked])**2)\n",
    "    model_loss = np.sqrt(np.mean((truemodel.flatten() - vmc.flatten())**2))\n",
    "    \n",
    "    dloss.append(data_loss.detach().cpu().numpy())\n",
    "    mloss.append(model_loss)\n",
    "    \n",
    "    if setup.fwd == 'nonlinear':\n",
    "        print('it: {0}, RMSE: {1}, znorm: {2}'.format(sg_its*it+sg+1, \n",
    "              np.sqrt(data_loss.detach().cpu()/len(indsmasked)), np.linalg.norm(zs[-1])))\n",
    "            \n",
    "    return dloss, mloss, modelmin, vels, zs\n",
    "\n",
    "def print_SGDsetup(setup):\n",
    "    ndata = len(indsmasked)\n",
    "    sg_its = ndata//setup.batch_size\n",
    "    its = setup.epochs*(sg_its)\n",
    "    v = (\"DGM: {0}, epochs: {1}, iterations: {2}, batch_size: {3}, step_eps: {4} \\n\"\n",
    "    \"lr: {5:.1e},  clr: {6:.3f}, reg: {7}, lam: {8:.1e},  clam: {9:.3f}, optimizer: {10} \\n\").format(setup.DGM,\n",
    "         setup.epochs,its,setup.batch_size,setup.step_eps,setup.lr,setup.clr,setup.reg,setup.lam,setup.clam,\n",
    "         setup.optimizer)\n",
    "    print(v)"
   ]
  },
  {
   "cell_type": "markdown",
   "metadata": {},
   "source": [
    "Perform SGD for several initial models:"
   ]
  },
  {
   "cell_type": "code",
   "execution_count": 35,
   "metadata": {},
   "outputs": [],
   "source": [
    "# set global constants\n",
    "SGDpars = SGDsetup() # initialize data object containing SGD parameters\n",
    "SGDpars.d = ttdata # \"true\" data (with or without added noise)\n",
    "SGDpars.ninits = 1 # number of initial models to test for convergence (for inversion of a single model set to 1)\n",
    "SGDpars.fwd = 'nonlinear' # either: 'linear' or 'nonlinear'\n",
    "SGDpars.device = device # device to use with pytorch"
   ]
  },
  {
   "cell_type": "code",
   "execution_count": 36,
   "metadata": {},
   "outputs": [],
   "source": [
    "# Different ways to define the initial model(s):\n",
    "\n",
    "# Directly from a Normal distribution of size z_dim:\n",
    "#zin = np.random.randn(1,z_dim)\n",
    "\n",
    "# Sampling from a \"ring\" in the most common patterns, as defined by the mean of a Chi-distribution:\n",
    "#chidist = chi(z_dim)\n",
    "#mchi = chidist.mean()\n",
    "#stdchi = chidist.std()\n",
    "#radvec = np.random.rand(1,z_dim)\n",
    "#radvecunit = radvec/np.linalg.norm(radvec)\n",
    "#zin = mchi*radvecunit#+stdchi*np.random.randn()\n",
    "\n",
    "# Loading an array with samples of the correct size\n",
    "runint = 8\n",
    "zin = np.load('zinit_d40s100.npy') # dimensions: number of samples x latent space dimension\n",
    "zin = zin[runint].reshape(1,-1)"
   ]
  },
  {
   "cell_type": "code",
   "execution_count": 37,
   "metadata": {},
   "outputs": [
    {
     "name": "stdout",
     "output_type": "stream",
     "text": [
      "DGM: VAE, epochs: 20, iterations: 300, batch_size: 19, step_eps: 3 \n",
      "lr: 5.0e-03,  clr: 0.990, reg: origin, lam: 1.0e+02,  clam: 0.850, optimizer: SGD \n",
      "\n",
      "[0.01 0.18]\n",
      "vmax = 0.13735821843147278, vmin = 0.06257817894220352\n",
      "lr = 0.005, lam = 100\n",
      "it: 0, RMSE: 10.77029037475586, znorm: 6.285154342651367\n",
      "[0.04309458 0.19272587]\n",
      "vmax = 0.2110755443572998, vmin = 0.10513424873352051\n",
      "lr = 0.005, lam = 100\n",
      "it: 1, RMSE: 11.75656509399414, znorm: 16.03313446044922\n",
      "[0.03310196 0.18591516]\n",
      "vmax = 0.1217833161354065, vmin = 0.08911539614200592\n",
      "lr = 0.005, lam = 100\n",
      "it: 2, RMSE: 6.956154823303223, znorm: 1.1295863389968872\n",
      "[0.04423814 0.18952623]\n",
      "vmax = 0.17761832475662231, vmin = 0.09557559341192245\n",
      "lr = 0.00495, lam = 85.0\n",
      "it: 3, RMSE: 7.637721538543701, znorm: 3.95009708404541\n",
      "[0.03249556 0.18398581]\n",
      "vmax = 0.11011551320552826, vmin = 0.0772346705198288\n",
      "lr = 0.00495, lam = 85.0\n",
      "it: 4, RMSE: 6.817262649536133, znorm: 7.822589874267578\n",
      "[0.04403993 0.18780811]\n",
      "vmax = 0.1391148865222931, vmin = 0.0975821241736412\n",
      "lr = 0.00495, lam = 85.0\n",
      "it: 5, RMSE: 4.703863620758057, znorm: 2.0625498294830322\n",
      "[0.04211078 0.187357  ]\n",
      "vmax = 0.16914653778076172, vmin = 0.0931185856461525\n",
      "lr = 0.0049005, lam = 72.25\n",
      "it: 6, RMSE: 4.406528949737549, znorm: 2.6906661987304688\n",
      "[0.03785916 0.18569996]\n",
      "vmax = 0.1541527509689331, vmin = 0.07998286187648773\n",
      "lr = 0.0049005, lam = 72.25\n",
      "it: 7, RMSE: 6.715398788452148, znorm: 3.469080924987793\n",
      "[0.03643846 0.18470956]\n",
      "vmax = 0.11447641253471375, vmin = 0.08512422442436218\n",
      "lr = 0.0049005, lam = 72.25\n",
      "it: 8, RMSE: 5.8371076583862305, znorm: 3.4751648902893066\n",
      "[0.0421406 0.1867545]\n",
      "vmax = 0.17448095977306366, vmin = 0.09808437526226044\n",
      "lr = 0.004851495, lam = 61.4125\n",
      "it: 9, RMSE: 5.3193769454956055, znorm: 3.156601905822754\n",
      "[0.03727886 0.18468436]\n",
      "vmax = 0.154751256108284, vmin = 0.08832186460494995\n",
      "lr = 0.004851495, lam = 61.4125\n",
      "it: 10, RMSE: 5.1986613273620605, znorm: 2.248804807662964\n",
      "[0.03921365 0.18512602]\n",
      "vmax = 0.15772129595279694, vmin = 0.0909334048628807\n",
      "lr = 0.004851495, lam = 61.4125\n",
      "it: 11, RMSE: 5.597846508026123, znorm: 3.255747079849243\n",
      "[0.0377186  0.18386593]\n",
      "vmax = 0.10853639990091324, vmin = 0.08216241002082825\n",
      "lr = 0.00480298005, lam = 52.200625\n",
      "it: 12, RMSE: 6.359188079833984, znorm: 4.369260787963867\n",
      "[0.0495118  0.18770581]\n",
      "vmax = 0.13104036450386047, vmin = 0.09829654544591904\n",
      "lr = 0.00480298005, lam = 52.200625\n",
      "it: 13, RMSE: 5.544869899749756, znorm: 2.6353261470794678\n",
      "[0.04142811 0.1849037 ]\n",
      "vmax = 0.131749227643013, vmin = 0.09276781976222992\n",
      "lr = 0.00480298005, lam = 52.200625\n",
      "it: 14, RMSE: 4.786509037017822, znorm: 3.403831720352173\n",
      "[0.04325723 0.18556234]\n",
      "vmax = 0.1438872218132019, vmin = 0.09387323260307312\n",
      "lr = 0.0047549502495, lam = 44.37053125\n",
      "it: 15, RMSE: 4.134673118591309, znorm: 2.2979023456573486\n",
      "[0.04369983 0.18594992]\n",
      "vmax = 0.16808539628982544, vmin = 0.09477193653583527\n",
      "lr = 0.0047549502495, lam = 44.37053125\n",
      "it: 16, RMSE: 4.723283290863037, znorm: 2.7965445518493652\n",
      "[0.03729218 0.18342646]\n",
      "vmax = 0.10721952468156815, vmin = 0.08698616921901703\n",
      "lr = 0.0047549502495, lam = 44.37053125\n",
      "it: 17, RMSE: 6.23588228225708, znorm: 2.243283987045288\n",
      "[0.04363387 0.18551232]\n",
      "vmax = 0.1475716084241867, vmin = 0.09491640329360962\n",
      "lr = 0.004707400747005, lam = 37.7149515625\n",
      "it: 18, RMSE: 4.511471271514893, znorm: 2.3247241973876953\n",
      "[0.03954201 0.18428746]\n",
      "vmax = 0.1691156029701233, vmin = 0.09074826538562775\n",
      "lr = 0.004707400747005, lam = 37.7149515625\n",
      "it: 19, RMSE: 4.627437114715576, znorm: 3.4975197315216064\n",
      "[0.03978741 0.18391445]\n",
      "vmax = 0.15108126401901245, vmin = 0.09012117981910706\n",
      "lr = 0.004707400747005, lam = 37.7149515625\n",
      "it: 20, RMSE: 3.906144142150879, znorm: 2.5202488899230957\n",
      "[0.0441323  0.18560788]\n",
      "vmax = 0.20433586835861206, vmin = 0.09643670916557312\n",
      "lr = 0.00466032673953495, lam = 32.057708828124994\n",
      "it: 21, RMSE: 6.692241668701172, znorm: 5.66755485534668\n",
      "[0.03541553 0.18132766]\n",
      "vmax = 0.15776942670345306, vmin = 0.08515366911888123\n",
      "lr = 0.00466032673953495, lam = 32.057708828124994\n",
      "it: 22, RMSE: 4.172610759735107, znorm: 3.4199509620666504\n",
      "[0.03574753 0.18135411]\n",
      "vmax = 0.14602349698543549, vmin = 0.08685560524463654\n",
      "lr = 0.00466032673953495, lam = 32.057708828124994\n",
      "it: 23, RMSE: 3.3879454135894775, znorm: 2.8902058601379395\n",
      "[0.03479457 0.18123556]\n",
      "vmax = 0.16220346093177795, vmin = 0.08503296226263046\n",
      "lr = 0.0046137234721396, lam = 27.249052503906245\n",
      "it: 24, RMSE: 3.555893659591675, znorm: 3.4515817165374756\n",
      "[0.03185095 0.18024051]\n",
      "vmax = 0.15594077110290527, vmin = 0.0811995416879654\n",
      "lr = 0.0046137234721396, lam = 27.249052503906245\n",
      "it: 25, RMSE: 3.9798576831817627, znorm: 3.6208436489105225\n",
      "[0.02862771 0.17887896]\n",
      "vmax = 0.15907832980155945, vmin = 0.0785590410232544\n",
      "lr = 0.0046137234721396, lam = 27.249052503906245\n",
      "it: 26, RMSE: 6.385006904602051, znorm: 5.051382064819336\n",
      "[0.03999228 0.18175981]\n",
      "vmax = 0.16937312483787537, vmin = 0.0892907977104187\n",
      "lr = 0.004567586237418204, lam = 23.16169462832031\n",
      "it: 27, RMSE: 4.993326187133789, znorm: 4.588376998901367\n",
      "[0.03071173 0.17761603]\n",
      "vmax = 0.09930425882339478, vmin = 0.07813587784767151\n",
      "lr = 0.004567586237418204, lam = 23.16169462832031\n",
      "it: 28, RMSE: 7.807748317718506, znorm: 3.166548013687134\n",
      "[0.05481727 0.1857778 ]\n",
      "vmax = 0.18999353051185608, vmin = 0.10543599724769592\n",
      "lr = 0.004567586237418204, lam = 23.16169462832031\n",
      "it: 29, RMSE: 9.095816612243652, znorm: 4.931623458862305\n",
      "[0.04361044 0.18022225]\n",
      "vmax = 0.11100783199071884, vmin = 0.08762769401073456\n",
      "lr = 0.004521910375044022, lam = 19.68744043407226\n",
      "it: 30, RMSE: 5.398043632507324, znorm: 3.645502805709839\n",
      "[0.04986879 0.1821889 ]\n",
      "vmax = 0.12038501352071762, vmin = 0.09858159720897675\n",
      "lr = 0.004521910375044022, lam = 19.68744043407226\n",
      "it: 31, RMSE: 4.910438060760498, znorm: 3.1556103229522705\n",
      "[0.05072387 0.18263222]\n",
      "vmax = 0.14649394154548645, vmin = 0.10093536972999573\n",
      "lr = 0.004521910375044022, lam = 19.68744043407226\n",
      "it: 32, RMSE: 4.62760066986084, znorm: 3.170562505722046\n",
      "[0.04509357 0.18085874]\n",
      "vmax = 0.12200023233890533, vmin = 0.09572246670722961\n",
      "lr = 0.004476691271293582, lam = 16.73432436896142\n",
      "it: 33, RMSE: 4.186892986297607, znorm: 2.8184618949890137\n",
      "[0.04853093 0.18215767]\n",
      "vmax = 0.1653912365436554, vmin = 0.09921693801879883\n",
      "lr = 0.004476691271293582, lam = 16.73432436896142\n",
      "it: 34, RMSE: 4.769987106323242, znorm: 3.1739301681518555\n",
      "[0.03824073 0.17863685]\n",
      "vmax = 0.10848507285118103, vmin = 0.08826671540737152\n",
      "lr = 0.004476691271293582, lam = 16.73432436896142\n",
      "it: 35, RMSE: 5.853072643280029, znorm: 3.482971668243408\n",
      "[0.05266772 0.18337881]\n",
      "vmax = 0.15959982573986053, vmin = 0.10505453497171402\n",
      "lr = 0.004431924358580646, lam = 14.224175713617207\n",
      "it: 36, RMSE: 5.337268352508545, znorm: 3.241823434829712\n",
      "[0.04854196 0.18191812]\n",
      "vmax = 0.12096364051103592, vmin = 0.09712831676006317\n",
      "lr = 0.004431924358580646, lam = 14.224175713617207\n",
      "it: 37, RMSE: 4.863026142120361, znorm: 3.3270516395568848\n",
      "[0.05084687 0.18277818]\n",
      "vmax = 0.1491580754518509, vmin = 0.10088437050580978\n",
      "lr = 0.004431924358580646, lam = 14.224175713617207\n",
      "it: 38, RMSE: 4.609851837158203, znorm: 3.3595433235168457\n",
      "[0.04528241 0.18106763]\n",
      "vmax = 0.1532876044511795, vmin = 0.09503588080406189\n",
      "lr = 0.00438760511499484, lam = 12.090549356574625\n",
      "it: 39, RMSE: 4.0029497146606445, znorm: 3.2696988582611084\n",
      "[0.04232529 0.18007024]\n",
      "vmax = 0.11852686107158661, vmin = 0.09243622422218323\n",
      "lr = 0.00438760511499484, lam = 12.090549356574625\n",
      "it: 40, RMSE: 4.644433975219727, znorm: 3.0990817546844482\n",
      "[0.04141948 0.17992747]\n",
      "vmax = 0.11961590498685837, vmin = 0.08905381709337234\n",
      "lr = 0.00438760511499484, lam = 12.090549356574625\n",
      "it: 41, RMSE: 4.020469665527344, znorm: 3.2787861824035645\n",
      "[0.04184939 0.18040066]\n",
      "vmax = 0.15800459682941437, vmin = 0.08878546953201294\n",
      "lr = 0.004343729063844891, lam = 10.276966953088431\n",
      "it: 42, RMSE: 3.8636319637298584, znorm: 3.698702096939087\n",
      "[0.03696037 0.17856552]\n",
      "vmax = 0.11054908484220505, vmin = 0.08470111340284348\n",
      "lr = 0.004343729063844891, lam = 10.276966953088431\n",
      "it: 43, RMSE: 5.647308349609375, znorm: 3.090688705444336\n",
      "[0.04624474 0.18185817]\n",
      "vmax = 0.16936896741390228, vmin = 0.09346543997526169\n",
      "lr = 0.004343729063844891, lam = 10.276966953088431\n",
      "it: 44, RMSE: 5.322698593139648, znorm: 4.397128582000732\n"
     ]
    },
    {
     "name": "stdout",
     "output_type": "stream",
     "text": [
      "[0.03393321 0.17741466]\n",
      "vmax = 0.12519139051437378, vmin = 0.08243781328201294\n",
      "lr = 0.004300291773206443, lam = 8.735421910125167\n",
      "it: 45, RMSE: 6.238250255584717, znorm: 3.469282388687134\n",
      "[0.04630352 0.18186208]\n",
      "vmax = 0.19116705656051636, vmin = 0.09063434600830078\n",
      "lr = 0.004300291773206443, lam = 8.735421910125167\n",
      "it: 46, RMSE: 5.836390018463135, znorm: 6.287965297698975\n",
      "[0.0449702  0.18107673]\n",
      "vmax = 0.1901470422744751, vmin = 0.08745893836021423\n",
      "lr = 0.004300291773206443, lam = 8.735421910125167\n",
      "it: 47, RMSE: 5.284332752227783, znorm: 5.686361789703369\n",
      "[0.03810081 0.17807622]\n",
      "vmax = 0.1701570600271225, vmin = 0.08566513657569885\n",
      "lr = 0.0042572888554743785, lam = 7.425108623606391\n",
      "it: 48, RMSE: 3.962491750717163, znorm: 4.628818511962891\n",
      "[0.03549251 0.17707398]\n",
      "vmax = 0.16475412249565125, vmin = 0.08286343514919281\n",
      "lr = 0.0042572888554743785, lam = 7.425108623606391\n",
      "it: 49, RMSE: 3.878436803817749, znorm: 4.243886947631836\n",
      "[0.039055   0.17798439]\n",
      "vmax = 0.16773411631584167, vmin = 0.08701997995376587\n",
      "lr = 0.0042572888554743785, lam = 7.425108623606391\n",
      "it: 50, RMSE: 5.143909931182861, znorm: 4.565587043762207\n",
      "[0.03314347 0.175127  ]\n",
      "vmax = 0.1553271859884262, vmin = 0.07886403799057007\n",
      "lr = 0.004214715966919635, lam = 6.3113423300654325\n",
      "it: 51, RMSE: 5.28264045715332, znorm: 4.995148658752441\n",
      "[0.0385958 0.1768321]\n",
      "vmax = 0.1625109314918518, vmin = 0.0865626186132431\n",
      "lr = 0.004214715966919635, lam = 6.3113423300654325\n",
      "it: 52, RMSE: 3.775078296661377, znorm: 4.915741920471191\n",
      "[0.03328748 0.17485177]\n",
      "vmax = 0.14953851699829102, vmin = 0.08037728071212769\n",
      "lr = 0.004214715966919635, lam = 6.3113423300654325\n",
      "it: 53, RMSE: 5.7896504402160645, znorm: 4.3744096755981445\n",
      "[0.0484672  0.18043533]\n",
      "vmax = 0.18854257464408875, vmin = 0.09816615283489227\n",
      "lr = 0.004172568807250438, lam = 5.364640980555618\n",
      "it: 54, RMSE: 7.6930131912231445, znorm: 6.726098537445068\n",
      "[0.03836807 0.17550827]\n",
      "vmax = 0.16702131927013397, vmin = 0.08436179161071777\n",
      "lr = 0.004172568807250438, lam = 5.364640980555618\n",
      "it: 55, RMSE: 3.3988523483276367, znorm: 5.408196926116943\n",
      "[0.03664068 0.17466044]\n",
      "vmax = 0.15861566364765167, vmin = 0.08257132023572922\n",
      "lr = 0.004172568807250438, lam = 5.364640980555618\n",
      "it: 56, RMSE: 3.211329698562622, znorm: 5.288028717041016\n",
      "[0.03241481 0.17275455]\n",
      "vmax = 0.14819958806037903, vmin = 0.07901497185230255\n",
      "lr = 0.0041308431191779335, lam = 4.559944833472275\n",
      "it: 57, RMSE: 5.7044501304626465, znorm: 4.621434688568115\n",
      "[0.04533574 0.1773803 ]\n",
      "vmax = 0.1776825487613678, vmin = 0.09236402809619904\n",
      "lr = 0.0041308431191779335, lam = 4.559944833472275\n",
      "it: 58, RMSE: 6.184830188751221, znorm: 6.489360809326172\n",
      "[0.03547429 0.17284036]\n",
      "vmax = 0.15851691365242004, vmin = 0.0826055258512497\n",
      "lr = 0.0041308431191779335, lam = 4.559944833472275\n",
      "it: 59, RMSE: 4.82856559753418, znorm: 5.464636325836182\n",
      "[0.03986342 0.1746578 ]\n",
      "vmax = 0.1789570152759552, vmin = 0.08719530701637268\n",
      "lr = 0.004089534687986154, lam = 3.8759531084514336\n",
      "it: 60, RMSE: 4.681653022766113, znorm: 6.841132640838623\n",
      "[0.03556324 0.17271187]\n",
      "vmax = 0.16954967379570007, vmin = 0.08241525292396545\n",
      "lr = 0.004089534687986154, lam = 3.8759531084514336\n",
      "it: 61, RMSE: 4.417370319366455, znorm: 6.249576568603516\n",
      "[0.04159235 0.17494056]\n",
      "vmax = 0.18003925681114197, vmin = 0.08933216333389282\n",
      "lr = 0.004089534687986154, lam = 3.8759531084514336\n",
      "it: 62, RMSE: 5.912069797515869, znorm: 7.282541751861572\n",
      "[0.03248108 0.17015483]\n",
      "vmax = 0.16195914149284363, vmin = 0.07864958047866821\n",
      "lr = 0.004048639341106292, lam = 3.2945601421837183\n",
      "it: 63, RMSE: 4.5486602783203125, znorm: 6.257803440093994\n",
      "[0.03924827 0.1721842 ]\n",
      "vmax = 0.17428427934646606, vmin = 0.08701537549495697\n",
      "lr = 0.004048639341106292, lam = 3.2945601421837183\n",
      "it: 64, RMSE: 4.3427815437316895, znorm: 6.839843273162842\n",
      "[0.0360691  0.17059476]\n",
      "vmax = 0.1667291224002838, vmin = 0.08272922039031982\n",
      "lr = 0.004048639341106292, lam = 3.2945601421837183\n",
      "it: 65, RMSE: 3.1929445266723633, znorm: 6.4403815269470215\n",
      "[0.03527213 0.17026552]\n",
      "vmax = 0.16484010219573975, vmin = 0.0807146206498146\n",
      "lr = 0.00400815294769523, lam = 2.8003761208561606\n",
      "it: 66, RMSE: 2.6771132946014404, znorm: 6.290921211242676\n",
      "[0.03153256 0.16885751]\n",
      "vmax = 0.1562555432319641, vmin = 0.07670262455940247\n",
      "lr = 0.00400815294769523, lam = 2.8003761208561606\n",
      "it: 67, RMSE: 4.539880275726318, znorm: 6.077701568603516\n",
      "[0.03849814 0.17173175]\n",
      "vmax = 0.1727159321308136, vmin = 0.08607055991888046\n",
      "lr = 0.00400815294769523, lam = 2.8003761208561606\n",
      "it: 68, RMSE: 3.7434301376342773, znorm: 7.079509258270264\n",
      "[0.03458612 0.16983384]\n",
      "vmax = 0.16533806920051575, vmin = 0.08032967150211334\n",
      "lr = 0.003968071418218277, lam = 2.3803197027277365\n",
      "it: 69, RMSE: 2.4910778999328613, znorm: 6.6108903884887695\n",
      "[0.03057237 0.16808263]\n",
      "vmax = 0.15574555099010468, vmin = 0.07485038042068481\n",
      "lr = 0.003968071418218277, lam = 2.3803197027277365\n",
      "it: 70, RMSE: 3.6999735832214355, znorm: 6.184353351593018\n",
      "[0.03855207 0.17130145]\n",
      "vmax = 0.17144367098808289, vmin = 0.08620210736989975\n",
      "lr = 0.003968071418218277, lam = 2.3803197027277365\n",
      "it: 71, RMSE: 6.032431125640869, znorm: 7.862144470214844\n",
      "[0.03032276 0.1667457 ]\n",
      "vmax = 0.15737341344356537, vmin = 0.07576362788677216\n",
      "lr = 0.0039283907040360945, lam = 2.023271747318576\n",
      "it: 72, RMSE: 2.0814461708068848, znorm: 6.711248874664307\n",
      "[0.02996869 0.16666888]\n",
      "vmax = 0.1570478081703186, vmin = 0.07557520270347595\n",
      "lr = 0.0039283907040360945, lam = 2.023271747318576\n",
      "it: 73, RMSE: 2.006169319152832, znorm: 6.664676189422607\n",
      "[0.03139247 0.16739018]\n",
      "vmax = 0.15779048204421997, vmin = 0.07642325758934021\n",
      "lr = 0.0039283907040360945, lam = 2.023271747318576\n",
      "it: 74, RMSE: 3.5679173469543457, znorm: 7.169043064117432\n",
      "[0.02662439 0.16501673]\n",
      "vmax = 0.1514957845211029, vmin = 0.07258562743663788\n",
      "lr = 0.0038891067969957335, lam = 1.7197809852207897\n",
      "it: 75, RMSE: 2.2509565353393555, znorm: 6.609389305114746\n",
      "[0.02946754 0.16644921]\n",
      "vmax = 0.15868215262889862, vmin = 0.07572823762893677\n",
      "lr = 0.0038891067969957335, lam = 1.7197809852207897\n",
      "it: 76, RMSE: 2.3936164379119873, znorm: 7.191338539123535\n",
      "[0.02578946 0.16471685]\n",
      "vmax = 0.1505843847990036, vmin = 0.07081630825996399\n",
      "lr = 0.0038891067969957335, lam = 1.7197809852207897\n",
      "it: 77, RMSE: 2.1125261783599854, znorm: 6.6548309326171875\n",
      "[0.02986775 0.16672944]\n",
      "vmax = 0.15769852697849274, vmin = 0.07479928433895111\n",
      "lr = 0.003850215729025776, lam = 1.4618138374376712\n",
      "it: 78, RMSE: 3.5161640644073486, znorm: 7.674388885498047\n",
      "[0.02410104 0.16386518]\n",
      "vmax = 0.14987242221832275, vmin = 0.06875718384981155\n",
      "lr = 0.003850215729025776, lam = 1.4618138374376712\n",
      "it: 79, RMSE: 1.5336217880249023, znorm: 6.913836479187012\n",
      "[0.02426142 0.16400486]\n",
      "vmax = 0.15037930011749268, vmin = 0.06955817341804504\n",
      "lr = 0.003850215729025776, lam = 1.4618138374376712\n",
      "it: 80, RMSE: 1.380554437637329, znorm: 6.973052501678467\n",
      "[0.02670097 0.16519173]\n",
      "vmax = 0.15546169877052307, vmin = 0.07195346802473068\n",
      "lr = 0.0038117135717355183, lam = 1.2425417618220205\n",
      "it: 81, RMSE: 1.9170135259628296, znorm: 7.264899253845215\n",
      "[0.02284647 0.1633659 ]\n",
      "vmax = 0.149221271276474, vmin = 0.06789426505565643\n",
      "lr = 0.0038117135717355183, lam = 1.2425417618220205\n",
      "it: 82, RMSE: 2.2531137466430664, znorm: 6.738556385040283\n",
      "[0.02545594 0.16478288]\n",
      "vmax = 0.15529818832874298, vmin = 0.07159487158060074\n",
      "lr = 0.0038117135717355183, lam = 1.2425417618220205\n",
      "it: 83, RMSE: 1.5027828216552734, znorm: 7.245795726776123\n",
      "[0.02409445 0.16421232]\n",
      "vmax = 0.15268594026565552, vmin = 0.0702623575925827\n",
      "lr = 0.003773596436018163, lam = 1.0561604975487173\n",
      "it: 84, RMSE: 1.3547877073287964, znorm: 7.076601028442383\n",
      "[0.02466952 0.16450839]\n",
      "vmax = 0.15329225361347198, vmin = 0.07018252462148666\n",
      "lr = 0.003773596436018163, lam = 1.0561604975487173\n",
      "it: 85, RMSE: 1.3215053081512451, znorm: 7.188328266143799\n",
      "[0.02340167 0.16392588]\n",
      "vmax = 0.15098561346530914, vmin = 0.06966948509216309\n",
      "lr = 0.003773596436018163, lam = 1.0561604975487173\n",
      "it: 86, RMSE: 1.3645081520080566, znorm: 7.02449369430542\n",
      "[0.02529354 0.16471273]\n",
      "vmax = 0.1541728377342224, vmin = 0.07090882211923599\n",
      "lr = 0.0037358604716579815, lam = 0.8977364229164096\n",
      "it: 87, RMSE: 1.3550163507461548, znorm: 7.16605806350708\n",
      "[0.02373557 0.16387816]\n",
      "vmax = 0.15154032409191132, vmin = 0.06966017186641693\n",
      "lr = 0.0037358604716579815, lam = 0.8977364229164096\n",
      "it: 88, RMSE: 1.3608254194259644, znorm: 6.914671897888184\n"
     ]
    },
    {
     "name": "stdout",
     "output_type": "stream",
     "text": [
      "[0.02357773 0.16385157]\n",
      "vmax = 0.15029622614383698, vmin = 0.06934266537427902\n",
      "lr = 0.0037358604716579815, lam = 0.8977364229164096\n",
      "it: 89, RMSE: 1.2992808818817139, znorm: 6.852992534637451\n",
      "[0.0248934  0.16445162]\n",
      "vmax = 0.1519659459590912, vmin = 0.07067770510911942\n",
      "lr = 0.003698501866941402, lam = 0.7630759594789481\n",
      "it: 90, RMSE: 1.3387151956558228, znorm: 7.018061637878418\n",
      "[0.02433887 0.16431017]\n",
      "vmax = 0.15268197655677795, vmin = 0.07093767076730728\n",
      "lr = 0.003698501866941402, lam = 0.7630759594789481\n",
      "it: 91, RMSE: 1.157833456993103, znorm: 7.047760486602783\n",
      "[0.022855  0.1635955]\n",
      "vmax = 0.1501494199037552, vmin = 0.06911858916282654\n",
      "lr = 0.003698501866941402, lam = 0.7630759594789481\n",
      "it: 92, RMSE: 1.4752758741378784, znorm: 6.837226390838623\n",
      "[0.02457704 0.16448525]\n",
      "vmax = 0.15225176513195038, vmin = 0.07084127515554428\n",
      "lr = 0.003661516848271988, lam = 0.6486145655571058\n",
      "it: 93, RMSE: 1.2882716655731201, znorm: 7.094685077667236\n",
      "[0.02358601 0.163995  ]\n",
      "vmax = 0.15145033597946167, vmin = 0.07016090303659439\n",
      "lr = 0.003661516848271988, lam = 0.6486145655571058\n",
      "it: 94, RMSE: 1.1716667413711548, znorm: 6.947727203369141\n",
      "[0.02474339 0.16463034]\n",
      "vmax = 0.15188521146774292, vmin = 0.07062745839357376\n",
      "lr = 0.003661516848271988, lam = 0.6486145655571058\n",
      "it: 95, RMSE: 1.4915515184402466, znorm: 7.185354709625244\n",
      "[0.02161791 0.16310589]\n",
      "vmax = 0.1472998559474945, vmin = 0.06813224405050278\n",
      "lr = 0.003624901679789268, lam = 0.5513223807235399\n",
      "it: 96, RMSE: 2.0535659790039062, znorm: 6.849222183227539\n",
      "[0.02536138 0.16490905]\n",
      "vmax = 0.15219146013259888, vmin = 0.07144488394260406\n",
      "lr = 0.003624901679789268, lam = 0.5513223807235399\n",
      "it: 97, RMSE: 2.0375871658325195, znorm: 7.517066955566406\n",
      "[0.02292233 0.16370822]\n",
      "vmax = 0.14928604662418365, vmin = 0.06929615139961243\n",
      "lr = 0.003624901679789268, lam = 0.5513223807235399\n",
      "it: 98, RMSE: 1.1043235063552856, znorm: 7.2176618576049805\n",
      "[0.02352561 0.1640009 ]\n",
      "vmax = 0.1510220468044281, vmin = 0.07005197554826736\n",
      "lr = 0.0035886526629913752, lam = 0.4686240236150089\n",
      "it: 99, RMSE: 1.040379285812378, znorm: 7.252097129821777\n",
      "[0.023046   0.16381177]\n",
      "vmax = 0.15142716467380524, vmin = 0.07010994851589203\n",
      "lr = 0.0035886526629913752, lam = 0.4686240236150089\n",
      "it: 100, RMSE: 1.0747565031051636, znorm: 7.177642345428467\n",
      "[0.02362978 0.16421024]\n",
      "vmax = 0.151387020945549, vmin = 0.070162832736969\n",
      "lr = 0.0035886526629913752, lam = 0.4686240236150089\n",
      "it: 101, RMSE: 1.0767550468444824, znorm: 7.317217826843262\n",
      "[0.02313    0.16396898]\n",
      "vmax = 0.15169987082481384, vmin = 0.06977088004350662\n",
      "lr = 0.0035527661363614614, lam = 0.39833042007275754\n",
      "it: 102, RMSE: 0.9945912957191467, znorm: 7.236626148223877\n",
      "[0.02222147 0.16357076]\n",
      "vmax = 0.14946962893009186, vmin = 0.06903472542762756\n",
      "lr = 0.0035527661363614614, lam = 0.39833042007275754\n",
      "it: 103, RMSE: 1.1574902534484863, znorm: 7.100303649902344\n",
      "[0.02370738 0.1642988 ]\n",
      "vmax = 0.15240323543548584, vmin = 0.07062485814094543\n",
      "lr = 0.0035527661363614614, lam = 0.39833042007275754\n",
      "it: 104, RMSE: 1.0464130640029907, znorm: 7.314967155456543\n",
      "[0.02330093 0.16413512]\n",
      "vmax = 0.15197619795799255, vmin = 0.07016804814338684\n",
      "lr = 0.003517238474997847, lam = 0.3385808570618439\n",
      "it: 105, RMSE: 0.9928721189498901, znorm: 7.251469612121582\n",
      "[0.02221418 0.16356944]\n",
      "vmax = 0.14866815507411957, vmin = 0.06875915825366974\n",
      "lr = 0.003517238474997847, lam = 0.3385808570618439\n",
      "it: 106, RMSE: 1.1966512203216553, znorm: 7.103002071380615\n",
      "[0.02432791 0.16458228]\n",
      "vmax = 0.15213409066200256, vmin = 0.07155460119247437\n",
      "lr = 0.003517238474997847, lam = 0.3385808570618439\n",
      "it: 107, RMSE: 1.1990572214126587, znorm: 7.3903045654296875\n",
      "[0.0229125  0.16391926]\n",
      "vmax = 0.15109482407569885, vmin = 0.07038448005914688\n",
      "lr = 0.0034820660902478684, lam = 0.2877937285025673\n",
      "it: 108, RMSE: 1.1150020360946655, znorm: 7.19680643081665\n",
      "[0.02400765 0.1645662 ]\n",
      "vmax = 0.1519976556301117, vmin = 0.07123740017414093\n",
      "lr = 0.0034820660902478684, lam = 0.2877937285025673\n",
      "it: 109, RMSE: 1.106229543685913, znorm: 7.394191741943359\n",
      "[0.02347272 0.1642952 ]\n",
      "vmax = 0.15117691457271576, vmin = 0.07060609757900238\n",
      "lr = 0.0034820660902478684, lam = 0.2877937285025673\n",
      "it: 110, RMSE: 0.9802615642547607, znorm: 7.314548015594482\n",
      "[0.02278129 0.16386842]\n",
      "vmax = 0.1493476778268814, vmin = 0.06966809183359146\n",
      "lr = 0.00344724542934539, lam = 0.24462466922718218\n",
      "it: 111, RMSE: 0.9959461688995361, znorm: 7.200736045837402\n",
      "[0.02349773 0.16416362]\n",
      "vmax = 0.15088653564453125, vmin = 0.0705152377486229\n",
      "lr = 0.00344724542934539, lam = 0.24462466922718218\n",
      "it: 112, RMSE: 0.9842947125434875, znorm: 7.253133773803711\n",
      "[0.02353253 0.16423577]\n",
      "vmax = 0.15171721577644348, vmin = 0.07066701352596283\n",
      "lr = 0.00344724542934539, lam = 0.24462466922718218\n",
      "it: 113, RMSE: 0.970076858997345, znorm: 7.305256366729736\n",
      "[0.02277311 0.16389348]\n",
      "vmax = 0.1509670466184616, vmin = 0.07011331617832184\n",
      "lr = 0.003412772975051936, lam = 0.20793096884310486\n",
      "it: 114, RMSE: 1.0652968883514404, znorm: 7.220791816711426\n",
      "[0.02418408 0.16464803]\n",
      "vmax = 0.15133711695671082, vmin = 0.07093605399131775\n",
      "lr = 0.003412772975051936, lam = 0.20793096884310486\n",
      "it: 115, RMSE: 1.4023329019546509, znorm: 7.516164302825928\n",
      "[0.02264183 0.16389042]\n",
      "vmax = 0.1499679684638977, vmin = 0.06942516565322876\n",
      "lr = 0.003412772975051936, lam = 0.20793096884310486\n",
      "it: 116, RMSE: 0.9490401744842529, znorm: 7.319561004638672\n",
      "[0.02244933 0.16387   ]\n",
      "vmax = 0.1498461663722992, vmin = 0.06942475587129593\n",
      "lr = 0.0033786452453014168, lam = 0.17674132351663913\n",
      "it: 117, RMSE: 0.9566614031791687, znorm: 7.325920581817627\n",
      "[0.02275701 0.16411998]\n",
      "vmax = 0.15050406754016876, vmin = 0.06999249756336212\n",
      "lr = 0.0033786452453014168, lam = 0.17674132351663913\n",
      "it: 118, RMSE: 0.9277245998382568, znorm: 7.4095892906188965\n",
      "[0.02209789 0.16382849]\n",
      "vmax = 0.1495976746082306, vmin = 0.06952014565467834\n",
      "lr = 0.0033786452453014168, lam = 0.17674132351663913\n",
      "it: 119, RMSE: 0.9941197037696838, znorm: 7.369354724884033\n",
      "[0.02263283 0.16418095]\n",
      "vmax = 0.149602472782135, vmin = 0.06941508501768112\n",
      "lr = 0.0033448587928484024, lam = 0.15023012498914326\n",
      "it: 120, RMSE: 1.0976113080978394, znorm: 7.505063056945801\n",
      "[0.02234393 0.16406291]\n",
      "vmax = 0.15086433291435242, vmin = 0.06961953639984131\n",
      "lr = 0.0033448587928484024, lam = 0.15023012498914326\n",
      "it: 121, RMSE: 0.9823721647262573, znorm: 7.482734680175781\n",
      "[0.0225958  0.16413826]\n",
      "vmax = 0.15009790658950806, vmin = 0.0697823092341423\n",
      "lr = 0.0033448587928484024, lam = 0.15023012498914326\n",
      "it: 122, RMSE: 0.9214403629302979, znorm: 7.500723361968994\n",
      "[0.02290198 0.16422237]\n",
      "vmax = 0.15016968548297882, vmin = 0.07001062482595444\n",
      "lr = 0.003311410204919918, lam = 0.12769560624077178\n",
      "it: 123, RMSE: 0.9519814848899841, znorm: 7.504297256469727\n",
      "[0.02312311 0.16437538]\n",
      "vmax = 0.15042944252490997, vmin = 0.07031404972076416\n",
      "lr = 0.003311410204919918, lam = 0.12769560624077178\n",
      "it: 124, RMSE: 0.9952844977378845, znorm: 7.520754337310791\n",
      "[0.02256618 0.16412642]\n",
      "vmax = 0.14976617693901062, vmin = 0.06960056722164154\n",
      "lr = 0.003311410204919918, lam = 0.12769560624077178\n",
      "it: 125, RMSE: 0.9121635556221008, znorm: 7.469153881072998\n",
      "[0.02228081 0.16398402]\n",
      "vmax = 0.1491171419620514, vmin = 0.06930626183748245\n",
      "lr = 0.003278296102870719, lam = 0.108541265304656\n",
      "it: 126, RMSE: 0.9208429455757141, znorm: 7.455139636993408\n",
      "[0.02209218 0.16398065]\n",
      "vmax = 0.1487264186143875, vmin = 0.06910044699907303\n",
      "lr = 0.003278296102870719, lam = 0.108541265304656\n",
      "it: 127, RMSE: 0.962860643863678, znorm: 7.470761299133301\n",
      "[0.02192794 0.16396123]\n",
      "vmax = 0.14897538721561432, vmin = 0.06909570097923279\n",
      "lr = 0.003278296102870719, lam = 0.108541265304656\n",
      "it: 128, RMSE: 0.9165758490562439, znorm: 7.486999988555908\n",
      "[0.0224944 0.1642935]\n",
      "vmax = 0.14971894025802612, vmin = 0.06968507915735245\n",
      "lr = 0.0032455131418420114, lam = 0.09226007550895761\n",
      "it: 129, RMSE: 0.9223265647888184, znorm: 7.564546585083008\n",
      "[0.02129203 0.163692  ]\n",
      "vmax = 0.1480632871389389, vmin = 0.06838574260473251\n",
      "lr = 0.0032455131418420114, lam = 0.09226007550895761\n",
      "it: 130, RMSE: 1.1427284479141235, znorm: 7.435450077056885\n",
      "[0.02230387 0.16426618]\n",
      "vmax = 0.1495513617992401, vmin = 0.06971663981676102\n",
      "lr = 0.0032455131418420114, lam = 0.09226007550895761\n",
      "it: 131, RMSE: 0.8830974102020264, znorm: 7.585612773895264\n"
     ]
    },
    {
     "name": "stdout",
     "output_type": "stream",
     "text": [
      "[0.02226245 0.16428174]\n",
      "vmax = 0.14960816502571106, vmin = 0.06986059993505478\n",
      "lr = 0.003213058010423591, lam = 0.07842106418261396\n",
      "it: 132, RMSE: 0.8854702711105347, znorm: 7.577948093414307\n",
      "[0.02204273 0.16423244]\n",
      "vmax = 0.14937636256217957, vmin = 0.06960823386907578\n",
      "lr = 0.003213058010423591, lam = 0.07842106418261396\n",
      "it: 133, RMSE: 0.9261430501937866, znorm: 7.574539661407471\n",
      "[0.02276252 0.16451015]\n",
      "vmax = 0.15032336115837097, vmin = 0.06993882358074188\n",
      "lr = 0.003213058010423591, lam = 0.07842106418261396\n",
      "it: 134, RMSE: 0.9479801058769226, znorm: 7.637001037597656\n",
      "[0.02181215 0.16411668]\n",
      "vmax = 0.1497463434934616, vmin = 0.06900133192539215\n",
      "lr = 0.0031809274303193553, lam = 0.06665790455522187\n",
      "it: 135, RMSE: 0.97148597240448, znorm: 7.556230068206787\n",
      "[0.02207858 0.16430339]\n",
      "vmax = 0.15003256499767303, vmin = 0.06935735791921616\n",
      "lr = 0.0031809274303193553, lam = 0.06665790455522187\n",
      "it: 136, RMSE: 0.9217893481254578, znorm: 7.639309406280518\n",
      "[0.02216515 0.16431051]\n",
      "vmax = 0.14963579177856445, vmin = 0.06962233781814575\n",
      "lr = 0.0031809274303193553, lam = 0.06665790455522187\n",
      "it: 137, RMSE: 0.9304458498954773, znorm: 7.6375412940979\n",
      "[0.0217579  0.16415568]\n",
      "vmax = 0.14954757690429688, vmin = 0.06928148865699768\n",
      "lr = 0.0031491181560161616, lam = 0.05665921887193859\n",
      "it: 138, RMSE: 0.9236019253730774, znorm: 7.625120639801025\n",
      "[0.02263833 0.16464517]\n",
      "vmax = 0.15025608241558075, vmin = 0.07001571357250214\n",
      "lr = 0.0031491181560161616, lam = 0.05665921887193859\n",
      "it: 139, RMSE: 0.9720194935798645, znorm: 7.731766223907471\n",
      "[0.02280326 0.16470215]\n",
      "vmax = 0.1505815088748932, vmin = 0.07013404369354248\n",
      "lr = 0.0031491181560161616, lam = 0.05665921887193859\n",
      "it: 140, RMSE: 0.952738344669342, znorm: 7.737531661987305\n",
      "[0.02247353 0.16448726]\n",
      "vmax = 0.14994226396083832, vmin = 0.06982533633708954\n",
      "lr = 0.003117626974456, lam = 0.0481603360411478\n",
      "it: 141, RMSE: 0.8885470032691956, znorm: 7.69562292098999\n",
      "[0.02202552 0.16428968]\n",
      "vmax = 0.14932674169540405, vmin = 0.0692761167883873\n",
      "lr = 0.003117626974456, lam = 0.0481603360411478\n",
      "it: 142, RMSE: 0.8598236441612244, znorm: 7.6666998863220215\n",
      "[0.02258573 0.16453688]\n",
      "vmax = 0.1503170281648636, vmin = 0.06973997503519058\n",
      "lr = 0.003117626974456, lam = 0.0481603360411478\n",
      "it: 143, RMSE: 0.8814092874526978, znorm: 7.7094573974609375\n",
      "[0.02185479 0.16422553]\n",
      "vmax = 0.14896169304847717, vmin = 0.06888867914676666\n",
      "lr = 0.00308645070471144, lam = 0.04093628563497563\n",
      "it: 144, RMSE: 0.8913105726242065, znorm: 7.6580657958984375\n",
      "[0.0219992  0.16432035]\n",
      "vmax = 0.14917001128196716, vmin = 0.06921310722827911\n",
      "lr = 0.00308645070471144, lam = 0.04093628563497563\n",
      "it: 145, RMSE: 0.8668261766433716, znorm: 7.680882453918457\n",
      "[0.0221025  0.16437168]\n",
      "vmax = 0.14908795058727264, vmin = 0.06919150054454803\n",
      "lr = 0.00308645070471144, lam = 0.04093628563497563\n",
      "it: 146, RMSE: 0.9035887122154236, znorm: 7.688006401062012\n",
      "[0.02122002 0.1640719 ]\n",
      "vmax = 0.14823418855667114, vmin = 0.0685725212097168\n",
      "lr = 0.0030555861976643253, lam = 0.03479584278972928\n",
      "it: 147, RMSE: 1.003677248954773, znorm: 7.658186912536621\n",
      "[0.02203915 0.16441973]\n",
      "vmax = 0.14896637201309204, vmin = 0.06911918520927429\n",
      "lr = 0.0030555861976643253, lam = 0.03479584278972928\n",
      "it: 148, RMSE: 0.8606135845184326, znorm: 7.714795112609863\n",
      "[0.0220345  0.16445412]\n",
      "vmax = 0.148988738656044, vmin = 0.06904752552509308\n",
      "lr = 0.0030555861976643253, lam = 0.03479584278972928\n",
      "it: 149, RMSE: 0.8551148176193237, znorm: 7.684040069580078\n",
      "[0.02144642 0.16423103]\n",
      "vmax = 0.1487356275320053, vmin = 0.0684913694858551\n",
      "lr = 0.0030250303356876822, lam = 0.02957646637126989\n",
      "it: 150, RMSE: 0.9324745535850525, znorm: 7.657139301300049\n",
      "[0.02298236 0.16492448]\n",
      "vmax = 0.15064141154289246, vmin = 0.06990458071231842\n",
      "lr = 0.0030250303356876822, lam = 0.02957646637126989\n",
      "it: 151, RMSE: 0.9760600328445435, znorm: 7.796574115753174\n",
      "[0.02116826 0.16402103]\n",
      "vmax = 0.14861874282360077, vmin = 0.06808026880025864\n",
      "lr = 0.0030250303356876822, lam = 0.02957646637126989\n",
      "it: 152, RMSE: 1.1861481666564941, znorm: 7.606139659881592\n",
      "[0.02182643 0.16443045]\n",
      "vmax = 0.14915286004543304, vmin = 0.06877271831035614\n",
      "lr = 0.0029947800323308054, lam = 0.025139996415579405\n",
      "it: 153, RMSE: 0.8795678019523621, znorm: 7.7002739906311035\n",
      "[0.02249565 0.16478933]\n",
      "vmax = 0.14957104623317719, vmin = 0.06942758709192276\n",
      "lr = 0.0029947800323308054, lam = 0.025139996415579405\n",
      "it: 154, RMSE: 0.9073579907417297, znorm: 7.795709133148193\n",
      "[0.02168465 0.16445113]\n",
      "vmax = 0.14891383051872253, vmin = 0.06870745122432709\n",
      "lr = 0.0029947800323308054, lam = 0.025139996415579405\n",
      "it: 155, RMSE: 0.8800293207168579, znorm: 7.711794853210449\n",
      "[0.02234244 0.16482047]\n",
      "vmax = 0.1497211903333664, vmin = 0.06945910304784775\n",
      "lr = 0.002964832232007497, lam = 0.021368996953242493\n",
      "it: 156, RMSE: 0.85519939661026, znorm: 7.7953386306762695\n",
      "[0.02196414 0.16469488]\n",
      "vmax = 0.14899376034736633, vmin = 0.06914597749710083\n",
      "lr = 0.002964832232007497, lam = 0.021368996953242493\n",
      "it: 157, RMSE: 0.8599622845649719, znorm: 7.8026533126831055\n",
      "[0.02259821 0.16506203]\n",
      "vmax = 0.14977461099624634, vmin = 0.06967347115278244\n",
      "lr = 0.002964832232007497, lam = 0.021368996953242493\n",
      "it: 158, RMSE: 1.0439109802246094, znorm: 7.900498867034912\n",
      "[0.02139855 0.16449801]\n",
      "vmax = 0.14857107400894165, vmin = 0.06858232617378235\n",
      "lr = 0.0029351839096874222, lam = 0.01816364741025612\n",
      "it: 159, RMSE: 0.8733455538749695, znorm: 7.7648491859436035\n",
      "[0.02204611 0.16485113]\n",
      "vmax = 0.1489231437444687, vmin = 0.06936443597078323\n",
      "lr = 0.0029351839096874222, lam = 0.01816364741025612\n",
      "it: 160, RMSE: 0.8729036450386047, znorm: 7.848690032958984\n",
      "[0.02152014 0.1645614 ]\n",
      "vmax = 0.14852604269981384, vmin = 0.06879393756389618\n",
      "lr = 0.0029351839096874222, lam = 0.01816364741025612\n",
      "it: 161, RMSE: 0.8434557914733887, znorm: 7.790429592132568\n",
      "[0.02211565 0.16482969]\n",
      "vmax = 0.14896801114082336, vmin = 0.06940203905105591\n",
      "lr = 0.002905832070590548, lam = 0.0154391002987177\n",
      "it: 162, RMSE: 0.8501127362251282, znorm: 7.855637550354004\n",
      "[0.02165099 0.16464952]\n",
      "vmax = 0.14853669703006744, vmin = 0.06890753656625748\n",
      "lr = 0.002905832070590548, lam = 0.0154391002987177\n",
      "it: 163, RMSE: 0.8153019547462463, znorm: 7.820467948913574\n",
      "[0.02181221 0.16472504]\n",
      "vmax = 0.1491350680589676, vmin = 0.0690048336982727\n",
      "lr = 0.002905832070590548, lam = 0.0154391002987177\n",
      "it: 164, RMSE: 0.8373247385025024, znorm: 7.838289260864258\n",
      "[0.02179927 0.1647098 ]\n",
      "vmax = 0.1492980271577835, vmin = 0.06906670331954956\n",
      "lr = 0.0028767737498846422, lam = 0.013123235253910044\n",
      "it: 165, RMSE: 0.8113669157028198, znorm: 7.836209297180176\n",
      "[0.02085742 0.16427991]\n",
      "vmax = 0.1485249102115631, vmin = 0.06814378499984741\n",
      "lr = 0.0028767737498846422, lam = 0.013123235253910044\n",
      "it: 166, RMSE: 1.0705623626708984, znorm: 7.744984149932861\n",
      "[0.02226159 0.16501048]\n",
      "vmax = 0.15008077025413513, vmin = 0.06959164887666702\n",
      "lr = 0.0028767737498846422, lam = 0.013123235253910044\n",
      "it: 167, RMSE: 0.8416669964790344, znorm: 7.919721603393555\n",
      "[0.02217339 0.16498189]\n",
      "vmax = 0.1499829739332199, vmin = 0.06961186975240707\n",
      "lr = 0.0028480060123857957, lam = 0.011154749965823538\n",
      "it: 168, RMSE: 0.8435912132263184, znorm: 7.906906604766846\n",
      "[0.02208803 0.16494351]\n",
      "vmax = 0.14964307844638824, vmin = 0.06947209686040878\n",
      "lr = 0.0028480060123857957, lam = 0.011154749965823538\n",
      "it: 169, RMSE: 0.8094727396965027, znorm: 7.891972064971924\n",
      "[0.02197942 0.16487413]\n",
      "vmax = 0.14916393160820007, vmin = 0.06934063881635666\n",
      "lr = 0.0028480060123857957, lam = 0.011154749965823538\n",
      "it: 170, RMSE: 0.8112098574638367, znorm: 7.881530284881592\n",
      "[0.02151134 0.16469916]\n",
      "vmax = 0.14859317243099213, vmin = 0.06898230314254761\n",
      "lr = 0.0028195259522619375, lam = 0.009481537470950006\n",
      "it: 171, RMSE: 0.8226594924926758, znorm: 7.862725734710693\n",
      "[0.02203126 0.16501844]\n",
      "vmax = 0.14926627278327942, vmin = 0.06956979632377625\n",
      "lr = 0.0028195259522619375, lam = 0.009481537470950006\n",
      "it: 172, RMSE: 0.8463031053543091, znorm: 7.926364898681641\n",
      "[0.02156521 0.16481953]\n",
      "vmax = 0.14885373413562775, vmin = 0.06911078095436096\n",
      "lr = 0.0028195259522619375, lam = 0.009481537470950006\n",
      "it: 173, RMSE: 0.8123631477355957, znorm: 7.8987956047058105\n",
      "[0.02155969 0.16484444]\n",
      "vmax = 0.1489996314048767, vmin = 0.06899851560592651\n",
      "lr = 0.002791330692739318, lam = 0.008059306850307505\n",
      "it: 174, RMSE: 0.8029001951217651, znorm: 7.905420303344727\n"
     ]
    },
    {
     "name": "stdout",
     "output_type": "stream",
     "text": [
      "[0.02187233 0.16501078]\n",
      "vmax = 0.14910298585891724, vmin = 0.06931990385055542\n",
      "lr = 0.002791330692739318, lam = 0.008059306850307505\n",
      "it: 175, RMSE: 0.817884624004364, znorm: 7.9314284324646\n",
      "[0.02134315 0.16471042]\n",
      "vmax = 0.1481909304857254, vmin = 0.06860830634832382\n",
      "lr = 0.002791330692739318, lam = 0.008059306850307505\n",
      "it: 176, RMSE: 0.8023792505264282, znorm: 7.893918991088867\n",
      "[0.02146849 0.16476925]\n",
      "vmax = 0.14829657971858978, vmin = 0.06864006072282791\n",
      "lr = 0.0027634173858119247, lam = 0.006850410822761379\n",
      "it: 177, RMSE: 0.8025246858596802, znorm: 7.896044731140137\n",
      "[0.02138546 0.16480379]\n",
      "vmax = 0.14820870757102966, vmin = 0.06852693855762482\n",
      "lr = 0.0027634173858119247, lam = 0.006850410822761379\n",
      "it: 178, RMSE: 0.8254238367080688, znorm: 7.901498317718506\n",
      "[0.02187212 0.16506662]\n",
      "vmax = 0.14910845458507538, vmin = 0.06909152120351791\n",
      "lr = 0.0027634173858119247, lam = 0.006850410822761379\n",
      "it: 179, RMSE: 0.8380759358406067, znorm: 7.981968879699707\n",
      "[0.02191194 0.16508237]\n",
      "vmax = 0.1494010090827942, vmin = 0.0691882073879242\n",
      "lr = 0.0027357832119538055, lam = 0.005822849199347172\n",
      "it: 180, RMSE: 0.8288536667823792, znorm: 8.004886627197266\n",
      "[0.02140444 0.16490815]\n",
      "vmax = 0.14837224781513214, vmin = 0.06869462132453918\n",
      "lr = 0.0027357832119538055, lam = 0.005822849199347172\n",
      "it: 181, RMSE: 0.8077011108398438, znorm: 7.96650505065918\n",
      "[0.02104525 0.16471861]\n",
      "vmax = 0.14821922779083252, vmin = 0.06839088350534439\n",
      "lr = 0.0027357832119538055, lam = 0.005822849199347172\n",
      "it: 182, RMSE: 0.8672993779182434, znorm: 7.916675090789795\n",
      "[0.021887   0.16520571]\n",
      "vmax = 0.14894019067287445, vmin = 0.06927622854709625\n",
      "lr = 0.0027084253798342673, lam = 0.004949421819445096\n",
      "it: 183, RMSE: 0.8776310682296753, znorm: 8.022109031677246\n",
      "[0.02139375 0.16498449]\n",
      "vmax = 0.14815767109394073, vmin = 0.0687113031744957\n",
      "lr = 0.0027084253798342673, lam = 0.004949421819445096\n",
      "it: 184, RMSE: 0.8038622736930847, znorm: 7.97913122177124\n",
      "[0.02098233 0.16481664]\n",
      "vmax = 0.14792588353157043, vmin = 0.06828796863555908\n",
      "lr = 0.0027084253798342673, lam = 0.004949421819445096\n",
      "it: 185, RMSE: 0.8190032839775085, znorm: 7.948606014251709\n",
      "[0.02098781 0.16484489]\n",
      "vmax = 0.14865083992481232, vmin = 0.06838693469762802\n",
      "lr = 0.0026813411260359246, lam = 0.004207008546528331\n",
      "it: 186, RMSE: 0.8262077569961548, znorm: 7.940223217010498\n",
      "[0.02050565 0.1646263 ]\n",
      "vmax = 0.14800700545310974, vmin = 0.067984439432621\n",
      "lr = 0.0026813411260359246, lam = 0.004207008546528331\n",
      "it: 187, RMSE: 0.9725016355514526, znorm: 7.902423858642578\n",
      "[0.02158911 0.16519903]\n",
      "vmax = 0.14891476929187775, vmin = 0.06922474503517151\n",
      "lr = 0.0026813411260359246, lam = 0.004207008546528331\n",
      "it: 188, RMSE: 0.8215012550354004, znorm: 8.030393600463867\n",
      "[0.02165524 0.16524924]\n",
      "vmax = 0.14924857020378113, vmin = 0.06922715157270432\n",
      "lr = 0.0026545277147755654, lam = 0.0035759572645490813\n",
      "it: 189, RMSE: 0.821797251701355, znorm: 8.048911094665527\n",
      "[0.02148051 0.16511401]\n",
      "vmax = 0.14896108210086823, vmin = 0.06888595968484879\n",
      "lr = 0.0026545277147755654, lam = 0.0035759572645490813\n",
      "it: 190, RMSE: 0.7859947085380554, znorm: 8.013808250427246\n",
      "[0.02131169 0.16503473]\n",
      "vmax = 0.148771733045578, vmin = 0.06865225732326508\n",
      "lr = 0.0026545277147755654, lam = 0.0035759572645490813\n",
      "it: 191, RMSE: 0.775267481803894, znorm: 7.993340492248535\n",
      "[0.02147191 0.16511895]\n",
      "vmax = 0.14885780215263367, vmin = 0.0688096359372139\n",
      "lr = 0.00262798243762781, lam = 0.003039563674866719\n",
      "it: 192, RMSE: 0.7918965816497803, znorm: 8.010765075683594\n",
      "[0.02129638 0.16505961]\n",
      "vmax = 0.14855654537677765, vmin = 0.0685979425907135\n",
      "lr = 0.00262798243762781, lam = 0.003039563674866719\n",
      "it: 193, RMSE: 0.7796865105628967, znorm: 8.003602981567383\n",
      "[0.02108898 0.16499382]\n",
      "vmax = 0.1484994888305664, vmin = 0.06849570572376251\n",
      "lr = 0.00262798243762781, lam = 0.003039563674866719\n",
      "it: 194, RMSE: 0.792859673500061, znorm: 7.984237194061279\n",
      "[0.02153674 0.16519603]\n",
      "vmax = 0.14891336858272552, vmin = 0.06878131628036499\n",
      "lr = 0.0026017026132515316, lam = 0.0025836291236367107\n",
      "it: 195, RMSE: 0.7902065515518188, znorm: 8.038108825683594\n",
      "[0.02094364 0.16492407]\n",
      "vmax = 0.14854095876216888, vmin = 0.06820672750473022\n",
      "lr = 0.0026017026132515316, lam = 0.0025836291236367107\n",
      "it: 196, RMSE: 0.807037889957428, znorm: 7.993757247924805\n",
      "[0.02072497 0.16488061]\n",
      "vmax = 0.1482115238904953, vmin = 0.06801959872245789\n",
      "lr = 0.0026017026132515316, lam = 0.0025836291236367107\n",
      "it: 197, RMSE: 0.8261412382125854, znorm: 7.996825695037842\n",
      "[0.02135753 0.165174  ]\n",
      "vmax = 0.14858439564704895, vmin = 0.0687083899974823\n",
      "lr = 0.0025756855871190165, lam = 0.002196084755091204\n",
      "it: 198, RMSE: 0.7894244194030762, znorm: 8.056550979614258\n",
      "[0.02127632 0.16513924]\n",
      "vmax = 0.14849519729614258, vmin = 0.06858111917972565\n",
      "lr = 0.0025756855871190165, lam = 0.002196084755091204\n",
      "it: 199, RMSE: 0.7828913331031799, znorm: 8.061249732971191\n",
      "[0.02077008 0.16492902]\n",
      "vmax = 0.14787279069423676, vmin = 0.06808921694755554\n",
      "lr = 0.0025756855871190165, lam = 0.002196084755091204\n",
      "it: 200, RMSE: 0.7897638082504272, znorm: 8.020870208740234\n",
      "[0.02065753 0.16489188]\n",
      "vmax = 0.1476084291934967, vmin = 0.06796957552433014\n",
      "lr = 0.002549928731247826, lam = 0.0018666720418275234\n",
      "it: 201, RMSE: 0.8051398992538452, znorm: 8.020894050598145\n",
      "[0.02099269 0.16509146]\n",
      "vmax = 0.14819812774658203, vmin = 0.06836412101984024\n",
      "lr = 0.002549928731247826, lam = 0.0018666720418275234\n",
      "it: 202, RMSE: 0.7678660750389099, znorm: 8.053017616271973\n",
      "[0.02130685 0.16526547]\n",
      "vmax = 0.14856652915477753, vmin = 0.06876523792743683\n",
      "lr = 0.002549928731247826, lam = 0.0018666720418275234\n",
      "it: 203, RMSE: 0.8080242872238159, znorm: 8.083288192749023\n",
      "[0.02103037 0.16509762]\n",
      "vmax = 0.14828822016716003, vmin = 0.06831466406583786\n",
      "lr = 0.002524429443935348, lam = 0.001586671235553395\n",
      "it: 204, RMSE: 0.7772395014762878, znorm: 8.062531471252441\n",
      "[0.02108501 0.16517519]\n",
      "vmax = 0.14824417233467102, vmin = 0.06842321157455444\n",
      "lr = 0.002524429443935348, lam = 0.001586671235553395\n",
      "it: 205, RMSE: 0.795587420463562, znorm: 8.0848970413208\n",
      "[0.02101417 0.16515006]\n",
      "vmax = 0.1482144147157669, vmin = 0.0683419331908226\n",
      "lr = 0.002524429443935348, lam = 0.001586671235553395\n",
      "it: 206, RMSE: 0.7772016525268555, znorm: 8.074199676513672\n",
      "[0.02104631 0.16519825]\n",
      "vmax = 0.14842787384986877, vmin = 0.06842920929193497\n",
      "lr = 0.0024991851494959947, lam = 0.0013486705502203857\n",
      "it: 207, RMSE: 0.7851148247718811, znorm: 8.090408325195312\n",
      "[0.02099863 0.16519658]\n",
      "vmax = 0.14828082919120789, vmin = 0.06841469556093216\n",
      "lr = 0.0024991851494959947, lam = 0.0013486705502203857\n",
      "it: 208, RMSE: 0.774236261844635, znorm: 8.077211380004883\n",
      "[0.02097762 0.16519442]\n",
      "vmax = 0.14821764826774597, vmin = 0.06833750009536743\n",
      "lr = 0.0024991851494959947, lam = 0.0013486705502203857\n",
      "it: 209, RMSE: 0.768445611000061, znorm: 8.079322814941406\n",
      "[0.02148768 0.16547566]\n",
      "vmax = 0.1492627114057541, vmin = 0.06889908015727997\n",
      "lr = 0.002474193298001035, lam = 0.0011463699676873278\n",
      "it: 210, RMSE: 0.8271058201789856, znorm: 8.132444381713867\n",
      "[0.02072059 0.16511474]\n",
      "vmax = 0.14818499982357025, vmin = 0.06800678372383118\n",
      "lr = 0.002474193298001035, lam = 0.0011463699676873278\n",
      "it: 211, RMSE: 0.7649297118186951, znorm: 8.086950302124023\n",
      "[0.02068504 0.16510998]\n",
      "vmax = 0.14788928627967834, vmin = 0.06794139742851257\n",
      "lr = 0.002474193298001035, lam = 0.0011463699676873278\n",
      "it: 212, RMSE: 0.7673837542533875, znorm: 8.07926082611084\n",
      "[0.0212348 0.1654355]\n",
      "vmax = 0.14889498054981232, vmin = 0.06864598393440247\n",
      "lr = 0.0024494513650210243, lam = 0.0009744144725342286\n",
      "it: 213, RMSE: 0.7979878783226013, znorm: 8.134297370910645\n",
      "[0.02107418 0.16536841]\n",
      "vmax = 0.14889678359031677, vmin = 0.06850540637969971\n",
      "lr = 0.0024494513650210243, lam = 0.0009744144725342286\n",
      "it: 214, RMSE: 0.783196210861206, znorm: 8.119755744934082\n",
      "[0.02102589 0.16532768]\n",
      "vmax = 0.14885878562927246, vmin = 0.06843893229961395\n",
      "lr = 0.0024494513650210243, lam = 0.0009744144725342286\n",
      "it: 215, RMSE: 0.7629919052124023, znorm: 8.101064682006836\n",
      "[0.0206252  0.16515826]\n",
      "vmax = 0.1481429487466812, vmin = 0.068043053150177\n",
      "lr = 0.002424956851370814, lam = 0.0008282523016540943\n",
      "it: 216, RMSE: 0.7813604474067688, znorm: 8.062493324279785\n",
      "[0.02113371 0.16545547]\n",
      "vmax = 0.1487065553665161, vmin = 0.06869356334209442\n",
      "lr = 0.002424956851370814, lam = 0.0008282523016540943\n",
      "it: 217, RMSE: 0.7782159447669983, znorm: 8.111705780029297\n"
     ]
    },
    {
     "name": "stdout",
     "output_type": "stream",
     "text": [
      "[0.02078601 0.16529802]\n",
      "vmax = 0.14832374453544617, vmin = 0.0682692676782608\n",
      "lr = 0.002424956851370814, lam = 0.0008282523016540943\n",
      "it: 218, RMSE: 0.7594918012619019, znorm: 8.079837799072266\n",
      "[0.02112428 0.16546359]\n",
      "vmax = 0.14864689111709595, vmin = 0.06854448467493057\n",
      "lr = 0.002400707282857106, lam = 0.0007040144564059802\n",
      "it: 219, RMSE: 0.7791485786437988, znorm: 8.117410659790039\n",
      "[0.02049646 0.16518824]\n",
      "vmax = 0.14790120720863342, vmin = 0.06778840720653534\n",
      "lr = 0.002400707282857106, lam = 0.0007040144564059802\n",
      "it: 220, RMSE: 0.775343656539917, znorm: 8.06696891784668\n",
      "[0.02094005 0.16545113]\n",
      "vmax = 0.14861458539962769, vmin = 0.06839929521083832\n",
      "lr = 0.002400707282857106, lam = 0.0007040144564059802\n",
      "it: 221, RMSE: 0.7889832854270935, znorm: 8.129473686218262\n",
      "[0.02075584 0.16538693]\n",
      "vmax = 0.14833828806877136, vmin = 0.068173348903656\n",
      "lr = 0.0023767002100285347, lam = 0.0005984122879450831\n",
      "it: 222, RMSE: 0.7692660689353943, znorm: 8.11973762512207\n",
      "[0.02057709 0.16530922]\n",
      "vmax = 0.1480041891336441, vmin = 0.06787639856338501\n",
      "lr = 0.0023767002100285347, lam = 0.0005984122879450831\n",
      "it: 223, RMSE: 0.7591869831085205, znorm: 8.10538387298584\n",
      "[0.02001399 0.16507445]\n",
      "vmax = 0.14733552932739258, vmin = 0.06728614866733551\n",
      "lr = 0.0023767002100285347, lam = 0.0005984122879450831\n",
      "it: 224, RMSE: 0.8466983437538147, znorm: 8.068553924560547\n",
      "[0.0207029  0.16544244]\n",
      "vmax = 0.148062065243721, vmin = 0.06798253953456879\n",
      "lr = 0.0023529332079282495, lam = 0.0005086504447533207\n",
      "it: 225, RMSE: 0.7594355344772339, znorm: 8.141035079956055\n",
      "[0.02089206 0.16556972]\n",
      "vmax = 0.14845623075962067, vmin = 0.06821216642856598\n",
      "lr = 0.0023529332079282495, lam = 0.0005086504447533207\n",
      "it: 226, RMSE: 0.7685140371322632, znorm: 8.153141021728516\n",
      "[0.02089064 0.1655871 ]\n",
      "vmax = 0.14845243096351624, vmin = 0.06819212436676025\n",
      "lr = 0.0023529332079282495, lam = 0.0005086504447533207\n",
      "it: 227, RMSE: 0.7694727182388306, znorm: 8.151402473449707\n",
      "[0.02034134 0.16530355]\n",
      "vmax = 0.14779171347618103, vmin = 0.0676235780119896\n",
      "lr = 0.002329403875848967, lam = 0.0004323528780403226\n",
      "it: 228, RMSE: 0.7673324942588806, znorm: 8.086026191711426\n",
      "[0.0203089  0.16535208]\n",
      "vmax = 0.14757081866264343, vmin = 0.06762814521789551\n",
      "lr = 0.002329403875848967, lam = 0.0004323528780403226\n",
      "it: 229, RMSE: 0.7652133107185364, znorm: 8.093753814697266\n",
      "[0.02043296 0.16545626]\n",
      "vmax = 0.14815503358840942, vmin = 0.0678761899471283\n",
      "lr = 0.002329403875848967, lam = 0.0004323528780403226\n",
      "it: 230, RMSE: 0.7533736824989319, znorm: 8.122228622436523\n",
      "[0.02080645 0.16569243]\n",
      "vmax = 0.14858731627464294, vmin = 0.06828172504901886\n",
      "lr = 0.0023061098370904774, lam = 0.00036749994633427415\n",
      "it: 231, RMSE: 0.7898790836334229, znorm: 8.177022933959961\n",
      "[0.02027362 0.16547878]\n",
      "vmax = 0.1480691283941269, vmin = 0.0677960067987442\n",
      "lr = 0.0023061098370904774, lam = 0.00036749994633427415\n",
      "it: 232, RMSE: 0.7600921988487244, znorm: 8.146145820617676\n",
      "[0.02094061 0.16576836]\n",
      "vmax = 0.14877645671367645, vmin = 0.06845507025718689\n",
      "lr = 0.0023061098370904774, lam = 0.00036749994633427415\n",
      "it: 233, RMSE: 0.8008435368537903, znorm: 8.208106994628906\n",
      "[0.0202064  0.16541652]\n",
      "vmax = 0.1478162258863449, vmin = 0.06760634481906891\n",
      "lr = 0.0022830487387195727, lam = 0.000312374954384133\n",
      "it: 234, RMSE: 0.7540157437324524, znorm: 8.140350341796875\n",
      "[0.02020029 0.16542151]\n",
      "vmax = 0.14782553911209106, vmin = 0.06765343993902206\n",
      "lr = 0.0022830487387195727, lam = 0.000312374954384133\n",
      "it: 235, RMSE: 0.7550690174102783, znorm: 8.139463424682617\n",
      "[0.02053469 0.16559939]\n",
      "vmax = 0.14807480573654175, vmin = 0.06797071546316147\n",
      "lr = 0.0022830487387195727, lam = 0.000312374954384133\n",
      "it: 236, RMSE: 0.7445139288902283, znorm: 8.179032325744629\n",
      "[0.02028691 0.16550838]\n",
      "vmax = 0.14791876077651978, vmin = 0.06770291179418564\n",
      "lr = 0.002260218251332377, lam = 0.00026551871122651303\n",
      "it: 237, RMSE: 0.7399561405181885, znorm: 8.163312911987305\n",
      "[0.02038723 0.1655184 ]\n",
      "vmax = 0.14780306816101074, vmin = 0.06769022345542908\n",
      "lr = 0.002260218251332377, lam = 0.00026551871122651303\n",
      "it: 238, RMSE: 0.7412337064743042, znorm: 8.1727933883667\n",
      "[0.02029057 0.16546635]\n",
      "vmax = 0.14756087958812714, vmin = 0.06752296537160873\n",
      "lr = 0.002260218251332377, lam = 0.00026551871122651303\n",
      "it: 239, RMSE: 0.7675907611846924, znorm: 8.16076374053955\n",
      "[0.02047052 0.16558981]\n",
      "vmax = 0.14822161197662354, vmin = 0.06787781417369843\n",
      "lr = 0.002237616068819053, lam = 0.00022569090454253608\n",
      "it: 240, RMSE: 0.7381236553192139, znorm: 8.197150230407715\n",
      "[0.02016426 0.16548535]\n",
      "vmax = 0.147861510515213, vmin = 0.0675051361322403\n",
      "lr = 0.002237616068819053, lam = 0.00022569090454253608\n",
      "it: 241, RMSE: 0.7695485949516296, znorm: 8.17957592010498\n",
      "[0.02069357 0.1657609 ]\n",
      "vmax = 0.1484803557395935, vmin = 0.06809735298156738\n",
      "lr = 0.002237616068819053, lam = 0.00022569090454253608\n",
      "it: 242, RMSE: 0.7661868929862976, znorm: 8.226187705993652\n",
      "[0.02025006 0.16554648]\n",
      "vmax = 0.14818871021270752, vmin = 0.0675889402627945\n",
      "lr = 0.0022152399081308625, lam = 0.00019183726886115566\n",
      "it: 243, RMSE: 0.7504308819770813, znorm: 8.176508903503418\n",
      "[0.02043279 0.16564581]\n",
      "vmax = 0.14819088578224182, vmin = 0.06780923902988434\n",
      "lr = 0.0022152399081308625, lam = 0.00019183726886115566\n",
      "it: 244, RMSE: 0.7369914650917053, znorm: 8.195011138916016\n",
      "[0.02042617 0.16568091]\n",
      "vmax = 0.1482875496149063, vmin = 0.06777443736791611\n",
      "lr = 0.0022152399081308625, lam = 0.00019183726886115566\n",
      "it: 245, RMSE: 0.7402827739715576, znorm: 8.190180778503418\n",
      "[0.02086925 0.1659223 ]\n",
      "vmax = 0.14888381958007812, vmin = 0.06835852563381195\n",
      "lr = 0.002193087509049554, lam = 0.0001630616785319823\n",
      "it: 246, RMSE: 0.8063910603523254, znorm: 8.25538444519043\n",
      "[0.02010594 0.16555795]\n",
      "vmax = 0.14799214899539948, vmin = 0.06753118336200714\n",
      "lr = 0.002193087509049554, lam = 0.0001630616785319823\n",
      "it: 247, RMSE: 0.7495269775390625, znorm: 8.18205451965332\n",
      "[0.01994115 0.1655294 ]\n",
      "vmax = 0.14763006567955017, vmin = 0.06740802526473999\n",
      "lr = 0.002193087509049554, lam = 0.0001630616785319823\n",
      "it: 248, RMSE: 0.7477128505706787, znorm: 8.17923355102539\n",
      "[0.02038257 0.1657768 ]\n",
      "vmax = 0.1480959802865982, vmin = 0.06794767081737518\n",
      "lr = 0.0021711566339590585, lam = 0.00013860242675218495\n",
      "it: 249, RMSE: 0.7441771030426025, znorm: 8.228224754333496\n",
      "[0.02033538 0.16576333]\n",
      "vmax = 0.14798371493816376, vmin = 0.06793554872274399\n",
      "lr = 0.0021711566339590585, lam = 0.00013860242675218495\n",
      "it: 250, RMSE: 0.7381001710891724, znorm: 8.22347640991211\n",
      "[0.0200863  0.16566967]\n",
      "vmax = 0.14765861630439758, vmin = 0.06769274175167084\n",
      "lr = 0.0021711566339590585, lam = 0.00013860242675218495\n",
      "it: 251, RMSE: 0.7357989549636841, znorm: 8.216172218322754\n",
      "[0.02018779 0.16571682]\n",
      "vmax = 0.1478692889213562, vmin = 0.06780188530683517\n",
      "lr = 0.002149445067619468, lam = 0.00011781206273935721\n",
      "it: 252, RMSE: 0.7340072989463806, znorm: 8.224359512329102\n",
      "[0.01974859 0.16550587]\n",
      "vmax = 0.1475188285112381, vmin = 0.06728533655405045\n",
      "lr = 0.002149445067619468, lam = 0.00011781206273935721\n",
      "it: 253, RMSE: 0.7695497274398804, znorm: 8.185378074645996\n",
      "[0.02002622 0.16566022]\n",
      "vmax = 0.14775408804416656, vmin = 0.06760452687740326\n",
      "lr = 0.002149445067619468, lam = 0.00011781206273935721\n",
      "it: 254, RMSE: 0.7381067276000977, znorm: 8.206310272216797\n",
      "[0.02025013 0.16579933]\n",
      "vmax = 0.14793673157691956, vmin = 0.06786232441663742\n",
      "lr = 0.0021279506169432734, lam = 0.00010014025332845363\n",
      "it: 255, RMSE: 0.73442542552948, znorm: 8.229759216308594\n",
      "[0.02010092 0.16574292]\n",
      "vmax = 0.14782679080963135, vmin = 0.0677550882101059\n",
      "lr = 0.0021279506169432734, lam = 0.00010014025332845363\n",
      "it: 256, RMSE: 0.7329020500183105, znorm: 8.224942207336426\n",
      "[0.02017295 0.16574688]\n",
      "vmax = 0.1480415016412735, vmin = 0.0678066685795784\n",
      "lr = 0.0021279506169432734, lam = 0.00010014025332845363\n",
      "it: 257, RMSE: 0.7383559942245483, znorm: 8.21701717376709\n",
      "[0.02020708 0.16577632]\n",
      "vmax = 0.14804111421108246, vmin = 0.06781064718961716\n",
      "lr = 0.0021066711107738407, lam = 8.511921532918559e-05\n",
      "it: 258, RMSE: 0.7423092126846313, znorm: 8.216858863830566\n",
      "[0.02041418 0.16590966]\n",
      "vmax = 0.1482573300600052, vmin = 0.06805253773927689\n",
      "lr = 0.0021066711107738407, lam = 8.511921532918559e-05\n",
      "it: 259, RMSE: 0.7611376643180847, znorm: 8.256120681762695\n",
      "[0.02035082 0.16592109]\n",
      "vmax = 0.1482381969690323, vmin = 0.06797800213098526\n",
      "lr = 0.0021066711107738407, lam = 8.511921532918559e-05\n",
      "it: 260, RMSE: 0.7419117093086243, znorm: 8.262870788574219\n"
     ]
    },
    {
     "name": "stdout",
     "output_type": "stream",
     "text": [
      "[0.01995378 0.16575408]\n",
      "vmax = 0.14765161275863647, vmin = 0.06753328442573547\n",
      "lr = 0.0020856043996661023, lam = 7.235133302980775e-05\n",
      "it: 261, RMSE: 0.7389724850654602, znorm: 8.220996856689453\n",
      "[0.02013785 0.16587428]\n",
      "vmax = 0.14792785048484802, vmin = 0.06774040311574936\n",
      "lr = 0.0020856043996661023, lam = 7.235133302980775e-05\n",
      "it: 262, RMSE: 0.7425849437713623, znorm: 8.236394882202148\n",
      "[0.0200484  0.16586279]\n",
      "vmax = 0.1478680521249771, vmin = 0.06778766959905624\n",
      "lr = 0.0020856043996661023, lam = 7.235133302980775e-05\n",
      "it: 263, RMSE: 0.7312638163566589, znorm: 8.234341621398926\n",
      "[0.01967482 0.16567445]\n",
      "vmax = 0.14722709357738495, vmin = 0.06732296943664551\n",
      "lr = 0.0020647483556694413, lam = 6.149863307533659e-05\n",
      "it: 264, RMSE: 0.7570052742958069, znorm: 8.185686111450195\n",
      "[0.01980526 0.16578369]\n",
      "vmax = 0.14746208488941193, vmin = 0.06754383444786072\n",
      "lr = 0.0020647483556694413, lam = 6.149863307533659e-05\n",
      "it: 265, RMSE: 0.7363329529762268, znorm: 8.21430492401123\n",
      "[0.02032958 0.16606087]\n",
      "vmax = 0.14795853197574615, vmin = 0.06812087446451187\n",
      "lr = 0.0020647483556694413, lam = 6.149863307533659e-05\n",
      "it: 266, RMSE: 0.773913562297821, znorm: 8.269404411315918\n",
      "[0.02003323 0.16591053]\n",
      "vmax = 0.14751440286636353, vmin = 0.0677071139216423\n",
      "lr = 0.0020441008721127467, lam = 5.2273838114036105e-05\n",
      "it: 267, RMSE: 0.7531706690788269, znorm: 8.241034507751465\n",
      "[0.01951686 0.16568455]\n",
      "vmax = 0.14706382155418396, vmin = 0.06708313524723053\n",
      "lr = 0.0020441008721127467, lam = 5.2273838114036105e-05\n",
      "it: 268, RMSE: 0.7865445017814636, znorm: 8.197983741760254\n",
      "[0.02004437 0.16598223]\n",
      "vmax = 0.14780478179454803, vmin = 0.06774533540010452\n",
      "lr = 0.0020441008721127467, lam = 5.2273838114036105e-05\n",
      "it: 269, RMSE: 0.7238383889198303, znorm: 8.2473783493042\n",
      "[0.02015379 0.16604978]\n",
      "vmax = 0.14810368418693542, vmin = 0.06787994503974915\n",
      "lr = 0.002023659863391619, lam = 4.4432762396930686e-05\n",
      "it: 270, RMSE: 0.7383043766021729, znorm: 8.253671646118164\n",
      "[0.0203004  0.16612469]\n",
      "vmax = 0.14836449921131134, vmin = 0.0680323988199234\n",
      "lr = 0.002023659863391619, lam = 4.4432762396930686e-05\n",
      "it: 271, RMSE: 0.7535533308982849, znorm: 8.264787673950195\n",
      "[0.01969655 0.16588393]\n",
      "vmax = 0.14749972522258759, vmin = 0.06736748665571213\n",
      "lr = 0.002023659863391619, lam = 4.4432762396930686e-05\n",
      "it: 272, RMSE: 0.7410646677017212, znorm: 8.21248722076416\n",
      "[0.02002755 0.16605977]\n",
      "vmax = 0.14790396392345428, vmin = 0.06776423752307892\n",
      "lr = 0.002003423264757703, lam = 3.776784803739108e-05\n",
      "it: 273, RMSE: 0.7316510677337646, znorm: 8.247105598449707\n",
      "[0.0202126  0.16617897]\n",
      "vmax = 0.1480654925107956, vmin = 0.0680021122097969\n",
      "lr = 0.002003423264757703, lam = 3.776784803739108e-05\n",
      "it: 274, RMSE: 0.7520012855529785, znorm: 8.268377304077148\n",
      "[0.02001621 0.1660857 ]\n",
      "vmax = 0.14783436059951782, vmin = 0.06772170960903168\n",
      "lr = 0.002003423264757703, lam = 3.776784803739108e-05\n",
      "it: 275, RMSE: 0.7337968945503235, znorm: 8.248557090759277\n",
      "[0.02009714 0.16612706]\n",
      "vmax = 0.1480262577533722, vmin = 0.06779639422893524\n",
      "lr = 0.001983389032110126, lam = 3.210267083178242e-05\n",
      "it: 276, RMSE: 0.7402263283729553, znorm: 8.269821166992188\n",
      "[0.02034769 0.16626637]\n",
      "vmax = 0.14822542667388916, vmin = 0.0680941790342331\n",
      "lr = 0.001983389032110126, lam = 3.210267083178242e-05\n",
      "it: 277, RMSE: 0.7950034141540527, znorm: 8.300670623779297\n",
      "[0.01937841 0.16583176]\n",
      "vmax = 0.1472831517457962, vmin = 0.06712665408849716\n",
      "lr = 0.001983389032110126, lam = 3.210267083178242e-05\n",
      "it: 278, RMSE: 0.7976433038711548, znorm: 8.205879211425781\n",
      "[0.01969087 0.16599634]\n",
      "vmax = 0.1475190669298172, vmin = 0.06742841005325317\n",
      "lr = 0.0019635551417890246, lam = 2.728727020701506e-05\n",
      "it: 279, RMSE: 0.7277788519859314, znorm: 8.239215850830078\n",
      "[0.01970648 0.16601714]\n",
      "vmax = 0.14762605726718903, vmin = 0.06749915331602097\n",
      "lr = 0.0019635551417890246, lam = 2.728727020701506e-05\n",
      "it: 280, RMSE: 0.7224380373954773, znorm: 8.238080978393555\n",
      "[0.01985749 0.16611166]\n",
      "vmax = 0.14785735309123993, vmin = 0.06770278513431549\n",
      "lr = 0.0019635551417890246, lam = 2.728727020701506e-05\n",
      "it: 281, RMSE: 0.71797114610672, znorm: 8.246116638183594\n",
      "[0.01988684 0.16613862]\n",
      "vmax = 0.1477922946214676, vmin = 0.06773145496845245\n",
      "lr = 0.0019439195903711343, lam = 2.31941796759628e-05\n",
      "it: 282, RMSE: 0.7181020379066467, znorm: 8.251382827758789\n",
      "[0.0198789  0.16616174]\n",
      "vmax = 0.14781805872917175, vmin = 0.0677197128534317\n",
      "lr = 0.0019439195903711343, lam = 2.31941796759628e-05\n",
      "it: 283, RMSE: 0.7174215316772461, znorm: 8.257694244384766\n",
      "[0.01993507 0.16618931]\n",
      "vmax = 0.14784997701644897, vmin = 0.06775114685297012\n",
      "lr = 0.0019439195903711343, lam = 2.31941796759628e-05\n",
      "it: 284, RMSE: 0.7208375930786133, znorm: 8.251779556274414\n",
      "[0.01963903 0.16608383]\n",
      "vmax = 0.14762142300605774, vmin = 0.06744284927845001\n",
      "lr = 0.0019244803944674228, lam = 1.971505272456838e-05\n",
      "it: 285, RMSE: 0.7212804555892944, znorm: 8.242215156555176\n",
      "[0.01968473 0.16611633]\n",
      "vmax = 0.14778108894824982, vmin = 0.06748644262552261\n",
      "lr = 0.0019244803944674228, lam = 1.971505272456838e-05\n",
      "it: 286, RMSE: 0.7198463678359985, znorm: 8.244942665100098\n",
      "[0.01951271 0.16606003]\n",
      "vmax = 0.14742732048034668, vmin = 0.06712867319583893\n",
      "lr = 0.0019244803944674228, lam = 1.971505272456838e-05\n",
      "it: 287, RMSE: 0.7388213872909546, znorm: 8.22040843963623\n",
      "[0.01969579 0.1661733 ]\n",
      "vmax = 0.14776499569416046, vmin = 0.06721635162830353\n",
      "lr = 0.0019052355905227487, lam = 1.6757794815883122e-05\n",
      "it: 288, RMSE: 0.7258733510971069, znorm: 8.240276336669922\n",
      "[0.01970918 0.16620387]\n",
      "vmax = 0.1477530300617218, vmin = 0.06727664172649384\n",
      "lr = 0.0019052355905227487, lam = 1.6757794815883122e-05\n",
      "it: 289, RMSE: 0.7166714668273926, znorm: 8.243117332458496\n",
      "[0.01989584 0.16631959]\n",
      "vmax = 0.14809167385101318, vmin = 0.0675828605890274\n",
      "lr = 0.0019052355905227487, lam = 1.6757794815883122e-05\n",
      "it: 290, RMSE: 0.7157922387123108, znorm: 8.26003646850586\n",
      "[0.01954434 0.16616221]\n",
      "vmax = 0.1475992351770401, vmin = 0.0672672837972641\n",
      "lr = 0.0018861832346175212, lam = 1.4244125593500653e-05\n",
      "it: 291, RMSE: 0.7325225472450256, znorm: 8.225348472595215\n",
      "[0.01980804 0.16631056]\n",
      "vmax = 0.14778351783752441, vmin = 0.06771475076675415\n",
      "lr = 0.0018861832346175212, lam = 1.4244125593500653e-05\n",
      "it: 292, RMSE: 0.7143253087997437, znorm: 8.251764297485352\n",
      "[0.01980504 0.16630414]\n",
      "vmax = 0.14786434173583984, vmin = 0.06780847162008286\n",
      "lr = 0.0018861832346175212, lam = 1.4244125593500653e-05\n",
      "it: 293, RMSE: 0.7180038690567017, znorm: 8.249184608459473\n",
      "[0.02008841 0.16645988]\n",
      "vmax = 0.14820200204849243, vmin = 0.06810160726308823\n",
      "lr = 0.001867321402271346, lam = 1.2107506754475555e-05\n",
      "it: 294, RMSE: 0.7516096830368042, znorm: 8.277294158935547\n",
      "[0.01982184 0.16633711]\n",
      "vmax = 0.14783835411071777, vmin = 0.06773360818624496\n",
      "lr = 0.001867321402271346, lam = 1.2107506754475555e-05\n",
      "it: 295, RMSE: 0.7167539000511169, znorm: 8.2486572265625\n",
      "[0.02005218 0.16646809]\n",
      "vmax = 0.14831677079200745, vmin = 0.06793303787708282\n",
      "lr = 0.001867321402271346, lam = 1.2107506754475555e-05\n",
      "it: 296, RMSE: 0.722512423992157, znorm: 8.278483390808105\n",
      "[0.01965117 0.1662863 ]\n",
      "vmax = 0.1478523164987564, vmin = 0.06725560128688812\n",
      "lr = 0.0018486481882486324, lam = 1.0291380741304221e-05\n",
      "it: 297, RMSE: 0.713684618473053, znorm: 8.250226020812988\n",
      "[0.01989134 0.16639738]\n",
      "vmax = 0.14806261658668518, vmin = 0.0677553117275238\n",
      "lr = 0.0018486481882486324, lam = 1.0291380741304221e-05\n",
      "it: 298, RMSE: 0.71343594789505, znorm: 8.272614479064941\n",
      "[0.01987359 0.1664269 ]\n",
      "vmax = 0.1479422003030777, vmin = 0.06772783398628235\n",
      "lr = 0.0018486481882486324, lam = 1.0291380741304221e-05\n",
      "it: 299, RMSE: 0.7187020778656006, znorm: 8.282538414001465\n",
      "it: 300, RMSE: 0.7089672088623047, znorm: 8.277466773986816\n",
      "init: 0, dRMSE: 0.7090, mRMSE: 0.0216, ||z||: 8.2775\n",
      "\n",
      "computation time: 00:13:07\n"
     ]
    }
   ],
   "source": [
    "# Define inversion parameters and run the VAE-SGD inversion:\n",
    "\n",
    "SGDpars.epochs = 20 # number of epochs (total number of iterations is n_eps*(ndata/batch_size))\n",
    "SGDpars.batch_size = 19 #len(indsmasked) # size of data batch (must be an integer factor of ndata)\n",
    "SGDpars.zinit = zin # load initial models (latents)\n",
    "SGDpars.velinit = np.array([0.01,0.18]) # initial values for velocity linear model.\n",
    "SGDpars.DGM = 'VAE'\n",
    "SGDpars.gen = netG # generator function from DGM\n",
    "SGDpars.reg = 'origin' # use 'ring', 'origin' or 'none'\n",
    "SGDpars.lr = 0.005 # initial value for learning rate.\n",
    "SGDpars.optimizer = 'SGD' # use 'SGD' or 'Adam'\n",
    "SGDpars.clr = 0.99 # constant for decreasing learning rate.\n",
    "SGDpars.lam = 100 # initial value for regularization factor (in this case works in the latent space).\n",
    "SGDpars.clam = 0.85 # constant for decreasing regularization factor lambda.\n",
    "SGDpars.step_eps = 3 # number of epochs for which to decrease learning rate and reg. factor\n",
    "SGDpars.truemodel = mvel\n",
    "t0 = time.time()\n",
    "dRMSEs,mRMSEs,models_costmin,vels,zs = SGD_ninits(SGDpars)\n",
    "tf = time.time()-t0\n",
    "stf = time.strftime(\"%H:%M:%S\", time.gmtime(tf))\n",
    "print('\\ncomputation time: {0}'.format(stf))"
   ]
  },
  {
   "cell_type": "code",
   "execution_count": 38,
   "metadata": {},
   "outputs": [
    {
     "name": "stdout",
     "output_type": "stream",
     "text": [
      "accepted model ring clip: 0\n",
      "lr = 0.005\n",
      "min for iteration #: 300\n",
      "min data RMSE: 0.7089672088623047\n",
      "z norm at min: 8.277466773986816\n",
      "z at min:[[ 0.081  0.108 -3.377 -2.125 -1.183  0.141 -0.13   0.053  2.466  2.74\n",
      "   0.832  0.754  0.099 -0.038 -3.862 -0.742  0.826  1.702 -0.715  0.618\n",
      "   0.107  0.062 -1.715 -0.82  -0.127  1.114  0.995 -0.3   -1.218  0.326\n",
      "   1.143 -0.045  1.734 -0.022 -0.478  0.654  0.401  0.605 -1.734  0.526]]\n"
     ]
    },
    {
     "name": "stderr",
     "output_type": "stream",
     "text": [
      "<ipython-input-38-c961bda227c9>:66: UserWarning: This figure was using constrained_layout==True, but that is incompatible with subplots_adjust and or tight_layout: setting constrained_layout==False. \n",
      "  fig.tight_layout()\n"
     ]
    },
    {
     "data": {
      "image/png": "[encoded data removed]",
      "text/plain": [
       "<Figure size 648x360 with 4 Axes>"
      ]
     },
     "metadata": {
      "needs_background": "light"
     },
     "output_type": "display_data"
    }
   ],
   "source": [
    "# Extract values in minimum for each initial model:\n",
    "suffix = 'mc1'\n",
    "dRMSEs_min = []\n",
    "zs_min = []\n",
    "for i in range(len(dRMSEs)):\n",
    "    it_min = np.argmin(dRMSEs[i])\n",
    "    dRMSEs_min.append(dRMSEs[i][it_min])\n",
    "    zs_min.append(zs[i][it_min])\n",
    "\n",
    "# Number of accepted models:\n",
    "updict = {'mc1':0.620,'mc2':0.757,'mc3':1.440,'mv1':1.119,'mv2':1.046,'mv3':1.363}\n",
    "uplim = updict[suffix]\n",
    "acmods = np.sum(np.array(dRMSEs_min)<=uplim)\n",
    "print('accepted model ring clip: {0}'.format(acmods))\n",
    "\n",
    "# Plot dRMSE vs iterations for one model.\n",
    "mi = 0\n",
    "datcost = dRMSEs[mi]\n",
    "modelcost = mRMSEs[mi]\n",
    "it_min = np.argmin(datcost)\n",
    "print('lr = {0}'.format(SGDpars.lr))\n",
    "print('min for iteration #: {0}'.format(it_min))\n",
    "print('min data RMSE: {0}'.format(dRMSEs_min[mi]))\n",
    "print('z norm at min: {0}'.format(np.linalg.norm(zs_min[mi])))\n",
    "with np.printoptions(precision=3, suppress=True):\n",
    "    print('z at min:{0}'.format(zs_min[mi]))\n",
    "\n",
    "# Get znorms vs. iterations\n",
    "znorms = np.zeros(len(zs[0]))\n",
    "for i in range(len(znorms)):\n",
    "    znorms[i] = np.linalg.norm(zs[mi][i][:][0])\n",
    "\n",
    "# joint subplot\n",
    "fig = plt.figure(figsize=(9,5), constrained_layout=True)\n",
    "grid = fig.add_gridspec(3,3)\n",
    "\n",
    "# first\n",
    "ax = fig.add_subplot(grid[:,0])\n",
    "ax.imshow(models_costmin[mi], cmap='Greys', extent=extent, origin='upper')\n",
    "ax.set_title('inverted')\n",
    "\n",
    "# second\n",
    "#ax = fig.add_subplot(grid[:,1])\n",
    "#ax.imshow(x_true[0,0,:,:], cmap='Greys_r')\n",
    "#ax.set_title('true')\n",
    "\n",
    "# third\n",
    "ax = fig.add_subplot(grid[0,1:])\n",
    "ax.plot(datcost, c='orange')\n",
    "ax.set_ylim((0.0,8.0))\n",
    "ax.set_ylabel('loss')\n",
    "\n",
    "# fourth\n",
    "ax = fig.add_subplot(grid[1,1:])\n",
    "ax.plot(modelcost)\n",
    "#ax.set_ylim((0.0,1.0))\n",
    "ax.set_ylabel('model loss')\n",
    "\n",
    "# fifth\n",
    "ax = fig.add_subplot(grid[2,1:])\n",
    "ax.plot(znorms,c='g')\n",
    "ax.set_ylim((0.0,20.0))\n",
    "ax.set_ylabel('||z||')\n",
    "ax.set_xlabel('iteration')\n",
    "\n",
    "fig.tight_layout()"
   ]
  },
  {
   "cell_type": "markdown",
   "metadata": {},
   "source": [
    "## Check and save results:"
   ]
  },
  {
   "cell_type": "code",
   "execution_count": 39,
   "metadata": {},
   "outputs": [
    {
     "data": {
      "text/plain": [
       "<matplotlib.colorbar.Colorbar at 0x7fea402bc460>"
      ]
     },
     "execution_count": 39,
     "metadata": {},
     "output_type": "execute_result"
    },
    {
     "data": {
      "image/png": "[encoded data removed]",
      "text/plain": [
       "<Figure size 432x288 with 2 Axes>"
      ]
     },
     "metadata": {
      "needs_background": "light"
     },
     "output_type": "display_data"
    },
    {
     "data": {
      "image/png": "[encoded data removed]",
      "text/plain": [
       "<Figure size 432x288 with 2 Axes>"
      ]
     },
     "metadata": {
      "needs_background": "light"
     },
     "output_type": "display_data"
    }
   ],
   "source": [
    "fig,ax = plt.subplots() \n",
    "model_p = vels[0][it_min][0]+vels[0][it_min][1]*(models_costmin[mi])\n",
    "vmax,vmin = 0.15,0.07\n",
    "cb = ax.imshow(model_p,vmin=vmin,vmax=vmax, extent=extent, origin='upper')\n",
    "fig.colorbar(cb)\n",
    "fig,ax = plt.subplots()\n",
    "cb = ax.imshow(model_p, extent=extent, origin='upper')\n",
    "fig.colorbar(cb)"
   ]
  },
  {
   "cell_type": "code",
   "execution_count": 40,
   "metadata": {},
   "outputs": [
    {
     "name": "stdout",
     "output_type": "stream",
     "text": [
      "0.7702722\n",
      "0.2876486\n"
     ]
    }
   ],
   "source": [
    "print(np.max(models_costmin[mi]))\n",
    "print(np.min(models_costmin[mi]))"
   ]
  },
  {
   "cell_type": "code",
   "execution_count": 41,
   "metadata": {},
   "outputs": [
    {
     "data": {
      "text/plain": [
       "(array([ 377., 1702., 1000.,  438.,  815.,  593.,  260.,  134.,   86.,\n",
       "          97.,   95.,  114.,  108.,  117.,  326.,  834.,  761.,  346.,\n",
       "         158.,   24.]),\n",
       " array([0.06761758, 0.07163297, 0.07564836, 0.07966375, 0.08367914,\n",
       "        0.08769453, 0.09170993, 0.09572531, 0.09974071, 0.10375609,\n",
       "        0.10777149, 0.11178688, 0.11580227, 0.11981766, 0.12383305,\n",
       "        0.12784845, 0.13186383, 0.13587922, 0.1398946 , 0.14391   ,\n",
       "        0.14792539], dtype=float32),\n",
       " <BarContainer object of 20 artists>)"
      ]
     },
     "execution_count": 41,
     "metadata": {},
     "output_type": "execute_result"
    },
    {
     "data": {
      "image/png": "[encoded data removed]",
      "text/plain": [
       "<Figure size 432x288 with 1 Axes>"
      ]
     },
     "metadata": {
      "needs_background": "light"
     },
     "output_type": "display_data"
    }
   ],
   "source": [
    "plt.hist(model_p.flatten(),bins=20)"
   ]
  },
  {
   "cell_type": "code",
   "execution_count": 42,
   "metadata": {},
   "outputs": [],
   "source": [
    "# create directory first time or only use as target for save when it already exists:\n",
    "runstr = '{0}'.format(runint)\n",
    "sdir = 'Resultssynth_{}'.format(casestr)\n",
    "if sdir not in os.listdir():\n",
    "    os.mkdir(sdir)"
   ]
  },
  {
   "cell_type": "code",
   "execution_count": 43,
   "metadata": {},
   "outputs": [
    {
     "name": "stdout",
     "output_type": "stream",
     "text": [
      "saved for case: tl2ts2, run: 8\n"
     ]
    }
   ],
   "source": [
    "# save all\n",
    "\n",
    "# save as numpy arrays\n",
    "np.save('./{0}/dRMSEs_{1}.npy'.format(sdir,runstr),np.array(dRMSEs))\n",
    "np.save('./{0}/mRMSEs_{1}.npy'.format(sdir,runstr),np.array(mRMSEs))\n",
    "np.save('./{0}/modsmin_{1}.npy'.format(sdir,runstr),np.array(models_costmin))\n",
    "np.save('./{0}/vels_{1}.npy'.format(sdir,runstr),np.array(vels))\n",
    "np.save('./{0}/zs_{1}.npy'.format(sdir,runstr),np.array(zs))\n",
    "#np.save('./{0}/zinit_{1}.npy'.format(sdir,runstr),SGDpars.zinit)\n",
    "\n",
    "print('saved for case: {0}, run: {1}'.format(casestr,runstr))"
   ]
  },
  {
   "cell_type": "code",
   "execution_count": 44,
   "metadata": {},
   "outputs": [
    {
     "data": {
      "text/plain": [
       "<matplotlib.image.AxesImage at 0x7fea40157490>"
      ]
     },
     "execution_count": 44,
     "metadata": {},
     "output_type": "execute_result"
    },
    {
     "data": {
      "image/png": "[encoded data removed]",
      "text/plain": [
       "<Figure size 432x288 with 1 Axes>"
      ]
     },
     "metadata": {
      "needs_background": "light"
     },
     "output_type": "display_data"
    }
   ],
   "source": [
    "modit = dnnmodel.decode(torch.tensor(zs[0][it_min]).to(device))\n",
    "\n",
    "fig,ax = plt.subplots()\n",
    "\n",
    "ax.imshow(modit.detach().cpu().numpy()[0,0,:,:],cmap='Greys',extent=extent, origin='upper')"
   ]
  },
  {
   "cell_type": "code",
   "execution_count": 45,
   "metadata": {},
   "outputs": [
    {
     "name": "stdout",
     "output_type": "stream",
     "text": [
      "0.7089672\n",
      "300\n",
      "(1, 301)\n"
     ]
    },
    {
     "data": {
      "text/plain": [
       "<matplotlib.image.AxesImage at 0x7fea740a73d0>"
      ]
     },
     "execution_count": 45,
     "metadata": {},
     "output_type": "execute_result"
    },
    {
     "data": {
      "image/png": "[encoded data removed]",
      "text/plain": [
       "<Figure size 432x288 with 1 Axes>"
      ]
     },
     "metadata": {
      "needs_background": "light"
     },
     "output_type": "display_data"
    }
   ],
   "source": [
    "# load saved model:\n",
    "#sdir = 'Results_{0}'.format(casestr)\n",
    "#runstr = '0'\n",
    "modload = np.load('./{0}/modsmin_{1}.npy'.format(sdir,runstr))\n",
    "dRMSEload = np.load('./{0}/dRMSEs_{1}.npy'.format(sdir,runstr))\n",
    "velsload = np.load('./{0}/vels_{1}.npy'.format(sdir,runstr))\n",
    "zsload = np.load('./{0}/zs_{1}.npy'.format(sdir,runstr))\n",
    "#zinitload = np.load('./{0}/zinit_{1}.npy'.format(sdir,runstr))\n",
    "print(np.min(dRMSEload))\n",
    "print(np.argmin(dRMSEload))\n",
    "#print(zinitload)\n",
    "print(dRMSEload.shape)\n",
    "\n",
    "fig,ax = plt.subplots()\n",
    "\n",
    "ax.imshow(modload[0,:,:],cmap='Greys',extent=extent, origin='upper')"
   ]
  },
  {
   "cell_type": "markdown",
   "metadata": {},
   "source": [
    "## Run forward simulation for inverted model:"
   ]
  },
  {
   "cell_type": "code",
   "execution_count": 46,
   "metadata": {},
   "outputs": [],
   "source": [
    "modrec = netG(torch.Tensor(zsload[0,it_min:,:]).to(device))\n",
    "modrec = modrec.detach().cpu().numpy()\n",
    "modrec = modrec[0,:,:]"
   ]
  },
  {
   "cell_type": "code",
   "execution_count": 47,
   "metadata": {},
   "outputs": [
    {
     "data": {
      "text/plain": [
       "<matplotlib.colorbar.Colorbar at 0x7fea41b6c910>"
      ]
     },
     "execution_count": 47,
     "metadata": {},
     "output_type": "execute_result"
    },
    {
     "data": {
      "image/png": "[encoded data removed]",
      "text/plain": [
       "<Figure size 432x288 with 2 Axes>"
      ]
     },
     "metadata": {
      "needs_background": "light"
     },
     "output_type": "display_data"
    }
   ],
   "source": [
    "# Build inverted velocity distribution:\n",
    "it_load = np.argmin(np.array(dRMSEload[0]))\n",
    "velsinv = velsload[0][it_load]\n",
    "velocitymodel = velsinv[0] + velsinv[1]*modrec[0]\n",
    "sqsmodel = 1.0/(velocitymodel)**2\n",
    "sqsmodel = np.array(sqsmodel,dtype=np.float64)\n",
    "fig,ax = plt.subplots()\n",
    "vmax,vmin = 0.15,0.07\n",
    "cb = ax.imshow(velocitymodel,vmax=vmax,vmin=vmin,cmap='Greys',extent=extent, origin='upper')\n",
    "fig.colorbar(cb)"
   ]
  },
  {
   "cell_type": "code",
   "execution_count": 48,
   "metadata": {},
   "outputs": [
    {
     "name": "stdout",
     "output_type": "stream",
     "text": [
      "0.06749266\n",
      "0.147833\n",
      "300\n"
     ]
    }
   ],
   "source": [
    "print(np.min(velocitymodel))\n",
    "print(np.max(velocitymodel))\n",
    "print(it_load)"
   ]
  },
  {
   "cell_type": "code",
   "execution_count": 49,
   "metadata": {},
   "outputs": [
    {
     "data": {
      "text/plain": [
       "array([0.0197533 , 0.16639843])"
      ]
     },
     "execution_count": 49,
     "metadata": {},
     "output_type": "execute_result"
    }
   ],
   "source": [
    "velsinv"
   ]
  },
  {
   "cell_type": "code",
   "execution_count": 50,
   "metadata": {},
   "outputs": [],
   "source": [
    "%julia D, pEik = getData($sqsmodel,pEik,false);"
   ]
  },
  {
   "cell_type": "code",
   "execution_count": 51,
   "metadata": {},
   "outputs": [],
   "source": [
    "Dp = %julia D"
   ]
  },
  {
   "cell_type": "code",
   "execution_count": 52,
   "metadata": {},
   "outputs": [],
   "source": [
    "from mpl_toolkits.axes_grid1 import make_axes_locatable"
   ]
  },
  {
   "cell_type": "code",
   "execution_count": 53,
   "metadata": {},
   "outputs": [
    {
     "name": "stdout",
     "output_type": "stream",
     "text": [
      "0.7089671542876\n"
     ]
    },
    {
     "data": {
      "image/png": "[encoded data removed]",
      "text/plain": [
       "<Figure size 432x288 with 5 Axes>"
      ]
     },
     "metadata": {
      "needs_background": "light"
     },
     "output_type": "display_data"
    }
   ],
   "source": [
    "# Mask data and compute RMSE:\n",
    "mskreal = np.reshape(v,(25,25))\n",
    "mskreal = np.array(mskreal,dtype=bool)\n",
    "mskreal = np.invert(mskreal)\n",
    "realdata = ttdata.reshape((25,25))\n",
    "realdmasked = np.ma.array(realdata,mask=mskreal)\n",
    "simdata = Dp.flatten(order='F')\n",
    "simdata = simdata.reshape((25,25))\n",
    "simdmasked = np.ma.array(simdata,mask=mskreal)\n",
    "\n",
    "# Compute overall max and min for traveltime colorbar:\n",
    "vmax = np.max([np.ma.max(realdmasked),np.ma.max(simdmasked)])\n",
    "vmin = np.min([np.ma.min(realdmasked),np.ma.min(simdmasked)])\n",
    "\n",
    "# Plot observed data, simulated data for inverted model and difference (errors).\n",
    "fig,ax = plt.subplots(1,3,constrained_layout=True)\n",
    "\n",
    "# Observed data:\n",
    "cb1 = ax[0].imshow(realdmasked,vmin=vmin,vmax=vmax)\n",
    "\n",
    "# Simulated data for inverted model:\n",
    "ax[1].imshow(simdmasked,vmin=vmin,vmax=vmax)\n",
    "ax[1].set_yticklabels([])\n",
    "fig.colorbar(cb1,ax=ax[1],shrink=0.35)\n",
    "\n",
    "# Difference between them (errors):\n",
    "cb2 = ax[2].imshow(realdmasked-simdmasked)\n",
    "ax[2].set_yticklabels([])\n",
    "fig.colorbar(cb2,ax=ax[2],shrink=0.35)\n",
    "#fig.tight_layout()\n",
    "\n",
    "# Compute and print RMSE:\n",
    "rmse = np.sqrt(np.mean((realdmasked-simdmasked)**2))\n",
    "print(rmse)"
   ]
  },
  {
   "cell_type": "code",
   "execution_count": 54,
   "metadata": {},
   "outputs": [],
   "source": [
    "%julia onedum = $onesmasked; mdum = reshape($sqsmodel,length($m)); Jvr = getSensTMatVec(onedum,mdum,pEik);"
   ]
  },
  {
   "cell_type": "code",
   "execution_count": 55,
   "metadata": {},
   "outputs": [],
   "source": [
    "Jvrp = %julia Jvr"
   ]
  },
  {
   "cell_type": "code",
   "execution_count": 56,
   "metadata": {},
   "outputs": [
    {
     "data": {
      "text/plain": [
       "<matplotlib.image.AxesImage at 0x7fea0ff61250>"
      ]
     },
     "execution_count": 56,
     "metadata": {},
     "output_type": "execute_result"
    },
    {
     "data": {
      "image/png": "[encoded data removed]",
      "text/plain": [
       "<Figure size 216x360 with 1 Axes>"
      ]
     },
     "metadata": {
      "needs_background": "light"
     },
     "output_type": "display_data"
    }
   ],
   "source": [
    "# total sensitivity\n",
    "fig,ax = plt.subplots(figsize=(3,5))\n",
    "plt.imshow(Jvrp.reshape(129,65,order='F'),extent=extent,origin='upper')"
   ]
  },
  {
   "cell_type": "code",
   "execution_count": 57,
   "metadata": {},
   "outputs": [
    {
     "data": {
      "text/plain": [
       "-0.0145124431485376"
      ]
     },
     "execution_count": 57,
     "metadata": {},
     "output_type": "execute_result"
    }
   ],
   "source": [
    "np.min(Jvrp)"
   ]
  },
  {
   "cell_type": "code",
   "execution_count": null,
   "metadata": {},
   "outputs": [],
   "source": []
  }
 ],
 "metadata": {
  "kernelspec": {
   "display_name": "Python 3",
   "language": "python",
   "name": "python3"
  },
  "language_info": {
   "codemirror_mode": {
    "name": "ipython",
    "version": 3
   },
   "file_extension": ".py",
   "mimetype": "text/x-python",
   "name": "python",
   "nbconvert_exporter": "python",
   "pygments_lexer": "ipython3",
   "version": "3.8.5"
  }
 },
 "nbformat": 4,
 "nbformat_minor": 2
}
