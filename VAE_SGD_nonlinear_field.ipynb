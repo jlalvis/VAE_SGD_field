{
 "cells": [
  {
   "cell_type": "markdown",
   "metadata": {},
   "source": [
    "# VAE-SGD inversion for crosshole GPR field data"
   ]
  },
  {
   "cell_type": "code",
   "execution_count": 1,
   "metadata": {},
   "outputs": [],
   "source": [
    "import os\n",
    "from pathlib import Path\n",
    "import numpy as np\n",
    "import torch\n",
    "from torch import nn\n",
    "import torch.optim as optim\n",
    "import random\n",
    "import time\n",
    "import matplotlib\n",
    "import matplotlib.pyplot as plt\n",
    "from julia.api import Julia\n",
    "jl = Julia(compiled_modules=False)"
   ]
  },
  {
   "cell_type": "code",
   "execution_count": 2,
   "metadata": {},
   "outputs": [],
   "source": [
    "# matplotlib configuration:\n",
    "params = {\n",
    "    #'text.latex.preamble': '\\\\usepackage{gensymb}',\n",
    "    'image.origin': 'lower',\n",
    "    #'image.interpolation': 'nearest',\n",
    "    #'image.cmap': 'gray',\n",
    "    #'axes.grid': False,\n",
    "    #'savefig.dpi': 150,  # to adjust notebook inline plot size\n",
    "    'axes.labelsize': 8, # fontsize for x and y labels (was 10)\n",
    "    'axes.titlesize': 8,\n",
    "    'font.size': 8, # was 10\n",
    "    'legend.fontsize': 6, # was 10\n",
    "    'xtick.labelsize': 8,\n",
    "    'ytick.labelsize': 8,\n",
    "    #'text.usetex': True,\n",
    "    #'figure.figsize': [3.39, 2.10],\n",
    "    #'font.family': 'serif',\n",
    "}\n",
    "matplotlib.rcParams.update(params)"
   ]
  },
  {
   "cell_type": "code",
   "execution_count": 3,
   "metadata": {},
   "outputs": [
    {
     "name": "stdout",
     "output_type": "stream",
     "text": [
      "Initializing Julia interpreter. This may take some time...\n"
     ]
    }
   ],
   "source": [
    "# Initialize julia interpreter:\n",
    "%load_ext julia.magic"
   ]
  },
  {
   "cell_type": "code",
   "execution_count": 4,
   "metadata": {},
   "outputs": [],
   "source": [
    "%matplotlib inline"
   ]
  },
  {
   "cell_type": "code",
   "execution_count": 5,
   "metadata": {},
   "outputs": [],
   "source": [
    "# Set working directory:\n",
    "workdir = '/home/jorge/Git_projs/VAE_SGD_field/'\n",
    "os.chdir(workdir)"
   ]
  },
  {
   "cell_type": "markdown",
   "metadata": {},
   "source": [
    "## Load data and define survey:"
   ]
  },
  {
   "cell_type": "code",
   "execution_count": 6,
   "metadata": {},
   "outputs": [
    {
     "name": "stdout",
     "output_type": "stream",
     "text": [
      "/home/jorge/.julia/dev/ParSpMatVec/deps/builds/ParSpMatVec\n"
     ]
    }
   ],
   "source": [
    "# Set domain and survey:\n",
    "cwid = 65 # number of cells in width direction\n",
    "chei = 129 # number of cells in height direction\n",
    "\n",
    "# Acquisition parameters\n",
    "bh_spacing = 3.25\n",
    "bh_length = 7.0\n",
    "sensor_spacing = 0.25\n",
    "starting_sensor = 1.0\n",
    "initial_depth = 0.55 # since the height resulting from the CNN is a bit larger, \n",
    "                     # later we could just ignore or crop the upper part.\n",
    "\n",
    "nrows = chei\n",
    "ncols = cwid\n",
    "n = np.array([nrows,ncols])\n",
    "Omega = np.array([initial_depth,bh_length,0.0,bh_spacing])\n",
    "\n",
    "h = (Omega[1::2]-Omega[0::2])/n\n",
    "\n",
    "# Since forward model is node-based, we rely on a shifted grid (nodes are put in cell centers):\n",
    "OmegaNodal = Omega.copy(); OmegaNodal[0::2] += h/2; OmegaNodal[1::2] -= h/2;\n",
    "%julia using jInv.Mesh;\n",
    "%julia Mfwd = getRegularMesh($OmegaNodal,$n.-1);\n",
    "%julia Minv = getRegularMesh($Omega,$n);"
   ]
  },
  {
   "cell_type": "code",
   "execution_count": 7,
   "metadata": {},
   "outputs": [
    {
     "name": "stdout",
     "output_type": "stream",
     "text": [
      "[0.55, 7.0, 0.0, 3.25][0.05, 0.05]"
     ]
    }
   ],
   "source": [
    "# print domain limits and spatial discretization:\n",
    "%julia print(Minv.domain), print(Minv.h); "
   ]
  },
  {
   "cell_type": "code",
   "execution_count": 8,
   "metadata": {},
   "outputs": [
    {
     "name": "stdout",
     "output_type": "stream",
     "text": [
      "[0.575, 6.975, 0.025, 3.225][0.05, 0.05]"
     ]
    }
   ],
   "source": [
    "# print domain limits and spatial discretization:\n",
    "%julia print(Mfwd.domain), print(Mfwd.h); "
   ]
  },
  {
   "cell_type": "code",
   "execution_count": 9,
   "metadata": {},
   "outputs": [],
   "source": [
    "# Set sources and receivers:\n",
    "row_step = 5\n",
    "init_row = 9 # since the first sensor is at 1.0 m depth and we start from 0.55 m\n",
    "nsrc = 25 #nrows//row_step\n",
    "nrec = 25 #nrows//row_step\n",
    "%julia using SparseArrays; using FactoredEikonalFastMarching;\n",
    "%julia Q = spzeros($nrows*$ncols,$nsrc);\n",
    "%julia P = spzeros($nrows*$ncols,$nrec);\n",
    "%julia for j=1:$nsrc; Q[loc2cs($init_row+$row_step*(j-1),1,$n),j] = 1.0; P[loc2cs($init_row+$row_step*(j-1),$ncols,$n),j] = 1.0; end;"
   ]
  },
  {
   "cell_type": "code",
   "execution_count": 10,
   "metadata": {},
   "outputs": [
    {
     "name": "stdout",
     "output_type": "stream",
     "text": [
      "/home/jorge/.julia/dev/ParSpMatVec/deps/builds/ParSpMatVec\n",
      "hasParSpMatVec==false. ParSpMatVec has failed to build!!!!!!!\n",
      "/home/jorge/.julia/dev/Multigrid/src/ParallelJuliaSolver\n"
     ]
    }
   ],
   "source": [
    "%julia D = zeros($nrec,$nsrc);\n",
    "%julia using jInvSeismic.EikonalInv;\n",
    "#%julia pEik = Array{EikonalParam}(undef,$nsrc);\n",
    "%julia pEik = EikonalInv.getEikonalInvParam(Mfwd,Q,P,true,false);"
   ]
  },
  {
   "cell_type": "code",
   "execution_count": 11,
   "metadata": {},
   "outputs": [],
   "source": [
    "# Create constant model to visualize survey and domain parameters:\n",
    "mvel = 0.07*np.ones((chei,cwid))\n",
    "m = 1.0/(mvel**2) # squared slowness"
   ]
  },
  {
   "cell_type": "code",
   "execution_count": 12,
   "metadata": {},
   "outputs": [
    {
     "data": {
      "text/plain": [
       "<matplotlib.colorbar.Colorbar at 0x7f0150014340>"
      ]
     },
     "execution_count": 12,
     "metadata": {},
     "output_type": "execute_result"
    },
    {
     "data": {
      "image/png": "[encoded data removed]",
      "text/plain": [
       "<Figure size 432x288 with 2 Axes>"
      ]
     },
     "metadata": {
      "needs_background": "light"
     },
     "output_type": "display_data"
    }
   ],
   "source": [
    "fig,ax = plt.subplots()\n",
    "cb = ax.imshow(mvel)\n",
    "fig.colorbar(cb)"
   ]
  },
  {
   "cell_type": "code",
   "execution_count": 13,
   "metadata": {},
   "outputs": [
    {
     "name": "stdout",
     "output_type": "stream",
     "text": [
      "\n",
      "computation time: 00:00:01\n"
     ]
    }
   ],
   "source": [
    "# Compute traveltimes for constant model:\n",
    "t0 = time.time()\n",
    "%julia D, pEik = getData($m,pEik,false);\n",
    "tf = time.time()-t0\n",
    "stf = time.strftime(\"%H:%M:%S\", time.gmtime(tf))\n",
    "print('\\ncomputation time: {0}'.format(stf))"
   ]
  },
  {
   "cell_type": "code",
   "execution_count": 14,
   "metadata": {},
   "outputs": [],
   "source": [
    "# Copy simulated data to python variable:\n",
    "Dp = %julia D"
   ]
  },
  {
   "cell_type": "code",
   "execution_count": 15,
   "metadata": {},
   "outputs": [
    {
     "data": {
      "text/plain": [
       "<matplotlib.colorbar.Colorbar at 0x7f014808b370>"
      ]
     },
     "execution_count": 15,
     "metadata": {},
     "output_type": "execute_result"
    },
    {
     "data": {
      "image/png": "[encoded data removed]",
      "text/plain": [
       "<Figure size 432x288 with 2 Axes>"
      ]
     },
     "metadata": {
      "needs_background": "light"
     },
     "output_type": "display_data"
    }
   ],
   "source": [
    "# One should be careful, since julia and python use different ordering (C-style or Fortran-style):\n",
    "Df = Dp.flatten(order='F')\n",
    "cb = plt.imshow(Df.reshape(25,25))\n",
    "plt.colorbar(cb)"
   ]
  },
  {
   "cell_type": "code",
   "execution_count": 16,
   "metadata": {},
   "outputs": [
    {
     "name": "stdout",
     "output_type": "stream",
     "text": [
      "[17.8275 21.4251 24.6227 26.2203 27.8178 29.0154 30.613  31.4106 33.4082\n",
      " 34.2058]\n",
      "[0.47 0.47 0.47 0.47 0.47 0.47 0.47 0.47 0.47 0.47]\n",
      "67.1216\n",
      "17.8275\n"
     ]
    },
    {
     "data": {
      "text/plain": [
       "<matplotlib.image.AxesImage at 0x7f0148070dc0>"
      ]
     },
     "execution_count": 16,
     "metadata": {},
     "output_type": "execute_result"
    },
    {
     "data": {
      "image/png": "[encoded data removed]",
      "text/plain": [
       "<Figure size 432x288 with 1 Axes>"
      ]
     },
     "metadata": {
      "needs_background": "light"
     },
     "output_type": "display_data"
    }
   ],
   "source": [
    "# load traveltime data modelling (generate synthetic data)\n",
    "loadfile = 'MOG.txt'\n",
    "dset = np.loadtxt(loadfile,comments='%')\n",
    "ttdata = 0.4*dset[:,6]-dset[:,-1] # number of sample*sampling rate - ATZ (absolute time zero)\n",
    "noise = 0.47*np.ones(len(ttdata))\n",
    "\n",
    "# Check correct loading:\n",
    "print(ttdata[:10])\n",
    "print(noise[:10])\n",
    "print(np.max(ttdata))\n",
    "print(np.min(ttdata))\n",
    "\n",
    "ndata = len(ttdata)\n",
    "\n",
    "fig,ax = plt.subplots()\n",
    "ax.imshow(ttdata.reshape(25,25))"
   ]
  },
  {
   "cell_type": "code",
   "execution_count": 17,
   "metadata": {},
   "outputs": [],
   "source": [
    "# for plotting:\n",
    "x = np.linspace(0.0, bh_spacing, cwid+1)\n",
    "y = np.linspace(initial_depth, bh_length, chei+1)\n",
    "dx = (x[1]-x[0])/2.\n",
    "dy = (y[1]-y[0])/2.\n",
    "extent = [x[0]-dx, x[-1]+dx, y[-1]+dy, y[0]-dy]"
   ]
  },
  {
   "cell_type": "code",
   "execution_count": 18,
   "metadata": {},
   "outputs": [],
   "source": [
    "# create source and receiver index array (for getSensTMatVecbatch)\n",
    "srcind = np.arange(1,26)\n",
    "recind = np.arange(1,26)\n",
    "SRC,REC = np.meshgrid(srcind,recind)\n",
    "SRC = SRC.flatten(order='F')\n",
    "REC = REC.flatten(order='F')"
   ]
  },
  {
   "cell_type": "code",
   "execution_count": 19,
   "metadata": {},
   "outputs": [],
   "source": [
    "# Add constrain for valid data\n",
    "v = np.zeros(nsrc*nrec)\n",
    "for i in np.arange(len(v)):\n",
    "    cd = np.abs(SRC[i]-(REC[i]))\n",
    "    if cd < 8: #14:\n",
    "        v[i] = 1\n",
    "    if SRC[i] in [1,2]: # take out measurements for depth < 1.25 m\n",
    "        v[i] = 0\n",
    "    if REC[i] in [1,2]: # take out measurements for depth < 1.25 m \n",
    "        v[i] = 0"
   ]
  },
  {
   "cell_type": "code",
   "execution_count": 20,
   "metadata": {},
   "outputs": [
    {
     "data": {
      "image/png": "[encoded data removed]",
      "text/plain": [
       "<Figure size 432x288 with 1 Axes>"
      ]
     },
     "metadata": {
      "needs_background": "light"
     },
     "output_type": "display_data"
    }
   ],
   "source": [
    "# Create mask for invalid data (high offset):\n",
    "mskdum = np.reshape(v,(25,25),order='F')\n",
    "mskdum = np.array(mskdum,dtype=bool)\n",
    "mskdum = np.invert(mskdum)\n",
    "ttvmasked = np.ma.array(Dp,mask=mskdum)\n",
    "\n",
    "# Plot masked data:\n",
    "fig,ax = plt.subplots()\n",
    "ax.imshow(ttvmasked)\n",
    "\n",
    "# Save masked indices for later data batching:\n",
    "mskdumflat = mskdum.flatten()\n",
    "indtomsk = np.arange(0,625)\n",
    "indsmasked = indtomsk[~mskdumflat]"
   ]
  },
  {
   "cell_type": "code",
   "execution_count": 21,
   "metadata": {},
   "outputs": [
    {
     "data": {
      "text/plain": [
       "(289,)"
      ]
     },
     "execution_count": 21,
     "metadata": {},
     "output_type": "execute_result"
    }
   ],
   "source": [
    "indsmasked.shape # check number of valid data"
   ]
  },
  {
   "cell_type": "code",
   "execution_count": 22,
   "metadata": {},
   "outputs": [
    {
     "data": {
      "text/plain": [
       "(625,)"
      ]
     },
     "execution_count": 22,
     "metadata": {},
     "output_type": "execute_result"
    }
   ],
   "source": [
    "# Get a vector of ones only in masked values (to compute \"coverage\" or total sensitivity)\n",
    "onesmasked = ~mskdumflat\n",
    "onesmasked.shape"
   ]
  },
  {
   "cell_type": "markdown",
   "metadata": {},
   "source": [
    "## Check sensitivity of forward model:"
   ]
  },
  {
   "cell_type": "code",
   "execution_count": 23,
   "metadata": {},
   "outputs": [],
   "source": [
    "# Compute J'v, where J' is the transposed Jacobian and v is the previously mentioned vector of ones.\n",
    "%julia onedum = $onesmasked; mdum = reshape($m,length($m)); Jv = getSensTMatVec(onedum,mdum,pEik);"
   ]
  },
  {
   "cell_type": "code",
   "execution_count": 24,
   "metadata": {},
   "outputs": [],
   "source": [
    "#%julia using jInv.ForwardShare;\n",
    "#%julia Jj = getSensMat(mdum,pEik);\n",
    "#J = %julia Jj"
   ]
  },
  {
   "cell_type": "code",
   "execution_count": 25,
   "metadata": {},
   "outputs": [],
   "source": [
    "#J.shape"
   ]
  },
  {
   "cell_type": "code",
   "execution_count": 26,
   "metadata": {},
   "outputs": [],
   "source": [
    "# How it is done in julia:\n",
    "#tve = np.zeros(129*65)\n",
    "#tve[4] = 1\n",
    "#coverSens = J@tve\n",
    "#fig,ax = plt.subplots()\n",
    "#cb = ax.imshow(coverSens.reshape((25,25),order='F'))\n",
    "#fig.colorbar(cb)"
   ]
  },
  {
   "cell_type": "code",
   "execution_count": 27,
   "metadata": {},
   "outputs": [],
   "source": [
    "# Copy J'v to python variable:\n",
    "Jvp = %julia Jv"
   ]
  },
  {
   "cell_type": "code",
   "execution_count": 28,
   "metadata": {},
   "outputs": [
    {
     "data": {
      "text/plain": [
       "<matplotlib.colorbar.Colorbar at 0x7f013510e520>"
      ]
     },
     "execution_count": 28,
     "metadata": {},
     "output_type": "execute_result"
    },
    {
     "data": {
      "image/png": "[encoded data removed]",
      "text/plain": [
       "<Figure size 216x360 with 2 Axes>"
      ]
     },
     "metadata": {
      "needs_background": "light"
     },
     "output_type": "display_data"
    }
   ],
   "source": [
    "# Plot total sensitivity (only for valid data):\n",
    "fig,ax = plt.subplots(figsize=(3,5))\n",
    "cpj = ax.imshow(Jvp.reshape(129,65,order='F'),extent=extent,origin='upper')\n",
    "fig.colorbar(cpj)"
   ]
  },
  {
   "cell_type": "code",
   "execution_count": 29,
   "metadata": {},
   "outputs": [],
   "source": [
    "# Get J'v for only one source:\n",
    "%julia onedum = zeros($nrec*$nsrc); onedum[2]=1.0; mdum = reshape($m,length($m)); Jrow = getSensTMatVec(onedum,mdum,pEik);"
   ]
  },
  {
   "cell_type": "code",
   "execution_count": 30,
   "metadata": {},
   "outputs": [],
   "source": [
    "Jrowp = %julia Jrow"
   ]
  },
  {
   "cell_type": "code",
   "execution_count": 31,
   "metadata": {},
   "outputs": [
    {
     "data": {
      "text/plain": [
       "<matplotlib.colorbar.Colorbar at 0x7f01350a99d0>"
      ]
     },
     "execution_count": 31,
     "metadata": {},
     "output_type": "execute_result"
    },
    {
     "data": {
      "image/png": "[encoded data removed]",
      "text/plain": [
       "<Figure size 432x288 with 2 Axes>"
      ]
     },
     "metadata": {
      "needs_background": "light"
     },
     "output_type": "display_data"
    }
   ],
   "source": [
    "fig, ax = plt.subplots()\n",
    "cpj = ax.imshow(Jrowp.reshape(chei,cwid,order='F'),extent=extent,origin='upper')\n",
    "fig.colorbar(cpj)"
   ]
  },
  {
   "cell_type": "code",
   "execution_count": 32,
   "metadata": {},
   "outputs": [],
   "source": [
    "# Import a module where the function was partially rewritten to allow for data batching:\n",
    "%julia include(\"getSensTMatVecbatch.jl\");"
   ]
  },
  {
   "cell_type": "code",
   "execution_count": 33,
   "metadata": {},
   "outputs": [],
   "source": [
    "# Select a few data (by specifying source and receiver number):\n",
    "SRCtest = SRC[[1,26,54]]\n",
    "RECtest = REC[[1,3,5]]\n",
    "%julia onedum = ones($nrec*$nsrc); mdum = reshape($m,length($m)); Jtest = getSensTMatVecbatch(onedum,$SRCtest,$RECtest,pEik);"
   ]
  },
  {
   "cell_type": "code",
   "execution_count": 34,
   "metadata": {},
   "outputs": [],
   "source": [
    "Jtestp = %julia Jtest"
   ]
  },
  {
   "cell_type": "code",
   "execution_count": 35,
   "metadata": {},
   "outputs": [
    {
     "data": {
      "text/plain": [
       "<matplotlib.colorbar.Colorbar at 0x7f01350d4130>"
      ]
     },
     "execution_count": 35,
     "metadata": {},
     "output_type": "execute_result"
    },
    {
     "data": {
      "image/png": "[encoded data removed]",
      "text/plain": [
       "<Figure size 432x288 with 2 Axes>"
      ]
     },
     "metadata": {
      "needs_background": "light"
     },
     "output_type": "display_data"
    }
   ],
   "source": [
    "fig, ax = plt.subplots()\n",
    "cpj = ax.imshow(Jtestp.reshape(chei,cwid,order='F'),extent=extent,origin='upper')\n",
    "fig.colorbar(cpj)"
   ]
  },
  {
   "cell_type": "code",
   "execution_count": 36,
   "metadata": {},
   "outputs": [],
   "source": [
    "#jacrow = np.array(tt.fop.jacobian().row(7))\n",
    "#fig, ax = plt.subplots()\n",
    "#cpj = ax.imshow(jacrow.reshape(chei,cwid))\n",
    "#fig.colorbar(cpj)"
   ]
  },
  {
   "cell_type": "code",
   "execution_count": 37,
   "metadata": {},
   "outputs": [
    {
     "data": {
      "text/plain": [
       "25"
      ]
     },
     "execution_count": 37,
     "metadata": {},
     "output_type": "execute_result"
    }
   ],
   "source": [
    "%julia length(pEik.eikonalParams)"
   ]
  },
  {
   "cell_type": "markdown",
   "metadata": {},
   "source": [
    "## Load trained VAE and perform VAE-SGD inversion:"
   ]
  },
  {
   "cell_type": "code",
   "execution_count": 38,
   "metadata": {},
   "outputs": [],
   "source": [
    "# check if GPU is available\n",
    "#device = torch.device('cuda:0' if torch.cuda.is_available() else 'cpu')\n",
    "\n",
    "# !! Here we do not use GPU for generation since it does not provide noticeable computational gain,\n",
    "#    however for larger models it could be useful.\n",
    "device = 'cpu'\n",
    "cuda = False\n",
    "# Define the latent space dimension:\n",
    "z_dim = 40\n",
    "\n",
    "# Settings for multi-CPU or GPU:\n",
    "kwargs = {'num_workers': 1, 'pin_memory': True} if torch.cuda.is_available() else {}\n",
    "if str(device) == 'cuda':\n",
    "    cuda=True\n",
    "else:\n",
    "    cuda=False\n",
    "\n",
    "# String to load the different cases of trained VAE:\n",
    "casestr = 'tl2ts2'\n",
    "\n",
    "# Load the VAE already trained:\n",
    "os.chdir('training')\n",
    "from autoencoder_ReLU import VAE\n",
    "gpath = 'VAE100eps40_{0}.pth'.format(casestr)\n",
    "dnnmodel = VAE(cuda=cuda, gpath=gpath,z_dim=z_dim)\n",
    "for param in dnnmodel.parameters():\n",
    "    param.requires_grad = False\n",
    "dnnmodel.to(device)\n",
    "dnnmodel.eval() # set evaluation mode (as opposed to training mode).\n",
    "netG = dnnmodel.decode\n",
    "os.chdir(workdir)"
   ]
  },
  {
   "cell_type": "code",
   "execution_count": 39,
   "metadata": {},
   "outputs": [],
   "source": [
    "# Main function for SGD-VAE inversion\n",
    "# Note: since it relies in both python and julia, it was easier to define it here than to load as a module,\n",
    "# however there might 'cleaner' ways to do it than the one used here. Sorry for the long cell...\n",
    "from dataclasses import dataclass\n",
    "from scipy.stats import chi\n",
    "\n",
    "@dataclass\n",
    "class SGDsetup:\n",
    "    epochs: int = 1\n",
    "    batch_size: int = 1\n",
    "    lr: float = 1e-4\n",
    "    clr: float = 1.0\n",
    "    ninits: int = 1\n",
    "    zinit: np.ndarray = np.zeros(1)\n",
    "    velinit: np.array = np.array([0.05,0.15])\n",
    "    gen: nn.Module = None\n",
    "    fwd: str = ''\n",
    "    A: np.ndarray = np.zeros(1)\n",
    "    #tt: str = None\n",
    "    d: np.ndarray = np.zeros(1)\n",
    "    #clip: str = ''\n",
    "    reg: str = ''\n",
    "    #alpha: float = 0.0\n",
    "    lam: float = 0.0\n",
    "    clam: float = 1.0\n",
    "    device: str = ''\n",
    "    step_eps: int = 1\n",
    "    DGM: str = 'VAE'\n",
    "    optimizer: str = 'SGD'\n",
    "    truemodel: np.ndarray = np.zeros(1)\n",
    "\n",
    "def SGD_ninits(setup):\n",
    "    \"\"\"Perform stochastic gradiend descent for a number of initial models.\n",
    "    Arguments:\n",
    "    setup -- SGDsetup object which contains SGD parameters.\n",
    "    \"\"\"\n",
    "    print_SGDsetup(setup)\n",
    "    dRMSEs = []\n",
    "    models_costmin = []\n",
    "    zs_hist = []\n",
    "    mRMSEs = []\n",
    "    vel_hist = []\n",
    "    for j in range(setup.ninits):\n",
    "        # call SGD_DGM_linear with one initial model:\n",
    "        zi = setup.zinit[j]\n",
    "        dloss, mloss, modelmin, vels, zs = SGD_DGM(setup,zi)\n",
    "        dRMSEs.append(np.sqrt(np.array(dloss)/len(indsmasked)))\n",
    "        models_costmin.append(modelmin)\n",
    "        vel_hist.append(vels)\n",
    "        zs_hist.append(zs)\n",
    "        mRMSEs.append(mloss)\n",
    "        minit = np.argmin(dRMSEs[-1])\n",
    "        print('init: {0}, dRMSE: {1:.4f}, mRMSE: {2:.4f}, ||z||: {3:.4f}'.format(j, \n",
    "              dRMSEs[-1][minit], mRMSEs[-1][minit], np.linalg.norm(zs_hist[-1][minit])))\n",
    "\n",
    "    return dRMSEs,mRMSEs,models_costmin,vel_hist,zs_hist\n",
    "\n",
    "def SGD_DGM(setup,zi):\n",
    "    \"\"\"Perform stochastic gradiend descent for one model and a linear forward operator.\n",
    "    Arguments:\n",
    "    setup -- SGDsetup object which contains SGD parameters.\n",
    "    zi -- initial model as np.ndarray.\n",
    "    \"\"\"\n",
    "    #optimizer = optim.Adam([z], lr=lr)\n",
    "    nz = setup.zinit.shape[1]\n",
    "    if setup.DGM == 'VAE':\n",
    "        z = 1.0*torch.zeros([1, nz]).to(setup.device)\n",
    "        z.data = torch.Tensor(zi.reshape(1,-1)).to(setup.device) # set initial latent vector\n",
    "        \n",
    "    z.requires_grad = True\n",
    "    #rvel = np.array([0.01,0.18])\n",
    "    rvel = setup.velinit # set initial values for linear velocity model\n",
    "    #rvel.requires_grad = True    \n",
    "    ndata = len(setup.d)\n",
    "    nvpix = 129*65\n",
    "    nz = z.numel()\n",
    "    lam = setup.lam\n",
    "    lr = setup.lr\n",
    "    #sg_its = ndata//setup.batch_size\n",
    "    sg_its = len(indsmasked)//setup.batch_size # use only valid data\n",
    "    truemodel = setup.truemodel\n",
    "    dloss = []\n",
    "    zs = []\n",
    "    vels = []\n",
    "    mloss = []\n",
    "    # set torch optimizer:\n",
    "    if setup.optimizer == \"SGD\":\n",
    "        optimizer = optim.SGD([z], lr=setup.lr)#, momentum=0.5)\n",
    "    elif setup.optimizer == 'Adam':\n",
    "        optimizer = optim.Adam([z], lr=setup.lr)\n",
    "    # send computation vectors to device:\n",
    "    d = torch.Tensor(setup.d).to(setup.device)\n",
    "    A = torch.Tensor(setup.A).to(setup.device)\n",
    "    #tt = setup.tt\n",
    "    chidist = chi(nz) # Chi-distribution with nz degrees of freedom\n",
    "    mchi = chidist.mean()\n",
    "    #print('mchi: {}'.format(mchi))\n",
    "    zs.append(np.copy(z.data.cpu().numpy())) # save initial z\n",
    "    vels.append(rvel) # save initial velocity vector\n",
    "    for it in range(setup.epochs): \n",
    "        mask = np.zeros(ndata, dtype=bool) # initiliaze mask for data batching\n",
    "        mask[indsmasked] = True # set only valid data\n",
    "        inds_init = np.arange(0,ndata)\n",
    "        inds_left = np.copy(indsmasked)\n",
    "        for sg in range(sg_its):\n",
    "            #fig,ax = plt.subplots(1,2)\n",
    "            # get data batch indices:\n",
    "            rand_outs = np.random.choice(len(inds_left),setup.batch_size,replace=False)\n",
    "            inds_batch = inds_left[rand_outs]\n",
    "            mask[inds_batch] = False # take out indices of current batch from mask\n",
    "            #plt.imshow(mask.reshape(25,25))\n",
    "            inds_left = inds_init[mask] # take out indices of current batch\n",
    "            #print(inds_left)\n",
    "            #print('indsleft len: {}'.format(len(inds_left)))\n",
    "\n",
    "            # Produce model from z\n",
    "            x0 = setup.gen(z)\n",
    "            \n",
    "            x=np.copy(x0.data.cpu().numpy()) # copy x into numpy array.\n",
    "            #plt.imshow(x.reshape(129,65))\n",
    "            v_model = rvel[0] + rvel[1]*(x0)\n",
    "            s_model=1/v_model\n",
    "\n",
    "            if setup.fwd == 'nonlinear':\n",
    "                s_m = s_model.detach().cpu().numpy()\n",
    "                mslowsq = np.array(s_m**2,dtype=np.float64)\n",
    "                # get traveltimes:\n",
    "                %julia simj, pEik = getData($mslowsq,pEik,false);\n",
    "                sim = %julia simj\n",
    "                sim = sim.flatten(order='F')\n",
    "                sim = torch.Tensor(sim).to(setup.device)\n",
    "                lv = -2*(s_m.flatten(order='F')**3)*np.ones([nvpix]) # derivative of squared slowness w.r.t. lower limit of velocity\n",
    "                ul = -2*(s_m.flatten(order='F')**3)*(x.flatten(order='F'))\n",
    "                lv = np.array(lv,dtype=np.float64)\n",
    "                ul = np.array(ul,dtype=np.float64)\n",
    "                # get Jacobian for linear velocity parameters:\n",
    "                %julia mdum = reshape($mslowsq,length($mslowsq)); Kvj1 = getSensMatVec($lv,mdum,pEik);\n",
    "                %julia mdum = reshape($mslowsq,length($mslowsq)); Kvj2 = getSensMatVec($ul,mdum,pEik);\n",
    "                Kv1 = %julia Kvj1\n",
    "                Kv2 = %julia Kvj2\n",
    "                Kv = np.concatenate([Kv1.reshape((-1,1)),Kv2.reshape((-1,1))],axis=1)\n",
    "                Ksgd = Kv[inds_batch]\n",
    "                    \n",
    "            elif setup.fwd == 'linear':\n",
    "                sim=torch.mv(A,s_model.flatten())\n",
    "            \n",
    "            e=d[inds_batch]-sim[inds_batch] # get residuals for batch\n",
    "            ec=d-sim # get residuals for complete data (including invalid)\n",
    "            databatch_loss = torch.sum(e**2)\n",
    "            optimizer.zero_grad()\n",
    "            \n",
    "            if setup.fwd == 'linear':\n",
    "                databatch_loss.backward()\n",
    "            elif setup.fwd == 'nonlinear':\n",
    "                ec = ec.detach().cpu().numpy()\n",
    "                SRCb = SRC[inds_batch]\n",
    "                RECb = REC[inds_batch]\n",
    "                # get Jacobian only for data batch:\n",
    "                %julia gradj = getSensTMatVecbatch($ec,$SRCb,$RECb,pEik);\n",
    "                grad = %julia gradj\n",
    "                grad = grad.reshape((129,65),order='F')\n",
    "                grad = grad.flatten()\n",
    "                grad = -2*(s_m.flatten()**3)*grad # gradient computed w.r.t. velocity instead of squared slowness\n",
    "                grad = -torch.Tensor(grad)\n",
    "                gradvel = np.matmul(-Ksgd.T,e.T.detach().cpu().numpy()) # gradient for velocity parameters\n",
    "                x0.backward(grad.reshape(x0.shape).to(setup.device)) # compute gradients w.r.t. latent vector\n",
    "\n",
    "            reg_loss = 0.0\n",
    "            if setup.reg=='origin':\n",
    "                reg_loss = lam*torch.norm(z)**2 # regularization (Bora et al., 2017)\n",
    "                reg_loss.backward()\n",
    "            if setup.reg=='ring':\n",
    "                reg_loss = lam*(torch.norm(z)-mchi)**2 # regularization to most common patterns\n",
    "                reg_loss.backward()\n",
    "\n",
    "            optimizer.step() # gradient step in latent space\n",
    "            print(rvel)\n",
    "            print('vmax = {}, vmin = {}'.format(np.max(1/s_m),np.min(1/s_m)))\n",
    "            curlr = optimizer.param_groups[0]['lr']\n",
    "            print('lr = {}, lam = {}'.format(curlr,lam))\n",
    "            #if it>5:\n",
    "            rvel = rvel - 1e-4*curlr*gradvel # gradient step for linear velocity parameters\n",
    "            \n",
    "            if not ((sg_its*it+sg+1)%setup.step_eps): # update lr and lam every \"step_eps\" iterations.\n",
    "                lam = setup.clam*lam\n",
    "                #lr = setup.clr*lr\n",
    "                for param_group in optimizer.param_groups:\n",
    "                    param_group['lr'] = setup.clr*curlr\n",
    "\n",
    "            data_loss = torch.sum((d[indsmasked]-sim[indsmasked])**2) # SSE for valid data\n",
    "            total_cost = data_loss + reg_loss\n",
    "            \n",
    "            model_loss = np.sqrt(np.mean((truemodel.flatten() - x.flatten())**2)) # w.r.t to zero (constant) model\n",
    "            \n",
    "            if sg_its*it+sg==0: cost_min = total_cost.item()\n",
    "\n",
    "            if total_cost.item()<=cost_min: # check if it is minimum cost\n",
    "                cost_min = total_cost.item()\n",
    "                modelmin = np.copy(x[0,0,:,:]) # 'decoded' model is saved only for minimum.\n",
    "\n",
    "            # to save results:\n",
    "            dloss.append(data_loss.detach().cpu().numpy())\n",
    "            zs.append(np.copy(z.data.cpu().numpy()))\n",
    "            vels.append(rvel)\n",
    "            mloss.append(model_loss)\n",
    "\n",
    "            if setup.fwd == 'nonlinear':\n",
    "                print('it: {0}, RMSE: {1}, znorm: {2}'.format(sg_its*it+sg, \n",
    "                      np.sqrt(data_loss.detach().cpu()/len(indsmasked)), np.linalg.norm(zs[-2])))\n",
    "    \n",
    "    # Compute RMSE for last iteration:\n",
    "    x0 = setup.gen(z)\n",
    "    x=np.copy(x0.data.cpu().numpy()) # copy x into numpy array.\n",
    "    v_model = rvel[0] + rvel[1]*(x0)\n",
    "    s_model=1/v_model\n",
    "    \n",
    "    if setup.fwd == 'nonlinear':\n",
    "        s_m = s_model.detach().cpu().numpy()\n",
    "        mslowsq = np.array(s_m**2,dtype=np.float64)\n",
    "        %julia simj, pEik = getData($mslowsq,pEik,false);\n",
    "        sim = %julia simj\n",
    "        sim = sim.flatten(order='F')\n",
    "        sim = torch.Tensor(sim).to(setup.device)\n",
    "        \n",
    "        \n",
    "    elif setup.fwd == 'linear':\n",
    "        sim=torch.mv(A,s_model.flatten())\n",
    "        \n",
    "    data_loss = torch.sum((d[indsmasked]-sim[indsmasked])**2)\n",
    "    model_loss = np.sqrt(np.mean((truemodel.flatten() - x.flatten())**2))\n",
    "    \n",
    "    dloss.append(data_loss.detach().cpu().numpy())\n",
    "    mloss.append(model_loss)\n",
    "    \n",
    "    if setup.fwd == 'nonlinear':\n",
    "        print('it: {0}, RMSE: {1}, znorm: {2}'.format(sg_its*it+sg+1, \n",
    "              np.sqrt(data_loss.detach().cpu()/len(indsmasked)), np.linalg.norm(zs[-1])))\n",
    "            \n",
    "    return dloss, mloss, modelmin, vels, zs\n",
    "\n",
    "def print_SGDsetup(setup):\n",
    "    ndata = len(indsmasked)\n",
    "    sg_its = ndata//setup.batch_size\n",
    "    its = setup.epochs*(sg_its)\n",
    "    v = (\"DGM: {0}, epochs: {1}, iterations: {2}, batch_size: {3}, step_eps: {4} \\n\"\n",
    "    \"lr: {5:.1e},  clr: {6:.3f}, reg: {7}, lam: {8:.1e},  clam: {9:.3f}, optimizer: {10} \\n\").format(setup.DGM,\n",
    "         setup.epochs,its,setup.batch_size,setup.step_eps,setup.lr,setup.clr,setup.reg,setup.lam,setup.clam,\n",
    "         setup.optimizer)\n",
    "    print(v)"
   ]
  },
  {
   "cell_type": "markdown",
   "metadata": {},
   "source": [
    "Perform SGD for several initial models:"
   ]
  },
  {
   "cell_type": "code",
   "execution_count": 40,
   "metadata": {},
   "outputs": [],
   "source": [
    "# set global constants\n",
    "SGDpars = SGDsetup() # initialize data object containing SGD parameters\n",
    "SGDpars.d = ttdata # \"true\" data (with or without added noise)\n",
    "SGDpars.ninits = 1 # number of initial models to test for convergence (for inversion of a single model set to 1)\n",
    "SGDpars.fwd = 'nonlinear' # either: 'linear' or 'nonlinear'\n",
    "SGDpars.device = device # device to use with pytorch"
   ]
  },
  {
   "cell_type": "code",
   "execution_count": 41,
   "metadata": {},
   "outputs": [],
   "source": [
    "# Different ways to define the initial model(s):\n",
    "\n",
    "# Directly from a Normal distribution of size z_dim:\n",
    "#zin = np.random.randn(1,z_dim)\n",
    "\n",
    "# Sampling from a \"ring\" in the most common patterns, as defined by the mean of a Chi-distribution:\n",
    "#chidist = chi(z_dim)\n",
    "#mchi = chidist.mean()\n",
    "#stdchi = chidist.std()\n",
    "#radvec = np.random.rand(1,z_dim)\n",
    "#radvecunit = radvec/np.linalg.norm(radvec)\n",
    "#zin = mchi*radvecunit#+stdchi*np.random.randn()\n",
    "\n",
    "# Loading an array with samples of the correct size\n",
    "runint = 0\n",
    "zin = np.load('zinit_d40s100.npy') # dimensions: number of samples x latent space dimension\n",
    "zin = zin[runint].reshape(1,-1)"
   ]
  },
  {
   "cell_type": "code",
   "execution_count": 42,
   "metadata": {},
   "outputs": [
    {
     "name": "stdout",
     "output_type": "stream",
     "text": [
      "DGM: VAE, epochs: 20, iterations: 300, batch_size: 19, step_eps: 3 \n",
      "lr: 5.0e-03,  clr: 0.990, reg: origin, lam: 1.0e+02,  clam: 0.850, optimizer: SGD \n",
      "\n",
      "[0.01 0.18]\n",
      "vmax = 0.1423991620540619, vmin = 0.06334114819765091\n",
      "lr = 0.005, lam = 100\n",
      "it: 0, RMSE: 8.525675773620605, znorm: 6.285154342651367\n",
      "[-0.00145661  0.17331222]\n",
      "vmax = 0.1188480481505394, vmin = 0.041976362466812134\n",
      "lr = 0.005, lam = 100\n",
      "it: 1, RMSE: 13.994258880615234, znorm: 7.230295658111572\n",
      "[0.09064862 0.2074074 ]\n",
      "vmax = 0.3214012384414673, vmin = 0.1283356249332428\n",
      "lr = 0.005, lam = 100\n",
      "it: 2, RMSE: 22.328468322753906, znorm: 30.980798721313477\n",
      "[0.07741897 0.19830178]\n",
      "vmax = 0.20619051158428192, vmin = 0.13727796077728271\n",
      "lr = 0.00495, lam = 85.0\n",
      "it: 3, RMSE: 14.289210319519043, znorm: 1.07841157913208\n",
      "[0.05796295 0.19140038]\n",
      "vmax = 0.18885305523872375, vmin = 0.10092872381210327\n",
      "lr = 0.00495, lam = 85.0\n",
      "it: 4, RMSE: 10.642850875854492, znorm: 8.523859024047852\n",
      "[0.03704475 0.18411329]\n",
      "vmax = 0.12250057607889175, vmin = 0.0929064229130745\n",
      "lr = 0.00495, lam = 85.0\n",
      "it: 5, RMSE: 6.416975498199463, znorm: 2.467359781265259\n",
      "[0.03127436 0.18208926]\n",
      "vmax = 0.14682985842227936, vmin = 0.07450495660305023\n",
      "lr = 0.0049005, lam = 72.25\n",
      "it: 6, RMSE: 3.39115834236145, znorm: 3.1854472160339355\n",
      "[0.0288875  0.18171535]\n",
      "vmax = 0.1644902527332306, vmin = 0.08050365746021271\n",
      "lr = 0.0049005, lam = 72.25\n",
      "it: 7, RMSE: 4.928318977355957, znorm: 4.747797966003418\n",
      "[0.01510224 0.17565184]\n",
      "vmax = 0.08576139807701111, vmin = 0.058865539729595184\n",
      "lr = 0.0049005, lam = 72.25\n",
      "it: 8, RMSE: 12.192233085632324, znorm: 4.102951526641846\n",
      "[0.08276806 0.19777634]\n",
      "vmax = 0.25362569093704224, vmin = 0.12661004066467285\n",
      "lr = 0.004851495, lam = 61.4125\n",
      "it: 9, RMSE: 18.068359375, znorm: 9.264518737792969\n",
      "[0.06808672 0.18999434]\n",
      "vmax = 0.18586775660514832, vmin = 0.10982178896665573\n",
      "lr = 0.004851495, lam = 61.4125\n",
      "it: 10, RMSE: 12.348048210144043, znorm: 7.649922847747803\n",
      "[0.04511632 0.1820836 ]\n",
      "vmax = 0.11195288598537445, vmin = 0.09070070832967758\n",
      "lr = 0.004851495, lam = 61.4125\n",
      "it: 11, RMSE: 6.872967720031738, znorm: 3.6537458896636963\n",
      "[0.03741126 0.1797327 ]\n",
      "vmax = 0.12496458739042282, vmin = 0.08685272932052612\n",
      "lr = 0.00480298005, lam = 52.200625\n",
      "it: 12, RMSE: 4.427167892456055, znorm: 2.3856606483459473\n",
      "[0.03066389 0.17779803]\n",
      "vmax = 0.14451132714748383, vmin = 0.07967004179954529\n",
      "lr = 0.00480298005, lam = 52.200625\n",
      "it: 13, RMSE: 2.7029972076416016, znorm: 2.6755239963531494\n",
      "[0.02592692 0.17620233]\n",
      "vmax = 0.0982862338423729, vmin = 0.0725022703409195\n",
      "lr = 0.00480298005, lam = 52.200625\n",
      "it: 14, RMSE: 6.311769485473633, znorm: 1.766193151473999\n",
      "[0.04287915 0.18236115]\n",
      "vmax = 0.18921680748462677, vmin = 0.0875914990901947\n",
      "lr = 0.0047549502495, lam = 44.37053125\n",
      "it: 15, RMSE: 9.535943984985352, znorm: 7.033506393432617\n",
      "[0.02214761 0.17361632]\n",
      "vmax = 0.09029912948608398, vmin = 0.07047019153833389\n",
      "lr = 0.0047549502495, lam = 44.37053125\n",
      "it: 16, RMSE: 8.784711837768555, znorm: 4.0677571296691895\n",
      "[0.05846324 0.18607066]\n",
      "vmax = 0.2090897560119629, vmin = 0.11000087857246399\n",
      "lr = 0.0047549502495, lam = 44.37053125\n",
      "it: 17, RMSE: 12.517958641052246, znorm: 6.805540084838867\n",
      "[0.04111602 0.17903204]\n",
      "vmax = 0.1302330493927002, vmin = 0.08892712742090225\n",
      "lr = 0.004707400747005, lam = 37.7149515625\n",
      "it: 18, RMSE: 4.763653755187988, znorm: 4.220949172973633\n",
      "[0.02993163 0.1755709 ]\n",
      "vmax = 0.10920564830303192, vmin = 0.08054737746715546\n",
      "lr = 0.004707400747005, lam = 37.7149515625\n",
      "it: 19, RMSE: 4.746044635772705, znorm: 2.7863683700561523\n",
      "[0.0362389 0.1780114]\n",
      "vmax = 0.16621485352516174, vmin = 0.08847615122795105\n",
      "lr = 0.004707400747005, lam = 37.7149515625\n",
      "it: 20, RMSE: 5.612438678741455, znorm: 3.85671329498291\n",
      "[0.02232404 0.17224656]\n",
      "vmax = 0.131495863199234, vmin = 0.06034821271896362\n",
      "lr = 0.00466032673953495, lam = 32.057708828124994\n",
      "it: 21, RMSE: 7.4261345863342285, znorm: 5.155961990356445\n",
      "[0.04806614 0.1806387 ]\n",
      "vmax = 0.20628395676612854, vmin = 0.08486740291118622\n",
      "lr = 0.00466032673953495, lam = 32.057708828124994\n",
      "it: 22, RMSE: 12.516766548156738, znorm: 9.637187957763672\n",
      "[0.02771797 0.17065919]\n",
      "vmax = 0.14212767779827118, vmin = 0.0702105313539505\n",
      "lr = 0.00466032673953495, lam = 32.057708828124994\n",
      "it: 23, RMSE: 3.4950010776519775, znorm: 5.706129550933838\n",
      "[0.03291508 0.17249385]\n",
      "vmax = 0.1551496535539627, vmin = 0.07655154168605804\n",
      "lr = 0.0046137234721396, lam = 27.249052503906245\n",
      "it: 24, RMSE: 2.170302152633667, znorm: 4.765480995178223\n",
      "[0.03049186 0.17161723]\n",
      "vmax = 0.14430780708789825, vmin = 0.07548713684082031\n",
      "lr = 0.0046137234721396, lam = 27.249052503906245\n",
      "it: 25, RMSE: 3.128981351852417, znorm: 3.4956133365631104\n",
      "[0.0347331  0.17311086]\n",
      "vmax = 0.15287230908870697, vmin = 0.08359677344560623\n",
      "lr = 0.0046137234721396, lam = 27.249052503906245\n",
      "it: 26, RMSE: 4.216928482055664, znorm: 3.801694393157959\n",
      "[0.02770514 0.17066995]\n",
      "vmax = 0.13275763392448425, vmin = 0.07568332552909851\n",
      "lr = 0.004567586237418204, lam = 23.16169462832031\n",
      "it: 27, RMSE: 3.804888963699341, znorm: 2.6531567573547363\n",
      "[0.03532613 0.17365754]\n",
      "vmax = 0.18201294541358948, vmin = 0.07541082799434662\n",
      "lr = 0.004567586237418204, lam = 23.16169462832031\n",
      "it: 28, RMSE: 6.807422161102295, znorm: 6.835009574890137\n",
      "[0.02220358 0.16759248]\n",
      "vmax = 0.1407322883605957, vmin = 0.06899815052747726\n",
      "lr = 0.004567586237418204, lam = 23.16169462832031\n",
      "it: 29, RMSE: 5.502816677093506, znorm: 4.218603134155273\n",
      "[0.03307419 0.17126149]\n",
      "vmax = 0.15596556663513184, vmin = 0.08093948662281036\n",
      "lr = 0.004521910375044022, lam = 19.68744043407226\n",
      "it: 30, RMSE: 4.507059097290039, znorm: 4.440837383270264\n",
      "[0.01947898 0.16594529]\n",
      "vmax = 0.12176813930273056, vmin = 0.05843765288591385\n",
      "lr = 0.004521910375044022, lam = 19.68744043407226\n",
      "it: 31, RMSE: 6.47145414352417, znorm: 6.6416335105896\n",
      "[0.04814021 0.17664363]\n",
      "vmax = 0.24473470449447632, vmin = 0.08386918902397156\n",
      "lr = 0.004521910375044022, lam = 19.68744043407226\n",
      "it: 32, RMSE: 15.402607917785645, znorm: 17.50804328918457\n",
      "[0.03096997 0.16576298]\n",
      "vmax = 0.1993182748556137, vmin = 0.06302031129598618\n",
      "lr = 0.004476691271293582, lam = 16.73432436896142\n",
      "it: 33, RMSE: 8.713624954223633, znorm: 12.642662048339844\n",
      "[0.01687981 0.15770555]\n",
      "vmax = 0.15486226975917816, vmin = 0.04829338937997818\n",
      "lr = 0.004476691271293582, lam = 16.73432436896142\n",
      "it: 34, RMSE: 2.538461446762085, znorm: 8.715944290161133\n",
      "[0.02478343 0.16094796]\n",
      "vmax = 0.17129559814929962, vmin = 0.05516114830970764\n",
      "lr = 0.004476691271293582, lam = 16.73432436896142\n",
      "it: 35, RMSE: 3.731403112411499, znorm: 8.943018913269043\n",
      "[0.01483663 0.15613807]\n",
      "vmax = 0.1401689201593399, vmin = 0.05523914843797684\n",
      "lr = 0.004431924358580646, lam = 14.224175713617207\n",
      "it: 36, RMSE: 7.505498886108398, znorm: 6.092543601989746\n",
      "[0.05006621 0.16979529]\n",
      "vmax = 0.21200235188007355, vmin = 0.08225012570619583\n",
      "lr = 0.004431924358580646, lam = 14.224175713617207\n",
      "it: 37, RMSE: 13.093563079833984, znorm: 13.250537872314453\n",
      "[0.03103224 0.15941235]\n",
      "vmax = 0.17454156279563904, vmin = 0.06691572070121765\n",
      "lr = 0.004431924358580646, lam = 14.224175713617207\n",
      "it: 38, RMSE: 5.054213523864746, znorm: 9.243663787841797\n",
      "[0.01962802 0.15334548]\n",
      "vmax = 0.15279610455036163, vmin = 0.05922524631023407\n",
      "lr = 0.00438760511499484, lam = 12.090549356574625\n",
      "it: 39, RMSE: 4.508110046386719, znorm: 6.952788829803467\n",
      "[0.04134735 0.16089599]\n",
      "vmax = 0.18915651738643646, vmin = 0.07817207276821136\n",
      "lr = 0.00438760511499484, lam = 12.090549356574625\n",
      "it: 40, RMSE: 10.144512176513672, znorm: 8.841489791870117\n",
      "[0.02237976 0.15076693]\n",
      "vmax = 0.14480921626091003, vmin = 0.05888886749744415\n",
      "lr = 0.00438760511499484, lam = 12.090549356574625\n",
      "it: 41, RMSE: 3.498947858810425, znorm: 11.122987747192383\n",
      "[0.02362289 0.15083584]\n",
      "vmax = 0.14252200722694397, vmin = 0.06000950187444687\n",
      "lr = 0.004343729063844891, lam = 10.276966953088431\n",
      "it: 42, RMSE: 3.3028526306152344, znorm: 9.967535018920898\n",
      "[0.02239625 0.14976436]\n",
      "vmax = 0.13478562235832214, vmin = 0.05827254429459572\n",
      "lr = 0.004343729063844891, lam = 10.276966953088431\n",
      "it: 43, RMSE: 3.6555659770965576, znorm: 8.827325820922852\n",
      "[0.02794116 0.15195924]\n",
      "vmax = 0.14428460597991943, vmin = 0.06410548090934753\n",
      "lr = 0.004343729063844891, lam = 10.276966953088431\n",
      "it: 44, RMSE: 2.9728946685791016, znorm: 8.72875690460205\n"
     ]
    },
    {
     "name": "stdout",
     "output_type": "stream",
     "text": [
      "[0.02657822 0.15098309]\n",
      "vmax = 0.13555631041526794, vmin = 0.06263197213411331\n",
      "lr = 0.004300291773206443, lam = 8.735421910125167\n",
      "it: 45, RMSE: 2.7471418380737305, znorm: 7.7790751457214355\n",
      "[0.02868197 0.15190943]\n",
      "vmax = 0.13795530796051025, vmin = 0.06632614880800247\n",
      "lr = 0.004300291773206443, lam = 8.735421910125167\n",
      "it: 46, RMSE: 2.160478115081787, znorm: 7.362504005432129\n",
      "[0.03057264 0.15250127]\n",
      "vmax = 0.14006276428699493, vmin = 0.06852325797080994\n",
      "lr = 0.004300291773206443, lam = 8.735421910125167\n",
      "it: 47, RMSE: 1.8395591974258423, znorm: 6.983691692352295\n",
      "[0.02906793 0.15177588]\n",
      "vmax = 0.13685786724090576, vmin = 0.0676330178976059\n",
      "lr = 0.0042572888554743785, lam = 7.425108623606391\n",
      "it: 48, RMSE: 2.319673538208008, znorm: 6.237532615661621\n",
      "[0.03424019 0.15361331]\n",
      "vmax = 0.14544013142585754, vmin = 0.07386019080877304\n",
      "lr = 0.0042572888554743785, lam = 7.425108623606391\n",
      "it: 49, RMSE: 2.0808632373809814, znorm: 6.304955005645752\n",
      "[0.02973586 0.15175469]\n",
      "vmax = 0.13419055938720703, vmin = 0.06960603594779968\n",
      "lr = 0.0042572888554743785, lam = 7.425108623606391\n",
      "it: 50, RMSE: 2.577012538909912, znorm: 5.44395637512207\n",
      "[0.0376698  0.15475644]\n",
      "vmax = 0.15033063292503357, vmin = 0.07901106029748917\n",
      "lr = 0.004214715966919635, lam = 6.3113423300654325\n",
      "it: 51, RMSE: 3.101172685623169, znorm: 5.960355758666992\n",
      "[0.03043412 0.15184606]\n",
      "vmax = 0.13863053917884827, vmin = 0.07244577258825302\n",
      "lr = 0.004214715966919635, lam = 6.3113423300654325\n",
      "it: 52, RMSE: 2.26821231842041, znorm: 5.097116470336914\n",
      "[0.03754206 0.15448153]\n",
      "vmax = 0.14778202772140503, vmin = 0.0790877491235733\n",
      "lr = 0.004214715966919635, lam = 6.3113423300654325\n",
      "it: 53, RMSE: 2.948577404022217, znorm: 5.542494773864746\n",
      "[0.03010397 0.15161137]\n",
      "vmax = 0.13458320498466492, vmin = 0.07114597409963608\n",
      "lr = 0.004172568807250438, lam = 5.364640980555618\n",
      "it: 54, RMSE: 2.7176010608673096, znorm: 4.770567417144775\n",
      "[0.03710607 0.1543194 ]\n",
      "vmax = 0.14912670850753784, vmin = 0.078099325299263\n",
      "lr = 0.004172568807250438, lam = 5.364640980555618\n",
      "it: 55, RMSE: 2.621164560317993, znorm: 5.600708961486816\n",
      "[0.031665   0.15193771]\n",
      "vmax = 0.14000928401947021, vmin = 0.07315026223659515\n",
      "lr = 0.004172568807250438, lam = 5.364640980555618\n",
      "it: 56, RMSE: 2.9347987174987793, znorm: 5.250783443450928\n",
      "[0.03563467 0.15344982]\n",
      "vmax = 0.17247861623764038, vmin = 0.07292714715003967\n",
      "lr = 0.0041308431191779335, lam = 4.559944833472275\n",
      "it: 57, RMSE: 2.3067524433135986, znorm: 7.203483581542969\n",
      "[0.02915566 0.15122801]\n",
      "vmax = 0.15795542299747467, vmin = 0.07093477249145508\n",
      "lr = 0.0041308431191779335, lam = 4.559944833472275\n",
      "it: 58, RMSE: 2.0815722942352295, znorm: 6.614290237426758\n",
      "[0.0355425 0.153668 ]\n",
      "vmax = 0.16856998205184937, vmin = 0.07694076001644135\n",
      "lr = 0.0041308431191779335, lam = 4.559944833472275\n",
      "it: 59, RMSE: 2.481639862060547, znorm: 6.939910888671875\n",
      "[0.02960188 0.15148186]\n",
      "vmax = 0.1549452543258667, vmin = 0.07160956412553787\n",
      "lr = 0.004089534687986154, lam = 3.8759531084514336\n",
      "it: 60, RMSE: 1.591517686843872, znorm: 6.3175578117370605\n",
      "[0.03352083 0.1529178 ]\n",
      "vmax = 0.16206955909729004, vmin = 0.07646076381206512\n",
      "lr = 0.004089534687986154, lam = 3.8759531084514336\n",
      "it: 61, RMSE: 1.6352955102920532, znorm: 6.415714263916016\n",
      "[0.03041907 0.15164976]\n",
      "vmax = 0.15348964929580688, vmin = 0.07223682105541229\n",
      "lr = 0.004089534687986154, lam = 3.8759531084514336\n",
      "it: 62, RMSE: 1.378258228302002, znorm: 5.968332767486572\n",
      "[0.03418701 0.15300859]\n",
      "vmax = 0.15980035066604614, vmin = 0.07603523880243301\n",
      "lr = 0.004048639341106292, lam = 3.2945601421837183\n",
      "it: 63, RMSE: 1.536665916442871, znorm: 6.054876327514648\n",
      "[0.03263835 0.15236582]\n",
      "vmax = 0.15526024997234344, vmin = 0.07468521595001221\n",
      "lr = 0.004048639341106292, lam = 3.2945601421837183\n",
      "it: 64, RMSE: 0.9569887518882751, znorm: 5.7968010902404785\n",
      "[0.03195923 0.15207784]\n",
      "vmax = 0.15218955278396606, vmin = 0.07397899031639099\n",
      "lr = 0.004048639341106292, lam = 3.2945601421837183\n",
      "it: 65, RMSE: 1.135813593864441, znorm: 5.541065692901611\n",
      "[0.03365022 0.15278813]\n",
      "vmax = 0.15485362708568573, vmin = 0.07559751719236374\n",
      "lr = 0.00400815294769523, lam = 2.8003761208561606\n",
      "it: 66, RMSE: 1.01421320438385, znorm: 5.584741592407227\n",
      "[0.03199742 0.15221885]\n",
      "vmax = 0.15090353786945343, vmin = 0.07404454052448273\n",
      "lr = 0.00400815294769523, lam = 2.8003761208561606\n",
      "it: 67, RMSE: 1.0682843923568726, znorm: 5.344542026519775\n",
      "[0.03361955 0.15295307]\n",
      "vmax = 0.15378746390342712, vmin = 0.07492681592702866\n",
      "lr = 0.00400815294769523, lam = 2.8003761208561606\n",
      "it: 68, RMSE: 1.0602233409881592, znorm: 5.418209552764893\n",
      "[0.03160429 0.15208654]\n",
      "vmax = 0.148638054728508, vmin = 0.07338276505470276\n",
      "lr = 0.003968071418218277, lam = 2.3803197027277365\n",
      "it: 69, RMSE: 1.199448823928833, znorm: 5.143739223480225\n",
      "[0.03482307 0.15338974]\n",
      "vmax = 0.1551504135131836, vmin = 0.07653626799583435\n",
      "lr = 0.003968071418218277, lam = 2.3803197027277365\n",
      "it: 70, RMSE: 1.7417184114456177, znorm: 5.475032329559326\n",
      "[0.03205103 0.15214543]\n",
      "vmax = 0.14893794059753418, vmin = 0.07442092150449753\n",
      "lr = 0.003968071418218277, lam = 2.3803197027277365\n",
      "it: 71, RMSE: 0.9367605447769165, znorm: 5.134059906005859\n",
      "[0.03304708 0.15243509]\n",
      "vmax = 0.14947348833084106, vmin = 0.07455501705408096\n",
      "lr = 0.0039283907040360945, lam = 2.023271747318576\n",
      "it: 72, RMSE: 0.8997232913970947, znorm: 5.027932167053223\n",
      "[0.03241527 0.15228551]\n",
      "vmax = 0.14832529425621033, vmin = 0.07370740175247192\n",
      "lr = 0.0039283907040360945, lam = 2.023271747318576\n",
      "it: 73, RMSE: 0.8348247408866882, znorm: 5.080257415771484\n",
      "[0.03123276 0.15180386]\n",
      "vmax = 0.1451796442270279, vmin = 0.07261175662279129\n",
      "lr = 0.0039283907040360945, lam = 2.023271747318576\n",
      "it: 74, RMSE: 1.1408300399780273, znorm: 4.885217189788818\n",
      "[0.03327959 0.15263808]\n",
      "vmax = 0.14804905652999878, vmin = 0.07441167533397675\n",
      "lr = 0.0038891067969957335, lam = 1.7197809852207897\n",
      "it: 75, RMSE: 1.0832014083862305, znorm: 5.086817741394043\n",
      "[0.03155558 0.15185512]\n",
      "vmax = 0.14375071227550507, vmin = 0.07250317931175232\n",
      "lr = 0.0038891067969957335, lam = 1.7197809852207897\n",
      "it: 76, RMSE: 1.6686948537826538, znorm: 4.6325578689575195\n",
      "[0.0341234  0.15290245]\n",
      "vmax = 0.14822089672088623, vmin = 0.07570508867502213\n",
      "lr = 0.0038891067969957335, lam = 1.7197809852207897\n",
      "it: 77, RMSE: 1.0598645210266113, znorm: 4.9445414543151855\n",
      "[0.03218318 0.15216953]\n",
      "vmax = 0.1452721506357193, vmin = 0.07410894334316254\n",
      "lr = 0.003850215729025776, lam = 1.4618138374376712\n",
      "it: 78, RMSE: 1.0260517597198486, znorm: 4.750507354736328\n",
      "[0.03476843 0.15328615]\n",
      "vmax = 0.1490476280450821, vmin = 0.07618391513824463\n",
      "lr = 0.003850215729025776, lam = 1.4618138374376712\n",
      "it: 79, RMSE: 1.6681829690933228, znorm: 5.2160563468933105\n",
      "[0.03109617 0.15190507]\n",
      "vmax = 0.1434916853904724, vmin = 0.07334597408771515\n",
      "lr = 0.003850215729025776, lam = 1.4618138374376712\n",
      "it: 80, RMSE: 1.2490631341934204, znorm: 4.910118103027344\n",
      "[0.03338051 0.15280663]\n",
      "vmax = 0.14793269336223602, vmin = 0.07469122111797333\n",
      "lr = 0.0038117135717355183, lam = 1.2425417618220205\n",
      "it: 81, RMSE: 1.0949846506118774, znorm: 5.117102146148682\n",
      "[0.03173289 0.15206313]\n",
      "vmax = 0.143716499209404, vmin = 0.07340410351753235\n",
      "lr = 0.0038117135717355183, lam = 1.2425417618220205\n",
      "it: 82, RMSE: 1.0499675273895264, znorm: 4.869435787200928\n",
      "[0.03254961 0.15234963]\n",
      "vmax = 0.1449001282453537, vmin = 0.07436387240886688\n",
      "lr = 0.0038117135717355183, lam = 1.2425417618220205\n",
      "it: 83, RMSE: 0.7735951542854309, znorm: 4.906949520111084\n",
      "[0.03309852 0.15252971]\n",
      "vmax = 0.14537476003170013, vmin = 0.07496201246976852\n",
      "lr = 0.003773596436018163, lam = 1.0561604975487173\n",
      "it: 84, RMSE: 0.8240363001823425, znorm: 4.887621879577637\n",
      "[0.03212869 0.15221503]\n",
      "vmax = 0.14468985795974731, vmin = 0.07411377131938934\n",
      "lr = 0.003773596436018163, lam = 1.0561604975487173\n",
      "it: 85, RMSE: 0.794418215751648, znorm: 4.824264049530029\n",
      "[0.03332008 0.15266374]\n",
      "vmax = 0.14524635672569275, vmin = 0.07478733360767365\n",
      "lr = 0.003773596436018163, lam = 1.0561604975487173\n",
      "it: 86, RMSE: 0.9756103157997131, znorm: 4.924012184143066\n",
      "[0.031971   0.15209668]\n",
      "vmax = 0.14370906352996826, vmin = 0.07247951626777649\n",
      "lr = 0.0037358604716579815, lam = 0.8977364229164096\n",
      "it: 87, RMSE: 0.9679464101791382, znorm: 4.73129415512085\n",
      "[0.03295641 0.15242334]\n",
      "vmax = 0.14525893330574036, vmin = 0.07423490285873413\n",
      "lr = 0.0037358604716579815, lam = 0.8977364229164096\n",
      "it: 88, RMSE: 0.799026370048523, znorm: 4.82868766784668\n"
     ]
    },
    {
     "name": "stdout",
     "output_type": "stream",
     "text": [
      "[0.0321701  0.15211236]\n",
      "vmax = 0.14386817812919617, vmin = 0.0730060338973999\n",
      "lr = 0.0037358604716579815, lam = 0.8977364229164096\n",
      "it: 89, RMSE: 0.8082514405250549, znorm: 4.7055745124816895\n",
      "[0.03328076 0.15253348]\n",
      "vmax = 0.14521637558937073, vmin = 0.07377717643976212\n",
      "lr = 0.003698501866941402, lam = 0.7630759594789481\n",
      "it: 90, RMSE: 0.8905067443847656, znorm: 4.773283958435059\n",
      "[0.03156401 0.15194603]\n",
      "vmax = 0.14256998896598816, vmin = 0.07191632688045502\n",
      "lr = 0.003698501866941402, lam = 0.7630759594789481\n",
      "it: 91, RMSE: 1.013460397720337, znorm: 4.653954029083252\n",
      "[0.03346808 0.15280074]\n",
      "vmax = 0.14471988379955292, vmin = 0.07417318224906921\n",
      "lr = 0.003698501866941402, lam = 0.7630759594789481\n",
      "it: 92, RMSE: 1.193906307220459, znorm: 5.024252414703369\n",
      "[0.03040823 0.15154242]\n",
      "vmax = 0.14062082767486572, vmin = 0.0715990737080574\n",
      "lr = 0.003661516848271988, lam = 0.6486145655571058\n",
      "it: 93, RMSE: 1.5231579542160034, znorm: 4.744624137878418\n",
      "[0.03393288 0.15285902]\n",
      "vmax = 0.14580664038658142, vmin = 0.07447193562984467\n",
      "lr = 0.003661516848271988, lam = 0.6486145655571058\n",
      "it: 94, RMSE: 1.290817141532898, znorm: 5.07770299911499\n",
      "[0.03043281 0.15144293]\n",
      "vmax = 0.13961291313171387, vmin = 0.07149855047464371\n",
      "lr = 0.003661516848271988, lam = 0.6486145655571058\n",
      "it: 95, RMSE: 1.6722677946090698, znorm: 4.75248384475708\n",
      "[0.03633695 0.15362726]\n",
      "vmax = 0.15065935254096985, vmin = 0.07765910029411316\n",
      "lr = 0.003624901679789268, lam = 0.5513223807235399\n",
      "it: 96, RMSE: 2.2922394275665283, znorm: 5.171736240386963\n",
      "[0.03097247 0.15145649]\n",
      "vmax = 0.14270716905593872, vmin = 0.07449677586555481\n",
      "lr = 0.003624901679789268, lam = 0.5513223807235399\n",
      "it: 97, RMSE: 1.874037504196167, znorm: 4.841746807098389\n",
      "[0.03345257 0.15235305]\n",
      "vmax = 0.145051971077919, vmin = 0.0776589959859848\n",
      "lr = 0.003624901679789268, lam = 0.5513223807235399\n",
      "it: 98, RMSE: 1.3155707120895386, znorm: 4.9543914794921875\n",
      "[0.03242566 0.15192631]\n",
      "vmax = 0.14285898208618164, vmin = 0.07398854196071625\n",
      "lr = 0.0035886526629913752, lam = 0.4686240236150089\n",
      "it: 99, RMSE: 1.192488431930542, znorm: 4.828676700592041\n",
      "[0.03386928 0.1525443 ]\n",
      "vmax = 0.1453736424446106, vmin = 0.07557669281959534\n",
      "lr = 0.0035886526629913752, lam = 0.4686240236150089\n",
      "it: 100, RMSE: 1.1139271259307861, znorm: 5.043295860290527\n",
      "[0.03224055 0.15190866]\n",
      "vmax = 0.14255955815315247, vmin = 0.0730094164609909\n",
      "lr = 0.0035886526629913752, lam = 0.4686240236150089\n",
      "it: 101, RMSE: 1.1357030868530273, znorm: 4.87699556350708\n",
      "[0.03458363 0.15301176]\n",
      "vmax = 0.15157853066921234, vmin = 0.07479460537433624\n",
      "lr = 0.0035527661363614614, lam = 0.39833042007275754\n",
      "it: 102, RMSE: 1.5658224821090698, znorm: 5.378603935241699\n",
      "[0.03138271 0.15178339]\n",
      "vmax = 0.14607706665992737, vmin = 0.07327431440353394\n",
      "lr = 0.0035527661363614614, lam = 0.39833042007275754\n",
      "it: 103, RMSE: 1.2480261325836182, znorm: 5.107282638549805\n",
      "[0.03425535 0.15282126]\n",
      "vmax = 0.15055327117443085, vmin = 0.07531042397022247\n",
      "lr = 0.0035527661363614614, lam = 0.39833042007275754\n",
      "it: 104, RMSE: 1.2099615335464478, znorm: 5.330173969268799\n",
      "[0.03205077 0.15195548]\n",
      "vmax = 0.145960733294487, vmin = 0.07344471663236618\n",
      "lr = 0.003517238474997847, lam = 0.3385808570618439\n",
      "it: 105, RMSE: 1.1207356452941895, znorm: 5.0521416664123535\n",
      "[0.03372736 0.15266443]\n",
      "vmax = 0.1491234302520752, vmin = 0.07528047263622284\n",
      "lr = 0.003517238474997847, lam = 0.3385808570618439\n",
      "it: 106, RMSE: 1.165114164352417, znorm: 5.40481424331665\n",
      "[0.03059979 0.15129617]\n",
      "vmax = 0.1419336497783661, vmin = 0.07063059508800507\n",
      "lr = 0.003517238474997847, lam = 0.3385808570618439\n",
      "it: 107, RMSE: 1.9003273248672485, znorm: 5.015920162200928\n",
      "[0.03462023 0.15286023]\n",
      "vmax = 0.1495400071144104, vmin = 0.0735587626695633\n",
      "lr = 0.0034820660902478684, lam = 0.2877937285025673\n",
      "it: 108, RMSE: 1.6429387331008911, znorm: 5.579095840454102\n",
      "[0.03091727 0.15146782]\n",
      "vmax = 0.14276713132858276, vmin = 0.07188184559345245\n",
      "lr = 0.0034820660902478684, lam = 0.2877937285025673\n",
      "it: 109, RMSE: 1.296006441116333, znorm: 5.316987991333008\n",
      "[0.03418325 0.1527023 ]\n",
      "vmax = 0.1490100920200348, vmin = 0.07497639954090118\n",
      "lr = 0.0034820660902478684, lam = 0.2877937285025673\n",
      "it: 110, RMSE: 1.3642942905426025, znorm: 5.611355304718018\n",
      "[0.03220347 0.15183789]\n",
      "vmax = 0.14506244659423828, vmin = 0.0726211667060852\n",
      "lr = 0.00344724542934539, lam = 0.24462466922718218\n",
      "it: 111, RMSE: 0.7944299578666687, znorm: 5.432826995849609\n",
      "[0.03274678 0.15216094]\n",
      "vmax = 0.1473892331123352, vmin = 0.07331764698028564\n",
      "lr = 0.00344724542934539, lam = 0.24462466922718218\n",
      "it: 112, RMSE: 0.8704974055290222, znorm: 5.568600654602051\n",
      "[0.03172194 0.15174547]\n",
      "vmax = 0.14542588591575623, vmin = 0.07228654623031616\n",
      "lr = 0.00344724542934539, lam = 0.24462466922718218\n",
      "it: 113, RMSE: 0.8240836262702942, znorm: 5.452054023742676\n",
      "[0.03242666 0.15199399]\n",
      "vmax = 0.14637814462184906, vmin = 0.0728447213768959\n",
      "lr = 0.003412772975051936, lam = 0.20793096884310486\n",
      "it: 114, RMSE: 0.7621603608131409, znorm: 5.493067264556885\n",
      "[0.03246775 0.15208065]\n",
      "vmax = 0.14674857258796692, vmin = 0.07300783693790436\n",
      "lr = 0.003412772975051936, lam = 0.20793096884310486\n",
      "it: 115, RMSE: 0.7676592469215393, znorm: 5.510410308837891\n",
      "[0.03231626 0.15202874]\n",
      "vmax = 0.14606373012065887, vmin = 0.07366719096899033\n",
      "lr = 0.003412772975051936, lam = 0.20793096884310486\n",
      "it: 116, RMSE: 0.7766587138175964, znorm: 5.508422374725342\n",
      "[0.03199308 0.15185401]\n",
      "vmax = 0.1454014778137207, vmin = 0.07272520661354065\n",
      "lr = 0.0033786452453014168, lam = 0.17674132351663913\n",
      "it: 117, RMSE: 0.7599512934684753, znorm: 5.428067207336426\n",
      "[0.03253872 0.15206163]\n",
      "vmax = 0.1459302455186844, vmin = 0.0731201022863388\n",
      "lr = 0.0033786452453014168, lam = 0.17674132351663913\n",
      "it: 118, RMSE: 0.7367580533027649, znorm: 5.449331760406494\n",
      "[0.03222653 0.15190515]\n",
      "vmax = 0.14462359249591827, vmin = 0.07347354292869568\n",
      "lr = 0.0033786452453014168, lam = 0.17674132351663913\n",
      "it: 119, RMSE: 0.7386047840118408, znorm: 5.378713130950928\n",
      "[0.03238335 0.15195611]\n",
      "vmax = 0.14452722668647766, vmin = 0.0732002928853035\n",
      "lr = 0.0033448587928484024, lam = 0.15023012498914326\n",
      "it: 120, RMSE: 0.7391964793205261, znorm: 5.380336284637451\n",
      "[0.03272615 0.15212696]\n",
      "vmax = 0.14566834270954132, vmin = 0.07339566200971603\n",
      "lr = 0.0033448587928484024, lam = 0.15023012498914326\n",
      "it: 121, RMSE: 0.747028648853302, znorm: 5.449434280395508\n",
      "[0.03260074 0.15208626]\n",
      "vmax = 0.1451173722743988, vmin = 0.07373130321502686\n",
      "lr = 0.0033448587928484024, lam = 0.15023012498914326\n",
      "it: 122, RMSE: 0.7434959411621094, znorm: 5.423722267150879\n",
      "[0.03184343 0.15180795]\n",
      "vmax = 0.14362603425979614, vmin = 0.0730903372168541\n",
      "lr = 0.003311410204919918, lam = 0.12769560624077178\n",
      "it: 123, RMSE: 0.8034576177597046, znorm: 5.374813079833984\n",
      "[0.03214899 0.15192786]\n",
      "vmax = 0.1449051797389984, vmin = 0.07292395085096359\n",
      "lr = 0.003311410204919918, lam = 0.12769560624077178\n",
      "it: 124, RMSE: 0.7108791470527649, znorm: 5.391477584838867\n",
      "[0.03275997 0.15214514]\n",
      "vmax = 0.1460649073123932, vmin = 0.073748379945755\n",
      "lr = 0.003311410204919918, lam = 0.12769560624077178\n",
      "it: 125, RMSE: 0.7584589719772339, znorm: 5.42077112197876\n",
      "[0.03292953 0.15219877]\n",
      "vmax = 0.14646384119987488, vmin = 0.07441669702529907\n",
      "lr = 0.003278296102870719, lam = 0.108541265304656\n",
      "it: 126, RMSE: 0.7741355299949646, znorm: 5.424666404724121\n",
      "[0.03195084 0.15175571]\n",
      "vmax = 0.1437118649482727, vmin = 0.07354579865932465\n",
      "lr = 0.003278296102870719, lam = 0.108541265304656\n",
      "it: 127, RMSE: 0.7990967631340027, znorm: 5.283712863922119\n",
      "[0.0327734  0.15210868]\n",
      "vmax = 0.14642268419265747, vmin = 0.07363948225975037\n",
      "lr = 0.003278296102870719, lam = 0.108541265304656\n",
      "it: 128, RMSE: 0.729509711265564, znorm: 5.355361461639404\n",
      "[0.03259333 0.15206234]\n",
      "vmax = 0.14608997106552124, vmin = 0.0739671140909195\n",
      "lr = 0.0032455131418420114, lam = 0.09226007550895761\n",
      "it: 129, RMSE: 0.7212746739387512, znorm: 5.363109588623047\n",
      "[0.0329001  0.15216312]\n",
      "vmax = 0.1466548591852188, vmin = 0.07434183359146118\n",
      "lr = 0.0032455131418420114, lam = 0.09226007550895761\n",
      "it: 130, RMSE: 0.7573960423469543, znorm: 5.360925674438477\n",
      "[0.03190376 0.15174682]\n",
      "vmax = 0.1440439075231552, vmin = 0.0738585889339447\n",
      "lr = 0.0032455131418420114, lam = 0.09226007550895761\n",
      "it: 131, RMSE: 0.7969362735748291, znorm: 5.249484062194824\n"
     ]
    },
    {
     "name": "stdout",
     "output_type": "stream",
     "text": [
      "[0.03247363 0.15204493]\n",
      "vmax = 0.14558035135269165, vmin = 0.0748782753944397\n",
      "lr = 0.003213058010423591, lam = 0.07842106418261396\n",
      "it: 132, RMSE: 0.7148244976997375, znorm: 5.359795093536377\n",
      "[0.031474   0.15162092]\n",
      "vmax = 0.143162339925766, vmin = 0.07242851704359055\n",
      "lr = 0.003213058010423591, lam = 0.07842106418261396\n",
      "it: 133, RMSE: 1.072062611579895, znorm: 5.234078407287598\n",
      "[0.0333223  0.15244632]\n",
      "vmax = 0.1469065248966217, vmin = 0.07498341798782349\n",
      "lr = 0.003213058010423591, lam = 0.07842106418261396\n",
      "it: 134, RMSE: 0.9679006338119507, znorm: 5.500135898590088\n",
      "[0.03113108 0.15156891]\n",
      "vmax = 0.14298062026500702, vmin = 0.07293200492858887\n",
      "lr = 0.0031809274303193553, lam = 0.06665790455522187\n",
      "it: 135, RMSE: 1.057969331741333, znorm: 5.285707950592041\n",
      "[0.03303981 0.15232385]\n",
      "vmax = 0.14714133739471436, vmin = 0.07421253621578217\n",
      "lr = 0.0031809274303193553, lam = 0.06665790455522187\n",
      "it: 136, RMSE: 0.8815550208091736, znorm: 5.4527692794799805\n",
      "[0.03166173 0.15174749]\n",
      "vmax = 0.14383110404014587, vmin = 0.07302480936050415\n",
      "lr = 0.0031809274303193553, lam = 0.06665790455522187\n",
      "it: 137, RMSE: 1.0070172548294067, znorm: 5.269428730010986\n",
      "[0.03362066 0.15241883]\n",
      "vmax = 0.14689648151397705, vmin = 0.07466082274913788\n",
      "lr = 0.0031491181560161616, lam = 0.05665921887193859\n",
      "it: 138, RMSE: 0.9856972694396973, znorm: 5.371666431427002\n",
      "[0.03173145 0.15174896]\n",
      "vmax = 0.1433950662612915, vmin = 0.07315555214881897\n",
      "lr = 0.0031491181560161616, lam = 0.05665921887193859\n",
      "it: 139, RMSE: 0.9523351788520813, znorm: 5.25855016708374\n",
      "[0.03247687 0.15207591]\n",
      "vmax = 0.1444854736328125, vmin = 0.07395929098129272\n",
      "lr = 0.0031491181560161616, lam = 0.05665921887193859\n",
      "it: 140, RMSE: 0.7060852646827698, znorm: 5.398130893707275\n",
      "[0.03159601 0.15181484]\n",
      "vmax = 0.14375299215316772, vmin = 0.07307901978492737\n",
      "lr = 0.003117626974456, lam = 0.0481603360411478\n",
      "it: 141, RMSE: 0.8075159192085266, znorm: 5.390533447265625\n",
      "[0.03235864 0.15210115]\n",
      "vmax = 0.14490973949432373, vmin = 0.07412664592266083\n",
      "lr = 0.003117626974456, lam = 0.0481603360411478\n",
      "it: 142, RMSE: 0.7009817957878113, znorm: 5.442473411560059\n",
      "[0.03210618 0.15197073]\n",
      "vmax = 0.1438160240650177, vmin = 0.07404132187366486\n",
      "lr = 0.003117626974456, lam = 0.0481603360411478\n",
      "it: 143, RMSE: 0.7113223671913147, znorm: 5.396859169006348\n",
      "[0.0333599  0.15250017]\n",
      "vmax = 0.14671237766742706, vmin = 0.07703088223934174\n",
      "lr = 0.00308645070471144, lam = 0.04093628563497563\n",
      "it: 144, RMSE: 1.3118259906768799, znorm: 5.587831020355225\n",
      "[0.03250526 0.15205776]\n",
      "vmax = 0.1444130390882492, vmin = 0.07590746879577637\n",
      "lr = 0.00308645070471144, lam = 0.04093628563497563\n",
      "it: 145, RMSE: 0.9161093235015869, znorm: 5.480832576751709\n",
      "[0.03222755 0.15187553]\n",
      "vmax = 0.1440224051475525, vmin = 0.07467758655548096\n",
      "lr = 0.00308645070471144, lam = 0.04093628563497563\n",
      "it: 146, RMSE: 0.6966657042503357, znorm: 5.412715435028076\n",
      "[0.03262621 0.15207658]\n",
      "vmax = 0.14517787098884583, vmin = 0.0744214877486229\n",
      "lr = 0.0030555861976643253, lam = 0.03479584278972928\n",
      "it: 147, RMSE: 0.7059301137924194, znorm: 5.46668004989624\n",
      "[0.03197201 0.15180516]\n",
      "vmax = 0.14362487196922302, vmin = 0.07394076883792877\n",
      "lr = 0.0030555861976643253, lam = 0.03479584278972928\n",
      "it: 148, RMSE: 0.7266377806663513, znorm: 5.392286777496338\n",
      "[0.0324063  0.15196921]\n",
      "vmax = 0.1443171203136444, vmin = 0.0742502436041832\n",
      "lr = 0.0030555861976643253, lam = 0.03479584278972928\n",
      "it: 149, RMSE: 0.680345892906189, znorm: 5.416833400726318\n",
      "[0.03249981 0.15204478]\n",
      "vmax = 0.14464440941810608, vmin = 0.0746159553527832\n",
      "lr = 0.0030250303356876822, lam = 0.02957646637126989\n",
      "it: 150, RMSE: 0.7051821351051331, znorm: 5.450911045074463\n",
      "[0.03198096 0.15180718]\n",
      "vmax = 0.14351631700992584, vmin = 0.07414829730987549\n",
      "lr = 0.0030250303356876822, lam = 0.02957646637126989\n",
      "it: 151, RMSE: 0.7302883863449097, znorm: 5.3815107345581055\n",
      "[0.03214026 0.1518774 ]\n",
      "vmax = 0.14384305477142334, vmin = 0.07419699430465698\n",
      "lr = 0.0030250303356876822, lam = 0.02957646637126989\n",
      "it: 152, RMSE: 0.6901296973228455, znorm: 5.3973822593688965\n",
      "[0.03192514 0.15181799]\n",
      "vmax = 0.14355669915676117, vmin = 0.07354984432458878\n",
      "lr = 0.0029947800323308054, lam = 0.025139996415579405\n",
      "it: 153, RMSE: 0.7350962162017822, znorm: 5.3950514793396\n",
      "[0.03272422 0.15216081]\n",
      "vmax = 0.14560368657112122, vmin = 0.0743388682603836\n",
      "lr = 0.0029947800323308054, lam = 0.025139996415579405\n",
      "it: 154, RMSE: 0.7840176224708557, znorm: 5.5077033042907715\n",
      "[0.0325847  0.15208979]\n",
      "vmax = 0.1445307433605194, vmin = 0.07454337924718857\n",
      "lr = 0.0029947800323308054, lam = 0.025139996415579405\n",
      "it: 155, RMSE: 0.7485736012458801, znorm: 5.5068769454956055\n",
      "[0.03185695 0.15179526]\n",
      "vmax = 0.14336100220680237, vmin = 0.07396905869245529\n",
      "lr = 0.002964832232007497, lam = 0.021368996953242493\n",
      "it: 156, RMSE: 0.7177987098693848, znorm: 5.425587177276611\n",
      "[0.03224891 0.15193949]\n",
      "vmax = 0.14435696601867676, vmin = 0.0736648291349411\n",
      "lr = 0.002964832232007497, lam = 0.021368996953242493\n",
      "it: 157, RMSE: 0.6770273447036743, znorm: 5.454649925231934\n",
      "[0.03231344 0.15201588]\n",
      "vmax = 0.14428824186325073, vmin = 0.0738551914691925\n",
      "lr = 0.002964832232007497, lam = 0.021368996953242493\n",
      "it: 158, RMSE: 0.712011992931366, znorm: 5.511922359466553\n",
      "[0.03286942 0.15220411]\n",
      "vmax = 0.14522784948349, vmin = 0.07490529865026474\n",
      "lr = 0.0029351839096874222, lam = 0.01816364741025612\n",
      "it: 159, RMSE: 0.8944036960601807, znorm: 5.538893699645996\n",
      "[0.03129568 0.15151173]\n",
      "vmax = 0.14228494465351105, vmin = 0.07342369854450226\n",
      "lr = 0.0029351839096874222, lam = 0.01816364741025612\n",
      "it: 160, RMSE: 1.02326500415802, znorm: 5.282754898071289\n",
      "[0.03241564 0.15199938]\n",
      "vmax = 0.14413674175739288, vmin = 0.07495224475860596\n",
      "lr = 0.0029351839096874222, lam = 0.01816364741025612\n",
      "it: 161, RMSE: 0.6731821298599243, znorm: 5.425317287445068\n",
      "[0.03183654 0.15174953]\n",
      "vmax = 0.1430247724056244, vmin = 0.07414513826370239\n",
      "lr = 0.002905832070590548, lam = 0.0154391002987177\n",
      "it: 162, RMSE: 0.7507971525192261, znorm: 5.32954740524292\n",
      "[0.03251208 0.15202782]\n",
      "vmax = 0.14405658841133118, vmin = 0.07499876618385315\n",
      "lr = 0.002905832070590548, lam = 0.0154391002987177\n",
      "it: 163, RMSE: 0.6626648306846619, znorm: 5.348519325256348\n",
      "[0.03243952 0.15200313]\n",
      "vmax = 0.14396066963672638, vmin = 0.07448850572109222\n",
      "lr = 0.002905832070590548, lam = 0.0154391002987177\n",
      "it: 164, RMSE: 0.6864711046218872, znorm: 5.304384231567383\n",
      "[0.03297602 0.15223084]\n",
      "vmax = 0.14487338066101074, vmin = 0.0754583403468132\n",
      "lr = 0.0028767737498846422, lam = 0.013123235253910044\n",
      "it: 165, RMSE: 0.7499247789382935, znorm: 5.378400802612305\n",
      "[0.0327085  0.15216562]\n",
      "vmax = 0.14459913969039917, vmin = 0.07516415417194366\n",
      "lr = 0.0028767737498846422, lam = 0.013123235253910044\n",
      "it: 166, RMSE: 0.7629082798957825, znorm: 5.41741943359375\n",
      "[0.03184293 0.15179512]\n",
      "vmax = 0.14307263493537903, vmin = 0.07368741929531097\n",
      "lr = 0.0028767737498846422, lam = 0.013123235253910044\n",
      "it: 167, RMSE: 0.7580631971359253, znorm: 5.292321681976318\n",
      "[0.03294185 0.15221923]\n",
      "vmax = 0.14501550793647766, vmin = 0.07595683634281158\n",
      "lr = 0.0028480060123857957, lam = 0.011154749965823538\n",
      "it: 168, RMSE: 0.8208200931549072, znorm: 5.422308921813965\n",
      "[0.03179044 0.15178081]\n",
      "vmax = 0.14304783940315247, vmin = 0.0741015076637268\n",
      "lr = 0.0028480060123857957, lam = 0.011154749965823538\n",
      "it: 169, RMSE: 0.7225732207298279, znorm: 5.338870525360107\n",
      "[0.03230021 0.15194086]\n",
      "vmax = 0.14352641999721527, vmin = 0.0744323581457138\n",
      "lr = 0.0028480060123857957, lam = 0.011154749965823538\n",
      "it: 170, RMSE: 0.6750203967094421, znorm: 5.351438999176025\n",
      "[0.03212275 0.15193466]\n",
      "vmax = 0.14355704188346863, vmin = 0.07381322234869003\n",
      "lr = 0.0028195259522619375, lam = 0.009481537470950006\n",
      "it: 171, RMSE: 0.6651685833930969, znorm: 5.418534755706787\n",
      "[0.03235063 0.15202825]\n",
      "vmax = 0.14388953149318695, vmin = 0.0741024762392044\n",
      "lr = 0.0028195259522619375, lam = 0.009481537470950006\n",
      "it: 172, RMSE: 0.6743984818458557, znorm: 5.41277551651001\n",
      "[0.03146174 0.15167267]\n",
      "vmax = 0.1425427794456482, vmin = 0.07319068908691406\n",
      "lr = 0.0028195259522619375, lam = 0.009481537470950006\n",
      "it: 173, RMSE: 0.9229108691215515, znorm: 5.3154120445251465\n",
      "[0.03296607 0.15229325]\n",
      "vmax = 0.14451244473457336, vmin = 0.0742720514535904\n",
      "lr = 0.002791330692739318, lam = 0.008059306850307505\n",
      "it: 174, RMSE: 0.8615102171897888, znorm: 5.504635810852051\n"
     ]
    },
    {
     "name": "stdout",
     "output_type": "stream",
     "text": [
      "[0.03177994 0.15185657]\n",
      "vmax = 0.14306268095970154, vmin = 0.07329466938972473\n",
      "lr = 0.002791330692739318, lam = 0.008059306850307505\n",
      "it: 175, RMSE: 0.7436752915382385, znorm: 5.389860153198242\n",
      "[0.03230053 0.1520771 ]\n",
      "vmax = 0.1441693753004074, vmin = 0.07419417053461075\n",
      "lr = 0.002791330692739318, lam = 0.008059306850307505\n",
      "it: 176, RMSE: 0.6707021594047546, znorm: 5.45623779296875\n",
      "[0.03227204 0.1520374 ]\n",
      "vmax = 0.1436879187822342, vmin = 0.07442311942577362\n",
      "lr = 0.0027634173858119247, lam = 0.006850410822761379\n",
      "it: 177, RMSE: 0.6669765114784241, znorm: 5.41221809387207\n",
      "[0.03169237 0.15184186]\n",
      "vmax = 0.14300769567489624, vmin = 0.0739942193031311\n",
      "lr = 0.0027634173858119247, lam = 0.006850410822761379\n",
      "it: 178, RMSE: 0.7940043807029724, znorm: 5.35615873336792\n",
      "[0.03313425 0.15236563]\n",
      "vmax = 0.14527630805969238, vmin = 0.07609444856643677\n",
      "lr = 0.0027634173858119247, lam = 0.006850410822761379\n",
      "it: 179, RMSE: 0.8700819611549377, znorm: 5.450562953948975\n",
      "[0.03164256 0.15181535]\n",
      "vmax = 0.1428629457950592, vmin = 0.07453475892543793\n",
      "lr = 0.0027357832119538055, lam = 0.005822849199347172\n",
      "it: 180, RMSE: 0.8142520189285278, znorm: 5.325253963470459\n",
      "[0.03250407 0.1521562 ]\n",
      "vmax = 0.1440216600894928, vmin = 0.07545532286167145\n",
      "lr = 0.0027357832119538055, lam = 0.005822849199347172\n",
      "it: 181, RMSE: 0.7209436893463135, znorm: 5.4154229164123535\n",
      "[0.03266395 0.15223313]\n",
      "vmax = 0.14459429681301117, vmin = 0.07528289407491684\n",
      "lr = 0.0027357832119538055, lam = 0.005822849199347172\n",
      "it: 182, RMSE: 0.7227408289909363, znorm: 5.424440383911133\n",
      "[0.03173897 0.15192054]\n",
      "vmax = 0.14272141456604004, vmin = 0.07409293204545975\n",
      "lr = 0.0027084253798342673, lam = 0.004949421819445096\n",
      "it: 183, RMSE: 0.7333775758743286, znorm: 5.389388084411621\n",
      "[0.0320905  0.15209483]\n",
      "vmax = 0.14391887187957764, vmin = 0.07434406876564026\n",
      "lr = 0.0027084253798342673, lam = 0.004949421819445096\n",
      "it: 184, RMSE: 0.6779618859291077, znorm: 5.450915336608887\n",
      "[0.0318928  0.15202266]\n",
      "vmax = 0.1428149938583374, vmin = 0.07413749396800995\n",
      "lr = 0.0027084253798342673, lam = 0.004949421819445096\n",
      "it: 185, RMSE: 0.7126213312149048, znorm: 5.450075149536133\n",
      "[0.03155312 0.15188441]\n",
      "vmax = 0.14232848584651947, vmin = 0.07360314577817917\n",
      "lr = 0.0026813411260359246, lam = 0.004207008546528331\n",
      "it: 186, RMSE: 0.7504732012748718, znorm: 5.404812335968018\n",
      "[0.03158524 0.15186838]\n",
      "vmax = 0.14230947196483612, vmin = 0.07373329997062683\n",
      "lr = 0.0026813411260359246, lam = 0.004207008546528331\n",
      "it: 187, RMSE: 0.7737119793891907, znorm: 5.369898796081543\n",
      "[0.03244109 0.152216  ]\n",
      "vmax = 0.1436951458454132, vmin = 0.07467415928840637\n",
      "lr = 0.0026813411260359246, lam = 0.004207008546528331\n",
      "it: 188, RMSE: 0.6826716661453247, znorm: 5.4366888999938965\n",
      "[0.03212663 0.15211118]\n",
      "vmax = 0.14319059252738953, vmin = 0.07427811622619629\n",
      "lr = 0.0026545277147755654, lam = 0.0035759572645490813\n",
      "it: 189, RMSE: 0.6648539900779724, znorm: 5.403683185577393\n",
      "[0.03214485 0.15214169]\n",
      "vmax = 0.143233984708786, vmin = 0.07408119738101959\n",
      "lr = 0.0026545277147755654, lam = 0.0035759572645490813\n",
      "it: 190, RMSE: 0.662615180015564, znorm: 5.420641899108887\n",
      "[0.03213219 0.15216778]\n",
      "vmax = 0.14370200037956238, vmin = 0.07409737259149551\n",
      "lr = 0.0026545277147755654, lam = 0.0035759572645490813\n",
      "it: 191, RMSE: 0.6637504696846008, znorm: 5.442590236663818\n",
      "[0.03233232 0.15225551]\n",
      "vmax = 0.14448317885398865, vmin = 0.0747532919049263\n",
      "lr = 0.00262798243762781, lam = 0.003039563674866719\n",
      "it: 192, RMSE: 0.6822431683540344, znorm: 5.492576599121094\n",
      "[0.03267805 0.15234431]\n",
      "vmax = 0.14443543553352356, vmin = 0.07518608868122101\n",
      "lr = 0.00262798243762781, lam = 0.003039563674866719\n",
      "it: 193, RMSE: 0.7340943813323975, znorm: 5.477184772491455\n",
      "[0.03253384 0.15226046]\n",
      "vmax = 0.14416036009788513, vmin = 0.07468196749687195\n",
      "lr = 0.00262798243762781, lam = 0.003039563674866719\n",
      "it: 194, RMSE: 0.7390872836112976, znorm: 5.407804012298584\n",
      "[0.03195602 0.15209442]\n",
      "vmax = 0.14368084073066711, vmin = 0.07449432462453842\n",
      "lr = 0.0026017026132515316, lam = 0.0025836291236367107\n",
      "it: 195, RMSE: 0.6740336418151855, znorm: 5.425337314605713\n",
      "[0.03265443 0.15233294]\n",
      "vmax = 0.1441727876663208, vmin = 0.07524771988391876\n",
      "lr = 0.0026017026132515316, lam = 0.0025836291236367107\n",
      "it: 196, RMSE: 0.7055984735488892, znorm: 5.4502854347229\n",
      "[0.03276539 0.15239697]\n",
      "vmax = 0.14480306208133698, vmin = 0.07548707723617554\n",
      "lr = 0.0026017026132515316, lam = 0.0025836291236367107\n",
      "it: 197, RMSE: 0.743474006652832, znorm: 5.467293739318848\n",
      "[0.03246676 0.15226917]\n",
      "vmax = 0.1442437618970871, vmin = 0.07554295659065247\n",
      "lr = 0.0025756855871190165, lam = 0.002196084755091204\n",
      "it: 198, RMSE: 0.692233681678772, znorm: 5.445550918579102\n",
      "[0.03154284 0.1520025 ]\n",
      "vmax = 0.14269793033599854, vmin = 0.07405628263950348\n",
      "lr = 0.0025756855871190165, lam = 0.002196084755091204\n",
      "it: 199, RMSE: 0.7723904848098755, znorm: 5.42365837097168\n",
      "[0.0323366 0.1523513]\n",
      "vmax = 0.14478620886802673, vmin = 0.07476640492677689\n",
      "lr = 0.0025756855871190165, lam = 0.002196084755091204\n",
      "it: 200, RMSE: 0.6941810250282288, znorm: 5.525353908538818\n",
      "[0.03197958 0.15217904]\n",
      "vmax = 0.14363020658493042, vmin = 0.07443907111883163\n",
      "lr = 0.002549928731247826, lam = 0.0018666720418275234\n",
      "it: 201, RMSE: 0.6809529662132263, znorm: 5.46600341796875\n",
      "[0.03217395 0.15226316]\n",
      "vmax = 0.14398795366287231, vmin = 0.07471158355474472\n",
      "lr = 0.002549928731247826, lam = 0.0018666720418275234\n",
      "it: 202, RMSE: 0.6526634693145752, znorm: 5.50332498550415\n",
      "[0.03202542 0.15219129]\n",
      "vmax = 0.1433926522731781, vmin = 0.07455557584762573\n",
      "lr = 0.002549928731247826, lam = 0.0018666720418275234\n",
      "it: 203, RMSE: 0.65517657995224, znorm: 5.477293968200684\n",
      "[0.03212422 0.1521761 ]\n",
      "vmax = 0.14323394000530243, vmin = 0.0745273306965828\n",
      "lr = 0.002524429443935348, lam = 0.001586671235553395\n",
      "it: 204, RMSE: 0.6559304594993591, znorm: 5.433198928833008\n",
      "[0.03207593 0.15216876]\n",
      "vmax = 0.14310020208358765, vmin = 0.07465559244155884\n",
      "lr = 0.002524429443935348, lam = 0.001586671235553395\n",
      "it: 205, RMSE: 0.6604493260383606, znorm: 5.4143476486206055\n",
      "[0.03231821 0.15231534]\n",
      "vmax = 0.14398495852947235, vmin = 0.07490421831607819\n",
      "lr = 0.002524429443935348, lam = 0.001586671235553395\n",
      "it: 206, RMSE: 0.6952929496765137, znorm: 5.491534233093262\n",
      "[0.0318872  0.15212724]\n",
      "vmax = 0.1430375874042511, vmin = 0.07430178672075272\n",
      "lr = 0.0024991851494959947, lam = 0.0013486705502203857\n",
      "it: 207, RMSE: 0.6722203493118286, znorm: 5.417930603027344\n",
      "[0.03235666 0.15227841]\n",
      "vmax = 0.14362353086471558, vmin = 0.0746379867196083\n",
      "lr = 0.0024991851494959947, lam = 0.0013486705502203857\n",
      "it: 208, RMSE: 0.6527653932571411, znorm: 5.418773651123047\n",
      "[0.03197419 0.15216049]\n",
      "vmax = 0.14308631420135498, vmin = 0.07435199618339539\n",
      "lr = 0.0024991851494959947, lam = 0.0013486705502203857\n",
      "it: 209, RMSE: 0.6790772080421448, znorm: 5.393742084503174\n",
      "[0.03227418 0.152264  ]\n",
      "vmax = 0.1434992551803589, vmin = 0.07426619529724121\n",
      "lr = 0.002474193298001035, lam = 0.0011463699676873278\n",
      "it: 210, RMSE: 0.6705418229103088, znorm: 5.424661636352539\n",
      "[0.03231221 0.15227717]\n",
      "vmax = 0.1435585916042328, vmin = 0.07455538958311081\n",
      "lr = 0.002474193298001035, lam = 0.0011463699676873278\n",
      "it: 211, RMSE: 0.655285656452179, znorm: 5.444578170776367\n",
      "[0.03241537 0.15232151]\n",
      "vmax = 0.14377228915691376, vmin = 0.07478349655866623\n",
      "lr = 0.002474193298001035, lam = 0.0011463699676873278\n",
      "it: 212, RMSE: 0.6589487791061401, znorm: 5.445341110229492\n",
      "[0.03220936 0.15224568]\n",
      "vmax = 0.14358404278755188, vmin = 0.07462563365697861\n",
      "lr = 0.0024494513650210243, lam = 0.0009744144725342286\n",
      "it: 213, RMSE: 0.6505414247512817, znorm: 5.430150985717773\n",
      "[0.03174464 0.15211425]\n",
      "vmax = 0.1427209973335266, vmin = 0.0737437903881073\n",
      "lr = 0.0024494513650210243, lam = 0.0009744144725342286\n",
      "it: 214, RMSE: 0.6749399900436401, znorm: 5.437182426452637\n",
      "[0.03238355 0.15236044]\n",
      "vmax = 0.14388693869113922, vmin = 0.07428008317947388\n",
      "lr = 0.0024494513650210243, lam = 0.0009744144725342286\n",
      "it: 215, RMSE: 0.6859995126724243, znorm: 5.4867634773254395\n",
      "[0.03162968 0.15207983]\n",
      "vmax = 0.1425221860408783, vmin = 0.0733799934387207\n",
      "lr = 0.002424956851370814, lam = 0.0008282523016540943\n",
      "it: 216, RMSE: 0.8161246180534363, znorm: 5.398210048675537\n",
      "[0.03259705 0.15251379]\n",
      "vmax = 0.1441190093755722, vmin = 0.07500860095024109\n",
      "lr = 0.002424956851370814, lam = 0.0008282523016540943\n",
      "it: 217, RMSE: 0.8856306076049805, znorm: 5.601492881774902\n"
     ]
    },
    {
     "name": "stdout",
     "output_type": "stream",
     "text": [
      "[0.0320323  0.15225098]\n",
      "vmax = 0.14295777678489685, vmin = 0.07437306642532349\n",
      "lr = 0.002424956851370814, lam = 0.0008282523016540943\n",
      "it: 218, RMSE: 0.6615012884140015, znorm: 5.5012712478637695\n",
      "[0.03171658 0.15218518]\n",
      "vmax = 0.1431216448545456, vmin = 0.07371339946985245\n",
      "lr = 0.002400707282857106, lam = 0.0007040144564059802\n",
      "it: 219, RMSE: 0.6798987984657288, znorm: 5.519324779510498\n",
      "[0.03171138 0.15218675]\n",
      "vmax = 0.1430702805519104, vmin = 0.07349825650453568\n",
      "lr = 0.002400707282857106, lam = 0.0007040144564059802\n",
      "it: 220, RMSE: 0.6764349937438965, znorm: 5.51628303527832\n",
      "[0.03212787 0.15234548]\n",
      "vmax = 0.1434742957353592, vmin = 0.07424595952033997\n",
      "lr = 0.002400707282857106, lam = 0.0007040144564059802\n",
      "it: 221, RMSE: 0.6567885875701904, znorm: 5.54408073425293\n",
      "[0.03202763 0.15228485]\n",
      "vmax = 0.14338567852973938, vmin = 0.07415309548377991\n",
      "lr = 0.0023767002100285347, lam = 0.0005984122879450831\n",
      "it: 222, RMSE: 0.661555826663971, znorm: 5.497726917266846\n",
      "[0.03254638 0.15255101]\n",
      "vmax = 0.14471134543418884, vmin = 0.07484510540962219\n",
      "lr = 0.0023767002100285347, lam = 0.0005984122879450831\n",
      "it: 223, RMSE: 0.7805593013763428, znorm: 5.598660469055176\n",
      "[0.03201658 0.15233776]\n",
      "vmax = 0.14392805099487305, vmin = 0.07439173758029938\n",
      "lr = 0.0023767002100285347, lam = 0.0005984122879450831\n",
      "it: 224, RMSE: 0.6721039414405823, znorm: 5.546678066253662\n",
      "[0.03198045 0.15229182]\n",
      "vmax = 0.14375409483909607, vmin = 0.07435354590415955\n",
      "lr = 0.0023529332079282495, lam = 0.0005086504447533207\n",
      "it: 225, RMSE: 0.6501461863517761, znorm: 5.514171600341797\n",
      "[0.03167876 0.15216748]\n",
      "vmax = 0.14288252592086792, vmin = 0.07396040111780167\n",
      "lr = 0.0023529332079282495, lam = 0.0005086504447533207\n",
      "it: 226, RMSE: 0.6670926213264465, znorm: 5.475778102874756\n",
      "[0.0320263  0.15227863]\n",
      "vmax = 0.14348168671131134, vmin = 0.07424788177013397\n",
      "lr = 0.0023529332079282495, lam = 0.0005086504447533207\n",
      "it: 227, RMSE: 0.6593718528747559, znorm: 5.481964588165283\n",
      "[0.03181949 0.15219501]\n",
      "vmax = 0.1430259644985199, vmin = 0.07405060529708862\n",
      "lr = 0.002329403875848967, lam = 0.0004323528780403226\n",
      "it: 228, RMSE: 0.6838074922561646, znorm: 5.459897994995117\n",
      "[0.0318641  0.15223163]\n",
      "vmax = 0.14298665523529053, vmin = 0.07399439811706543\n",
      "lr = 0.002329403875848967, lam = 0.0004323528780403226\n",
      "it: 229, RMSE: 0.6459603905677795, znorm: 5.488419055938721\n",
      "[0.03249894 0.15248553]\n",
      "vmax = 0.1448141485452652, vmin = 0.07495710253715515\n",
      "lr = 0.002329403875848967, lam = 0.0004323528780403226\n",
      "it: 230, RMSE: 0.802946925163269, znorm: 5.569913387298584\n",
      "[0.03114508 0.15197685]\n",
      "vmax = 0.14159415662288666, vmin = 0.07361503690481186\n",
      "lr = 0.0023061098370904774, lam = 0.00036749994633427415\n",
      "it: 231, RMSE: 0.871674656867981, znorm: 5.443061351776123\n",
      "[0.03256066 0.15258561]\n",
      "vmax = 0.14490190148353577, vmin = 0.07490825653076172\n",
      "lr = 0.0023061098370904774, lam = 0.00036749994633427415\n",
      "it: 232, RMSE: 0.819049596786499, znorm: 5.6511688232421875\n",
      "[0.03180897 0.15222732]\n",
      "vmax = 0.1430705189704895, vmin = 0.0740690603852272\n",
      "lr = 0.0023061098370904774, lam = 0.00036749994633427415\n",
      "it: 233, RMSE: 0.6600869297981262, znorm: 5.520528316497803\n",
      "[0.03238254 0.15246893]\n",
      "vmax = 0.14424389600753784, vmin = 0.07474171370267868\n",
      "lr = 0.0022830487387195727, lam = 0.000312374954384133\n",
      "it: 234, RMSE: 0.7200604677200317, znorm: 5.592900276184082\n",
      "[0.03153699 0.1521807 ]\n",
      "vmax = 0.14306366443634033, vmin = 0.07355111837387085\n",
      "lr = 0.0022830487387195727, lam = 0.000312374954384133\n",
      "it: 235, RMSE: 0.7078253626823425, znorm: 5.534010887145996\n",
      "[0.03185516 0.15227344]\n",
      "vmax = 0.14317859709262848, vmin = 0.07402031868696213\n",
      "lr = 0.0022830487387195727, lam = 0.000312374954384133\n",
      "it: 236, RMSE: 0.6585880517959595, znorm: 5.519417762756348\n",
      "[0.03150967 0.15215965]\n",
      "vmax = 0.14250999689102173, vmin = 0.0735216736793518\n",
      "lr = 0.002260218251332377, lam = 0.00026551871122651303\n",
      "it: 237, RMSE: 0.6877503991127014, znorm: 5.5091633796691895\n",
      "[0.03252358 0.15257393]\n",
      "vmax = 0.14428329467773438, vmin = 0.07503601163625717\n",
      "lr = 0.002260218251332377, lam = 0.00026551871122651303\n",
      "it: 238, RMSE: 0.946338951587677, znorm: 5.651413917541504\n",
      "[0.03171811 0.15222079]\n",
      "vmax = 0.1425480842590332, vmin = 0.07436557859182358\n",
      "lr = 0.002260218251332377, lam = 0.00026551871122651303\n",
      "it: 239, RMSE: 0.6866447925567627, znorm: 5.511876583099365\n",
      "[0.03199844 0.15228883]\n",
      "vmax = 0.14283804595470428, vmin = 0.07478533685207367\n",
      "lr = 0.002237616068819053, lam = 0.00022569090454253608\n",
      "it: 240, RMSE: 0.6685895323753357, znorm: 5.494481086730957\n",
      "[0.03196494 0.15230435]\n",
      "vmax = 0.14289496839046478, vmin = 0.07451783120632172\n",
      "lr = 0.002237616068819053, lam = 0.00022569090454253608\n",
      "it: 241, RMSE: 0.6367530226707458, znorm: 5.492335796356201\n",
      "[0.03193357 0.15227838]\n",
      "vmax = 0.14281156659126282, vmin = 0.07445073127746582\n",
      "lr = 0.002237616068819053, lam = 0.00022569090454253608\n",
      "it: 242, RMSE: 0.6567205786705017, znorm: 5.4572858810424805\n",
      "[0.0321402 0.1523833]\n",
      "vmax = 0.14328786730766296, vmin = 0.07470528781414032\n",
      "lr = 0.0022152399081308625, lam = 0.00019183726886115566\n",
      "it: 243, RMSE: 0.6473990678787231, znorm: 5.505389213562012\n",
      "[0.03170047 0.15221419]\n",
      "vmax = 0.14253103733062744, vmin = 0.07404068857431412\n",
      "lr = 0.0022152399081308625, lam = 0.00019183726886115566\n",
      "it: 244, RMSE: 0.6852383613586426, znorm: 5.455595970153809\n",
      "[0.03201851 0.15234779]\n",
      "vmax = 0.14333844184875488, vmin = 0.07434482872486115\n",
      "lr = 0.0022152399081308625, lam = 0.00019183726886115566\n",
      "it: 245, RMSE: 0.6460410952568054, znorm: 5.5143351554870605\n",
      "[0.03235208 0.15247744]\n",
      "vmax = 0.14376646280288696, vmin = 0.07466404139995575\n",
      "lr = 0.002193087509049554, lam = 0.0001630616785319823\n",
      "it: 246, RMSE: 0.6977905631065369, znorm: 5.547873020172119\n",
      "[0.03195575 0.15236108]\n",
      "vmax = 0.14317813515663147, vmin = 0.07443835586309433\n",
      "lr = 0.002193087509049554, lam = 0.0001630616785319823\n",
      "it: 247, RMSE: 0.6503142714500427, znorm: 5.537492752075195\n",
      "[0.03165554 0.15226142]\n",
      "vmax = 0.1424362063407898, vmin = 0.07397806644439697\n",
      "lr = 0.002193087509049554, lam = 0.0001630616785319823\n",
      "it: 248, RMSE: 0.6674806475639343, znorm: 5.5263190269470215\n",
      "[0.03188213 0.15235695]\n",
      "vmax = 0.14271244406700134, vmin = 0.0742829293012619\n",
      "lr = 0.0021711566339590585, lam = 0.00013860242675218495\n",
      "it: 249, RMSE: 0.6609309911727905, znorm: 5.542582035064697\n",
      "[0.03191338 0.15236254]\n",
      "vmax = 0.1426330953836441, vmin = 0.07394854724407196\n",
      "lr = 0.0021711566339590585, lam = 0.00013860242675218495\n",
      "it: 250, RMSE: 0.6538651585578918, znorm: 5.553335666656494\n",
      "[0.03199504 0.15242871]\n",
      "vmax = 0.14375996589660645, vmin = 0.07430508732795715\n",
      "lr = 0.0021711566339590585, lam = 0.00013860242675218495\n",
      "it: 251, RMSE: 0.6791783571243286, znorm: 5.588289737701416\n",
      "[0.0318695  0.15229495]\n",
      "vmax = 0.1429165154695511, vmin = 0.07419784367084503\n",
      "lr = 0.002149445067619468, lam = 0.00011781206273935721\n",
      "it: 252, RMSE: 0.6577494144439697, znorm: 5.481431007385254\n",
      "[0.03183099 0.1522867 ]\n",
      "vmax = 0.14262917637825012, vmin = 0.07426470518112183\n",
      "lr = 0.002149445067619468, lam = 0.00011781206273935721\n",
      "it: 253, RMSE: 0.6394214630126953, znorm: 5.4858574867248535\n",
      "[0.03181813 0.15229267]\n",
      "vmax = 0.14266431331634521, vmin = 0.07422590255737305\n",
      "lr = 0.002149445067619468, lam = 0.00011781206273935721\n",
      "it: 254, RMSE: 0.6379708647727966, znorm: 5.492169380187988\n",
      "[0.03195168 0.15236372]\n",
      "vmax = 0.14307400584220886, vmin = 0.07470710575580597\n",
      "lr = 0.0021279506169432734, lam = 0.00010014025332845363\n",
      "it: 255, RMSE: 0.6791846752166748, znorm: 5.531994819641113\n",
      "[0.03199173 0.1523779 ]\n",
      "vmax = 0.14320768415927887, vmin = 0.07471375167369843\n",
      "lr = 0.0021279506169432734, lam = 0.00010014025332845363\n",
      "it: 256, RMSE: 0.6640987992286682, znorm: 5.53506326675415\n",
      "[0.0317386  0.15226032]\n",
      "vmax = 0.14253103733062744, vmin = 0.07437779009342194\n",
      "lr = 0.0021279506169432734, lam = 0.00010014025332845363\n",
      "it: 257, RMSE: 0.638446033000946, znorm: 5.503871917724609\n",
      "[0.03227543 0.15249355]\n",
      "vmax = 0.14383870363235474, vmin = 0.07518389821052551\n",
      "lr = 0.0021066711107738407, lam = 8.511921532918559e-05\n",
      "it: 258, RMSE: 0.7146028876304626, znorm: 5.5513410568237305\n",
      "[0.03166642 0.15222517]\n",
      "vmax = 0.14235180616378784, vmin = 0.07448957860469818\n",
      "lr = 0.0021066711107738407, lam = 8.511921532918559e-05\n",
      "it: 259, RMSE: 0.6707291603088379, znorm: 5.462455749511719\n",
      "[0.03205437 0.15241062]\n",
      "vmax = 0.14324809610843658, vmin = 0.07480504363775253\n",
      "lr = 0.0021066711107738407, lam = 8.511921532918559e-05\n",
      "it: 260, RMSE: 0.6738865971565247, znorm: 5.55330753326416\n"
     ]
    },
    {
     "name": "stdout",
     "output_type": "stream",
     "text": [
      "[0.03162965 0.15224181]\n",
      "vmax = 0.14224791526794434, vmin = 0.07421968877315521\n",
      "lr = 0.0020856043996661023, lam = 7.235133302980775e-05\n",
      "it: 261, RMSE: 0.6660035252571106, znorm: 5.5010504722595215\n",
      "[0.03193267 0.15237159]\n",
      "vmax = 0.14275331795215607, vmin = 0.07455814629793167\n",
      "lr = 0.0020856043996661023, lam = 7.235133302980775e-05\n",
      "it: 262, RMSE: 0.6533189415931702, znorm: 5.530825614929199\n",
      "[0.03177835 0.15230214]\n",
      "vmax = 0.14247359335422516, vmin = 0.07435144484043121\n",
      "lr = 0.0020856043996661023, lam = 7.235133302980775e-05\n",
      "it: 263, RMSE: 0.6558569669723511, znorm: 5.485764026641846\n",
      "[0.03214864 0.15243913]\n",
      "vmax = 0.14308874309062958, vmin = 0.07471192628145218\n",
      "lr = 0.0020647483556694413, lam = 6.149863307533659e-05\n",
      "it: 264, RMSE: 0.6552236080169678, znorm: 5.509624004364014\n",
      "[0.03192528 0.1523531 ]\n",
      "vmax = 0.14275522530078888, vmin = 0.0745738074183464\n",
      "lr = 0.0020647483556694413, lam = 6.149863307533659e-05\n",
      "it: 265, RMSE: 0.6533127427101135, znorm: 5.491408824920654\n",
      "[0.03174446 0.15229076]\n",
      "vmax = 0.1424456238746643, vmin = 0.0743674486875534\n",
      "lr = 0.0020647483556694413, lam = 6.149863307533659e-05\n",
      "it: 266, RMSE: 0.6678063869476318, znorm: 5.4591498374938965\n",
      "[0.03208776 0.15246691]\n",
      "vmax = 0.14318351447582245, vmin = 0.07461386919021606\n",
      "lr = 0.0020441008721127467, lam = 5.2273838114036105e-05\n",
      "it: 267, RMSE: 0.6424920558929443, znorm: 5.537761688232422\n",
      "[0.03184022 0.15236905]\n",
      "vmax = 0.14278802275657654, vmin = 0.07435129582881927\n",
      "lr = 0.0020441008721127467, lam = 5.2273838114036105e-05\n",
      "it: 268, RMSE: 0.6725260019302368, znorm: 5.500423431396484\n",
      "[0.03231271 0.15257829]\n",
      "vmax = 0.14392168819904327, vmin = 0.07515178620815277\n",
      "lr = 0.0020441008721127467, lam = 5.2273838114036105e-05\n",
      "it: 269, RMSE: 0.721906840801239, znorm: 5.587570667266846\n",
      "[0.03150034 0.1522542 ]\n",
      "vmax = 0.14251145720481873, vmin = 0.07386046648025513\n",
      "lr = 0.002023659863391619, lam = 4.4432762396930686e-05\n",
      "it: 270, RMSE: 0.6774808764457703, znorm: 5.495384693145752\n",
      "[0.03174995 0.15236718]\n",
      "vmax = 0.14322581887245178, vmin = 0.07400783151388168\n",
      "lr = 0.002023659863391619, lam = 4.4432762396930686e-05\n",
      "it: 271, RMSE: 0.6530497670173645, znorm: 5.540600776672363\n",
      "[0.03198481 0.15246646]\n",
      "vmax = 0.14370034635066986, vmin = 0.07460768520832062\n",
      "lr = 0.002023659863391619, lam = 4.4432762396930686e-05\n",
      "it: 272, RMSE: 0.6711196899414062, znorm: 5.57984733581543\n",
      "[0.03186957 0.15242773]\n",
      "vmax = 0.14365637302398682, vmin = 0.07443362474441528\n",
      "lr = 0.002003423264757703, lam = 3.776784803739108e-05\n",
      "it: 273, RMSE: 0.6512280702590942, znorm: 5.551810264587402\n",
      "[0.03131123 0.15222635]\n",
      "vmax = 0.14254574477672577, vmin = 0.07357154041528702\n",
      "lr = 0.002003423264757703, lam = 3.776784803739108e-05\n",
      "it: 274, RMSE: 0.6964781284332275, znorm: 5.524086952209473\n",
      "[0.03169485 0.15238109]\n",
      "vmax = 0.1432609111070633, vmin = 0.0739818811416626\n",
      "lr = 0.002003423264757703, lam = 3.776784803739108e-05\n",
      "it: 275, RMSE: 0.6444903016090393, znorm: 5.559484481811523\n",
      "[0.03168785 0.15235912]\n",
      "vmax = 0.14288857579231262, vmin = 0.07427703589200974\n",
      "lr = 0.001983389032110126, lam = 3.210267083178242e-05\n",
      "it: 276, RMSE: 0.6474502682685852, znorm: 5.552637100219727\n",
      "[0.03170838 0.15236926]\n",
      "vmax = 0.14294597506523132, vmin = 0.0745072066783905\n",
      "lr = 0.001983389032110126, lam = 3.210267083178242e-05\n",
      "it: 277, RMSE: 0.6604846119880676, znorm: 5.556857109069824\n",
      "[0.03155646 0.15231099]\n",
      "vmax = 0.14238500595092773, vmin = 0.07428941130638123\n",
      "lr = 0.001983389032110126, lam = 3.210267083178242e-05\n",
      "it: 278, RMSE: 0.6589462161064148, znorm: 5.5117621421813965\n",
      "[0.03205622 0.15250764]\n",
      "vmax = 0.14335575699806213, vmin = 0.07476115226745605\n",
      "lr = 0.0019635551417890246, lam = 2.728727020701506e-05\n",
      "it: 279, RMSE: 0.6642847657203674, znorm: 5.566671371459961\n",
      "[0.03163829 0.15234266]\n",
      "vmax = 0.14269410073757172, vmin = 0.07436512410640717\n",
      "lr = 0.0019635551417890246, lam = 2.728727020701506e-05\n",
      "it: 280, RMSE: 0.6395357847213745, znorm: 5.528086185455322\n",
      "[0.03183655 0.15241   ]\n",
      "vmax = 0.1429958939552307, vmin = 0.07469865679740906\n",
      "lr = 0.0019635551417890246, lam = 2.728727020701506e-05\n",
      "it: 281, RMSE: 0.6341336965560913, znorm: 5.527499675750732\n",
      "[0.03189123 0.15244248]\n",
      "vmax = 0.14326044917106628, vmin = 0.07466146349906921\n",
      "lr = 0.0019439195903711343, lam = 2.31941796759628e-05\n",
      "it: 282, RMSE: 0.6390906572341919, znorm: 5.535267353057861\n",
      "[0.03155236 0.15231244]\n",
      "vmax = 0.14268264174461365, vmin = 0.07413573563098907\n",
      "lr = 0.0019439195903711343, lam = 2.31941796759628e-05\n",
      "it: 283, RMSE: 0.6418449282646179, znorm: 5.519008636474609\n",
      "[0.03164269 0.15234823]\n",
      "vmax = 0.14296725392341614, vmin = 0.07407625019550323\n",
      "lr = 0.0019439195903711343, lam = 2.31941796759628e-05\n",
      "it: 284, RMSE: 0.6398190259933472, znorm: 5.537760257720947\n",
      "[0.03177479 0.15237793]\n",
      "vmax = 0.14293360710144043, vmin = 0.07427069544792175\n",
      "lr = 0.0019244803944674228, lam = 1.971505272456838e-05\n",
      "it: 285, RMSE: 0.6360782384872437, znorm: 5.531732082366943\n",
      "[0.03184794 0.15241748]\n",
      "vmax = 0.14306502044200897, vmin = 0.07446704804897308\n",
      "lr = 0.0019244803944674228, lam = 1.971505272456838e-05\n",
      "it: 286, RMSE: 0.6467807292938232, znorm: 5.553883075714111\n",
      "[0.03157105 0.15229119]\n",
      "vmax = 0.1424180120229721, vmin = 0.07423882186412811\n",
      "lr = 0.0019244803944674228, lam = 1.971505272456838e-05\n",
      "it: 287, RMSE: 0.6390149593353271, znorm: 5.511034965515137\n",
      "[0.03173722 0.15237338]\n",
      "vmax = 0.14335648715496063, vmin = 0.07437054812908173\n",
      "lr = 0.0019052355905227487, lam = 1.6757794815883122e-05\n",
      "it: 288, RMSE: 0.6453144550323486, znorm: 5.5293731689453125\n",
      "[0.03173601 0.15238084]\n",
      "vmax = 0.1433510035276413, vmin = 0.07442630082368851\n",
      "lr = 0.0019052355905227487, lam = 1.6757794815883122e-05\n",
      "it: 289, RMSE: 0.6449214220046997, znorm: 5.526383876800537\n",
      "[0.03143521 0.15226903]\n",
      "vmax = 0.14276908338069916, vmin = 0.07401439547538757\n",
      "lr = 0.0019052355905227487, lam = 1.6757794815883122e-05\n",
      "it: 290, RMSE: 0.6727859973907471, znorm: 5.500754356384277\n",
      "[0.03153369 0.15232306]\n",
      "vmax = 0.14272885024547577, vmin = 0.0739203691482544\n",
      "lr = 0.0018861832346175212, lam = 1.4244125593500653e-05\n",
      "it: 291, RMSE: 0.6401205062866211, znorm: 5.536449909210205\n",
      "[0.03174469 0.15237497]\n",
      "vmax = 0.14268167316913605, vmin = 0.07450135052204132\n",
      "lr = 0.0018861832346175212, lam = 1.4244125593500653e-05\n",
      "it: 292, RMSE: 0.6509382724761963, znorm: 5.547509670257568\n",
      "[0.03175057 0.15238163]\n",
      "vmax = 0.1428096443414688, vmin = 0.07449944317340851\n",
      "lr = 0.0018861832346175212, lam = 1.4244125593500653e-05\n",
      "it: 293, RMSE: 0.6450390219688416, znorm: 5.550692081451416\n",
      "[0.03173273 0.15237838]\n",
      "vmax = 0.14257293939590454, vmin = 0.07441924512386322\n",
      "lr = 0.001867321402271346, lam = 1.2107506754475555e-05\n",
      "it: 294, RMSE: 0.6537472605705261, znorm: 5.553159713745117\n",
      "[0.0317895  0.15240505]\n",
      "vmax = 0.14263519644737244, vmin = 0.07461755722761154\n",
      "lr = 0.001867321402271346, lam = 1.2107506754475555e-05\n",
      "it: 295, RMSE: 0.6558767557144165, znorm: 5.563480377197266\n",
      "[0.03156513 0.1523146 ]\n",
      "vmax = 0.14240357279777527, vmin = 0.0742907002568245\n",
      "lr = 0.001867321402271346, lam = 1.2107506754475555e-05\n",
      "it: 296, RMSE: 0.6357647776603699, znorm: 5.540815830230713\n",
      "[0.0313727  0.15222495]\n",
      "vmax = 0.14212355017662048, vmin = 0.07397115230560303\n",
      "lr = 0.0018486481882486324, lam = 1.0291380741304221e-05\n",
      "it: 297, RMSE: 0.6731139421463013, znorm: 5.497824668884277\n",
      "[0.0317783  0.15242216]\n",
      "vmax = 0.1433088183403015, vmin = 0.07429441809654236\n",
      "lr = 0.0018486481882486324, lam = 1.0291380741304221e-05\n",
      "it: 298, RMSE: 0.6581150889396667, znorm: 5.555344104766846\n",
      "[0.03188443 0.15249004]\n",
      "vmax = 0.14353786408901215, vmin = 0.07445266842842102\n",
      "lr = 0.0018486481882486324, lam = 1.0291380741304221e-05\n",
      "it: 299, RMSE: 0.6699674725532532, znorm: 5.572437763214111\n",
      "it: 300, RMSE: 0.7092671990394592, znorm: 5.490110874176025\n",
      "init: 0, dRMSE: 0.6341, mRMSE: 0.4215, ||z||: 5.5275\n",
      "\n",
      "computation time: 00:12:08\n"
     ]
    }
   ],
   "source": [
    "# Define inversion parameters and run the VAE-SGD inversion:\n",
    "\n",
    "SGDpars.epochs = 20 # number of epochs (total number of iterations is n_eps*(ndata/batch_size))\n",
    "SGDpars.batch_size = 19 #len(indsmasked) # size of data batch (must be an integer factor of ndata)\n",
    "SGDpars.zinit = zin # load initial models (latents)\n",
    "SGDpars.velinit = np.array([0.01,0.18]) # initial values for velocity linear model.\n",
    "SGDpars.DGM = 'VAE'\n",
    "SGDpars.gen = netG # generator function from DGM\n",
    "SGDpars.reg = 'origin' # use 'ring', 'origin' or 'none'\n",
    "SGDpars.lr = 0.005 # initial value for learning rate.\n",
    "SGDpars.optimizer = 'SGD' # use 'SGD' or 'Adam'\n",
    "SGDpars.clr = 0.99 # constant for decreasing learning rate.\n",
    "SGDpars.lam = 100 # initial value for regularization factor (in this case works in the latent space).\n",
    "SGDpars.clam = 0.85 # constant for decreasing regularization factor lambda.\n",
    "SGDpars.step_eps = 3 # number of epochs for which to decrease learning rate and reg. factor\n",
    "#SGDpars.truemodel = x_true\n",
    "t0 = time.time()\n",
    "dRMSEs,mRMSEs,models_costmin,vels,zs = SGD_ninits(SGDpars)\n",
    "tf = time.time()-t0\n",
    "stf = time.strftime(\"%H:%M:%S\", time.gmtime(tf))\n",
    "print('\\ncomputation time: {0}'.format(stf))"
   ]
  },
  {
   "cell_type": "code",
   "execution_count": 43,
   "metadata": {},
   "outputs": [
    {
     "name": "stdout",
     "output_type": "stream",
     "text": [
      "accepted model ring clip: 0\n",
      "lr = 0.005\n",
      "min for iteration #: 281\n",
      "min data RMSE: 0.6341336965560913\n",
      "z norm at min: 5.527499675750732\n",
      "z at min:[[ 0.45   1.254 -0.745 -0.847 -1.824 -0.49  -0.735  0.035  0.959 -0.07\n",
      "  -0.878 -0.844  0.015 -0.022 -0.811  0.511 -1.131  2.577 -0.272  0.381\n",
      "   0.242 -0.004  1.457  0.588  0.118 -1.609  0.125  0.184  0.771  0.964\n",
      "  -0.474 -0.015  0.745  0.22  -1.634 -0.066  0.263 -0.421  1.208 -0.136]]\n"
     ]
    },
    {
     "name": "stderr",
     "output_type": "stream",
     "text": [
      "<ipython-input-43-c961bda227c9>:66: UserWarning: This figure was using constrained_layout==True, but that is incompatible with subplots_adjust and or tight_layout: setting constrained_layout==False. \n",
      "  fig.tight_layout()\n"
     ]
    },
    {
     "data": {
      "image/png": "[encoded data removed]",
      "text/plain": [
       "<Figure size 648x360 with 4 Axes>"
      ]
     },
     "metadata": {
      "needs_background": "light"
     },
     "output_type": "display_data"
    }
   ],
   "source": [
    "# Extract values in minimum for each initial model:\n",
    "suffix = 'mc1'\n",
    "dRMSEs_min = []\n",
    "zs_min = []\n",
    "for i in range(len(dRMSEs)):\n",
    "    it_min = np.argmin(dRMSEs[i])\n",
    "    dRMSEs_min.append(dRMSEs[i][it_min])\n",
    "    zs_min.append(zs[i][it_min])\n",
    "\n",
    "# Number of accepted models:\n",
    "updict = {'mc1':0.620,'mc2':0.757,'mc3':1.440,'mv1':1.119,'mv2':1.046,'mv3':1.363}\n",
    "uplim = updict[suffix]\n",
    "acmods = np.sum(np.array(dRMSEs_min)<=uplim)\n",
    "print('accepted model ring clip: {0}'.format(acmods))\n",
    "\n",
    "# Plot dRMSE vs iterations for one model.\n",
    "mi = 0\n",
    "datcost = dRMSEs[mi]\n",
    "modelcost = mRMSEs[mi]\n",
    "it_min = np.argmin(datcost)\n",
    "print('lr = {0}'.format(SGDpars.lr))\n",
    "print('min for iteration #: {0}'.format(it_min))\n",
    "print('min data RMSE: {0}'.format(dRMSEs_min[mi]))\n",
    "print('z norm at min: {0}'.format(np.linalg.norm(zs_min[mi])))\n",
    "with np.printoptions(precision=3, suppress=True):\n",
    "    print('z at min:{0}'.format(zs_min[mi]))\n",
    "\n",
    "# Get znorms vs. iterations\n",
    "znorms = np.zeros(len(zs[0]))\n",
    "for i in range(len(znorms)):\n",
    "    znorms[i] = np.linalg.norm(zs[mi][i][:][0])\n",
    "\n",
    "# joint subplot\n",
    "fig = plt.figure(figsize=(9,5), constrained_layout=True)\n",
    "grid = fig.add_gridspec(3,3)\n",
    "\n",
    "# first\n",
    "ax = fig.add_subplot(grid[:,0])\n",
    "ax.imshow(models_costmin[mi], cmap='Greys', extent=extent, origin='upper')\n",
    "ax.set_title('inverted')\n",
    "\n",
    "# second\n",
    "#ax = fig.add_subplot(grid[:,1])\n",
    "#ax.imshow(x_true[0,0,:,:], cmap='Greys_r')\n",
    "#ax.set_title('true')\n",
    "\n",
    "# third\n",
    "ax = fig.add_subplot(grid[0,1:])\n",
    "ax.plot(datcost, c='orange')\n",
    "ax.set_ylim((0.0,8.0))\n",
    "ax.set_ylabel('loss')\n",
    "\n",
    "# fourth\n",
    "ax = fig.add_subplot(grid[1,1:])\n",
    "ax.plot(modelcost)\n",
    "#ax.set_ylim((0.0,1.0))\n",
    "ax.set_ylabel('model loss')\n",
    "\n",
    "# fifth\n",
    "ax = fig.add_subplot(grid[2,1:])\n",
    "ax.plot(znorms,c='g')\n",
    "ax.set_ylim((0.0,20.0))\n",
    "ax.set_ylabel('||z||')\n",
    "ax.set_xlabel('iteration')\n",
    "\n",
    "fig.tight_layout()"
   ]
  },
  {
   "cell_type": "markdown",
   "metadata": {},
   "source": [
    "## Check and save results:"
   ]
  },
  {
   "cell_type": "code",
   "execution_count": 44,
   "metadata": {},
   "outputs": [
    {
     "data": {
      "text/plain": [
       "<matplotlib.colorbar.Colorbar at 0x7f0110275280>"
      ]
     },
     "execution_count": 44,
     "metadata": {},
     "output_type": "execute_result"
    },
    {
     "data": {
      "image/png": "[encoded data removed]",
      "text/plain": [
       "<Figure size 432x288 with 2 Axes>"
      ]
     },
     "metadata": {
      "needs_background": "light"
     },
     "output_type": "display_data"
    }
   ],
   "source": [
    "# plot one inverted velocity model:\n",
    "fig,ax = plt.subplots() \n",
    "model_p = vels[0][it_min][0]+vels[0][it_min][1]*(models_costmin[mi])\n",
    "vmax,vmin = 0.15,0.07\n",
    "cb = ax.imshow(model_p,vmin=vmin,vmax=vmax, extent=extent, origin='upper')\n",
    "fig.colorbar(cb)"
   ]
  },
  {
   "cell_type": "code",
   "execution_count": 45,
   "metadata": {},
   "outputs": [
    {
     "name": "stdout",
     "output_type": "stream",
     "text": [
      "0.7293442\n",
      "0.28122896\n"
     ]
    }
   ],
   "source": [
    "print(np.max(models_costmin[mi]))\n",
    "print(np.min(models_costmin[mi]))"
   ]
  },
  {
   "cell_type": "code",
   "execution_count": 46,
   "metadata": {},
   "outputs": [
    {
     "data": {
      "text/plain": [
       "(array([ 536., 1824., 2631., 1518.,   68.,   48.,   36.,   33.,   34.,\n",
       "          27.,   51.,   52.,   57.,   48.,   35.,   56.,  140.,  420.,\n",
       "         653.,  118.]),\n",
       " array([0.07469866, 0.07811352, 0.08152838, 0.08494324, 0.0883581 ,\n",
       "        0.09177297, 0.09518783, 0.09860269, 0.10201755, 0.10543241,\n",
       "        0.10884728, 0.11226214, 0.115677  , 0.11909186, 0.12250672,\n",
       "        0.12592158, 0.12933645, 0.13275132, 0.13616617, 0.13958102,\n",
       "        0.1429959 ], dtype=float32),\n",
       " <BarContainer object of 20 artists>)"
      ]
     },
     "execution_count": 46,
     "metadata": {},
     "output_type": "execute_result"
    },
    {
     "data": {
      "image/png": "[encoded data removed]",
      "text/plain": [
       "<Figure size 432x288 with 1 Axes>"
      ]
     },
     "metadata": {
      "needs_background": "light"
     },
     "output_type": "display_data"
    }
   ],
   "source": [
    "# histogram of velocities for inverted model:\n",
    "plt.hist(model_p.flatten(),bins=20)"
   ]
  },
  {
   "cell_type": "code",
   "execution_count": 47,
   "metadata": {},
   "outputs": [],
   "source": [
    "# Save results:\n",
    "# create directory first time or only use as target for save when it already exists:\n",
    "runstr = '{0}'.format(runint)\n",
    "sdir = 'Results_{}'.format(casestr)\n",
    "if sdir not in os.listdir():\n",
    "    os.mkdir(sdir)"
   ]
  },
  {
   "cell_type": "code",
   "execution_count": 48,
   "metadata": {},
   "outputs": [
    {
     "name": "stdout",
     "output_type": "stream",
     "text": [
      "saved for case: tl2ts2, run: 0\n"
     ]
    }
   ],
   "source": [
    "# save all\n",
    "\n",
    "# save as numpy arrays\n",
    "np.save('./{0}/dRMSEs_{1}.npy'.format(sdir,runstr),np.array(dRMSEs))\n",
    "np.save('./{0}/mRMSEs_{1}.npy'.format(sdir,runstr),np.array(mRMSEs))\n",
    "np.save('./{0}/modsmin_{1}.npy'.format(sdir,runstr),np.array(models_costmin))\n",
    "np.save('./{0}/vels_{1}.npy'.format(sdir,runstr),np.array(vels))\n",
    "np.save('./{0}/zs_{1}.npy'.format(sdir,runstr),np.array(zs))\n",
    "#np.save('./{0}/zinit_{1}.npy'.format(sdir,runstr),SGDpars.zinit)\n",
    "\n",
    "print('saved for case: {0}, run: {1}'.format(casestr,runstr))"
   ]
  },
  {
   "cell_type": "code",
   "execution_count": 49,
   "metadata": {},
   "outputs": [
    {
     "data": {
      "text/plain": [
       "<matplotlib.image.AxesImage at 0x7f0110155a30>"
      ]
     },
     "execution_count": 49,
     "metadata": {},
     "output_type": "execute_result"
    },
    {
     "data": {
      "image/png": "[encoded data removed]",
      "text/plain": [
       "<Figure size 432x288 with 1 Axes>"
      ]
     },
     "metadata": {
      "needs_background": "light"
     },
     "output_type": "display_data"
    }
   ],
   "source": [
    "# Check decoding of inverted latent vector z:\n",
    "modit = dnnmodel.decode(torch.tensor(zs[0][it_min]).to(device))\n",
    "\n",
    "fig,ax = plt.subplots()\n",
    "\n",
    "ax.imshow(modit.detach().cpu().numpy()[0,0,:,:],cmap='Greys',extent=extent, origin='upper')"
   ]
  },
  {
   "cell_type": "code",
   "execution_count": 50,
   "metadata": {},
   "outputs": [
    {
     "name": "stdout",
     "output_type": "stream",
     "text": [
      "0.6341337\n",
      "281\n",
      "(1, 301)\n"
     ]
    },
    {
     "data": {
      "text/plain": [
       "<matplotlib.image.AxesImage at 0x7f0110131100>"
      ]
     },
     "execution_count": 50,
     "metadata": {},
     "output_type": "execute_result"
    },
    {
     "data": {
      "image/png": "[encoded data removed]",
      "text/plain": [
       "<Figure size 432x288 with 1 Axes>"
      ]
     },
     "metadata": {
      "needs_background": "light"
     },
     "output_type": "display_data"
    }
   ],
   "source": [
    "# load saved model:\n",
    "#sdir = 'Results_{0}'.format(casestr)\n",
    "#runstr = '0'\n",
    "modload = np.load('./{0}/modsmin_{1}.npy'.format(sdir,runstr))\n",
    "dRMSEload = np.load('./{0}/dRMSEs_{1}.npy'.format(sdir,runstr))\n",
    "velsload = np.load('./{0}/vels_{1}.npy'.format(sdir,runstr))\n",
    "zsload = np.load('./{0}/zs_{1}.npy'.format(sdir,runstr))\n",
    "#zinitload = np.load('./{0}/zinit_{1}.npy'.format(sdir,runstr))\n",
    "print(np.min(dRMSEload))\n",
    "print(np.argmin(dRMSEload))\n",
    "#print(zinitload)\n",
    "print(dRMSEload.shape)\n",
    "\n",
    "fig,ax = plt.subplots()\n",
    "\n",
    "ax.imshow(modload[0,:,:],cmap='Greys',extent=extent, origin='upper')"
   ]
  },
  {
   "cell_type": "markdown",
   "metadata": {},
   "source": [
    "## Run forward simulation for inverted model:"
   ]
  },
  {
   "cell_type": "code",
   "execution_count": 51,
   "metadata": {},
   "outputs": [],
   "source": [
    "modrec = netG(torch.Tensor(zsload[0,it_min:,:]).to(device))\n",
    "modrec = modrec.detach().cpu().numpy()\n",
    "modrec = modrec[0,:,:]"
   ]
  },
  {
   "cell_type": "code",
   "execution_count": 52,
   "metadata": {},
   "outputs": [
    {
     "data": {
      "text/plain": [
       "<matplotlib.colorbar.Colorbar at 0x7f0110245880>"
      ]
     },
     "execution_count": 52,
     "metadata": {},
     "output_type": "execute_result"
    },
    {
     "data": {
      "image/png": "[encoded data removed]",
      "text/plain": [
       "<Figure size 432x288 with 2 Axes>"
      ]
     },
     "metadata": {
      "needs_background": "light"
     },
     "output_type": "display_data"
    }
   ],
   "source": [
    "# Build inverted velocity distribution:\n",
    "it_load = np.argmin(np.array(dRMSEload[0]))\n",
    "velsinv = velsload[0][it_load]\n",
    "velocitymodel = velsinv[0] + velsinv[1]*modrec[0]\n",
    "sqsmodel = 1.0/(velocitymodel)**2\n",
    "sqsmodel = np.array(sqsmodel,dtype=np.float64)\n",
    "fig,ax = plt.subplots()\n",
    "vmax,vmin = 0.15,0.07\n",
    "cb = ax.imshow(velocitymodel,vmax=vmax,vmin=vmin,cmap='Greys',extent=extent, origin='upper')\n",
    "fig.colorbar(cb)"
   ]
  },
  {
   "cell_type": "code",
   "execution_count": 53,
   "metadata": {},
   "outputs": [
    {
     "name": "stdout",
     "output_type": "stream",
     "text": [
      "0.074698664\n",
      "0.1429959\n",
      "281\n"
     ]
    }
   ],
   "source": [
    "print(np.min(velocitymodel))\n",
    "print(np.max(velocitymodel))\n",
    "print(it_load)"
   ]
  },
  {
   "cell_type": "code",
   "execution_count": 54,
   "metadata": {},
   "outputs": [
    {
     "data": {
      "text/plain": [
       "array([0.03183655, 0.15241   ])"
      ]
     },
     "execution_count": 54,
     "metadata": {},
     "output_type": "execute_result"
    }
   ],
   "source": [
    "velsinv"
   ]
  },
  {
   "cell_type": "code",
   "execution_count": 55,
   "metadata": {},
   "outputs": [],
   "source": [
    "%julia D, pEik = getData($sqsmodel,pEik,false);"
   ]
  },
  {
   "cell_type": "code",
   "execution_count": 56,
   "metadata": {},
   "outputs": [],
   "source": [
    "Dp = %julia D"
   ]
  },
  {
   "cell_type": "code",
   "execution_count": 57,
   "metadata": {},
   "outputs": [],
   "source": [
    "from mpl_toolkits.axes_grid1 import make_axes_locatable"
   ]
  },
  {
   "cell_type": "code",
   "execution_count": 58,
   "metadata": {},
   "outputs": [
    {
     "name": "stdout",
     "output_type": "stream",
     "text": [
      "0.6341336643037948\n"
     ]
    },
    {
     "data": {
      "image/png": "[encoded data removed]",
      "text/plain": [
       "<Figure size 432x288 with 5 Axes>"
      ]
     },
     "metadata": {
      "needs_background": "light"
     },
     "output_type": "display_data"
    }
   ],
   "source": [
    "# Mask data and compute RMSE:\n",
    "mskreal = np.reshape(v,(25,25))\n",
    "mskreal = np.array(mskreal,dtype=bool)\n",
    "mskreal = np.invert(mskreal)\n",
    "realdata = ttdata.reshape((25,25))\n",
    "realdmasked = np.ma.array(realdata,mask=mskreal)\n",
    "simdata = Dp.flatten(order='F')\n",
    "simdata = simdata.reshape((25,25))\n",
    "simdmasked = np.ma.array(simdata,mask=mskreal)\n",
    "\n",
    "# Compute overall max and min for traveltime colorbar:\n",
    "vmax = np.max([np.ma.max(realdmasked),np.ma.max(simdmasked)])\n",
    "vmin = np.min([np.ma.min(realdmasked),np.ma.min(simdmasked)])\n",
    "\n",
    "# Plot observed data, simulated data for inverted model and difference (errors).\n",
    "fig,ax = plt.subplots(1,3,constrained_layout=True)\n",
    "\n",
    "# Observed data:\n",
    "cb1 = ax[0].imshow(realdmasked,vmin=vmin,vmax=vmax)\n",
    "\n",
    "# Simulated data for inverted model:\n",
    "ax[1].imshow(simdmasked,vmin=vmin,vmax=vmax)\n",
    "ax[1].set_yticklabels([])\n",
    "fig.colorbar(cb1,ax=ax[1],shrink=0.35)\n",
    "\n",
    "# Difference between them (errors):\n",
    "cb2 = ax[2].imshow(realdmasked-simdmasked)\n",
    "ax[2].set_yticklabels([])\n",
    "fig.colorbar(cb2,ax=ax[2],shrink=0.35)\n",
    "\n",
    "# Compute and print RMSE:\n",
    "rmse = np.sqrt(np.mean((realdmasked-simdmasked)**2))\n",
    "print(rmse)"
   ]
  },
  {
   "cell_type": "code",
   "execution_count": 59,
   "metadata": {},
   "outputs": [],
   "source": [
    "%julia onedum = $onesmasked; mdum = reshape($sqsmodel,length($m)); Jvr = getSensTMatVec(onedum,mdum,pEik);"
   ]
  },
  {
   "cell_type": "code",
   "execution_count": 60,
   "metadata": {},
   "outputs": [],
   "source": [
    "Jvrp = %julia Jvr"
   ]
  },
  {
   "cell_type": "code",
   "execution_count": 61,
   "metadata": {},
   "outputs": [
    {
     "data": {
      "text/plain": [
       "<matplotlib.image.AxesImage at 0x7f00fbee4dc0>"
      ]
     },
     "execution_count": 61,
     "metadata": {},
     "output_type": "execute_result"
    },
    {
     "data": {
      "image/png": "[encoded data removed]",
      "text/plain": [
       "<Figure size 216x360 with 1 Axes>"
      ]
     },
     "metadata": {
      "needs_background": "light"
     },
     "output_type": "display_data"
    }
   ],
   "source": [
    "# total sensitivity\n",
    "fig,ax = plt.subplots(figsize=(3,5))\n",
    "plt.imshow(Jvrp.reshape(129,65,order='F'),extent=extent,origin='upper')"
   ]
  },
  {
   "cell_type": "code",
   "execution_count": null,
   "metadata": {},
   "outputs": [],
   "source": []
  }
 ],
 "metadata": {
  "kernelspec": {
   "display_name": "Python 3",
   "language": "python",
   "name": "python3"
  },
  "language_info": {
   "codemirror_mode": {
    "name": "ipython",
    "version": 3
   },
   "file_extension": ".py",
   "mimetype": "text/x-python",
   "name": "python",
   "nbconvert_exporter": "python",
   "pygments_lexer": "ipython3",
   "version": "3.8.5"
  }
 },
 "nbformat": 4,
 "nbformat_minor": 2
}
